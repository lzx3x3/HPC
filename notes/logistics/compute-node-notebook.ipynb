{
 "cells": [
  {
   "cell_type": "markdown",
   "metadata": {},
   "source": [
    "# Running a jupyter notebook on a compute node\n",
    "\n",
    "As discussed in the quick-start guide for [pace-ice](./pace-ice.ipynb), you can use X Window forwarding to open GUI windows from the compute nodes of pace-ice.  This is one method that can be used to open a jupyter notebook on a compute node.\n",
    "\n",
    "As many of you have probably experienced, the screen refresh rate can be quite poor when you do this.\n",
    "\n",
    "But the command `jupyter notebook` creates a server that can handle any requests from *any* browser that can connect to it.  There is a way to connect a browser running on *your* computer to a notebook on a compute node."
   ]
  },
  {
   "cell_type": "markdown",
   "metadata": {},
   "source": [
    "I've created a job script in the utils directory, `utils/jupyter_notebook_job.sh`, that you can use to do this:\n",
    "\n",
    "- The job should be submitted like any other job, with the `qsub` command.  There is no\n",
    "  need to specify X window forwarding.  The jobscript is spare, which means that you need\n",
    "  to specify resource requirements on the command line, like so:"
   ]
  },
  {
   "cell_type": "code",
   "execution_count": 1,
   "metadata": {},
   "outputs": [
    {
     "name": "stdout",
     "output_type": "stream",
     "text": [
      "/nv/coc-ice/mguo34/cse6230\n"
     ]
    }
   ],
   "source": [
    "echo $CSE6230_DIR"
   ]
  },
  {
   "cell_type": "code",
   "execution_count": null,
   "metadata": {},
   "outputs": [],
   "source": [
    "qsub -l walltime=00:30:00 $CSE6230_DIR/utils/jupyter_notebook_job.sh"
   ]
  },
  {
   "cell_type": "markdown",
   "metadata": {},
   "source": [
    "- Once the job has started, it will create an output file `jupyter.YYY.log`, where `YYY` is\n",
    "  the job id that was assigned by `qsub`, and that output file will contain instructions\n",
    "  for connecting to your notebook.  **Note:** the file system on pace-ice sometimes takes\n",
    "  awhile to synchronize between head nodes and compute nodes, so don't be surprised if it\n",
    "  takes a minute for all of the instructions to show up in the file.  The instructions will\n",
    "  ask you to open an ssh tunnel to the compute node that looks like:"
   ]
  },
  {
   "cell_type": "code",
   "execution_count": null,
   "metadata": {},
   "outputs": [],
   "source": [
    "ssh -t -L PPPP:localhost:PPPP gtuser@coc-ice.pace.gatech.edu ssh -L PPPP:localhost:PPPP compute-node"
   ]
  },
  {
   "cell_type": "markdown",
   "metadata": {},
   "source": [
    "- After that the notebook will start and the web address will be appended to the logfile\n",
    "  (again, due to the lag in the file system, it may take a minute).  After you open the ssh\n",
    "  tunnel (and leave it open: don't close the terminal where you run the command), you will\n",
    "  be able to reach the notebook at that address from a browser on your computer.\n",
    "  \n",
    "- When you are done with the notebook session, be sure to click the `Quit` button in the\n",
    "  upper-right of the window.  This will end the notebook server, the job script, and the \n",
    "  ssh tunnel.  If you forget, the notebook will keep running, tying up the compute node,\n",
    "  which other people may be waiting to use."
   ]
  }
 ],
 "metadata": {
  "kernelspec": {
   "display_name": "Bash",
   "language": "bash",
   "name": "bash"
  },
  "language_info": {
   "codemirror_mode": "shell",
   "file_extension": ".sh",
   "mimetype": "text/x-sh",
   "name": "bash"
  }
 },
 "nbformat": 4,
 "nbformat_minor": 2
}
