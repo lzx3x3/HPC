{
 "cells": [
  {
   "cell_type": "markdown",
   "metadata": {},
   "source": [
    "# Running our Ping Pong test"
   ]
  },
  {
   "cell_type": "markdown",
   "metadata": {},
   "source": [
    "I am going to run the ping pong test with the mvapich2 MPI implementation:"
   ]
  },
  {
   "cell_type": "code",
   "execution_count": null,
   "metadata": {},
   "outputs": [],
   "source": [
    "module unload cse6230\n",
    "module load cse6230/gcc-omp-gpu"
   ]
  },
  {
   "cell_type": "code",
   "execution_count": null,
   "metadata": {},
   "outputs": [],
   "source": [
    "which mpicc"
   ]
  },
  {
   "cell_type": "markdown",
   "metadata": {},
   "source": [
    "How many cores do I have?"
   ]
  },
  {
   "cell_type": "code",
   "execution_count": null,
   "metadata": {},
   "outputs": [],
   "source": [
    "echo ${PBS_NP}"
   ]
  },
  {
   "cell_type": "markdown",
   "metadata": {},
   "source": [
    "Where are they?"
   ]
  },
  {
   "cell_type": "code",
   "execution_count": null,
   "metadata": {},
   "outputs": [],
   "source": [
    "cat ${PBS_NODEFILE} | uniq"
   ]
  },
  {
   "cell_type": "code",
   "execution_count": null,
   "metadata": {},
   "outputs": [],
   "source": [
    "make clean\n",
    "make osu_latency"
   ]
  },
  {
   "cell_type": "markdown",
   "metadata": {},
   "source": [
    "Let's run the basic test:"
   ]
  },
  {
   "cell_type": "code",
   "execution_count": null,
   "metadata": {},
   "outputs": [],
   "source": [
    "mpirun -np 2 ./osu_latency"
   ]
  },
  {
   "cell_type": "markdown",
   "metadata": {},
   "source": [
    "**What are our estimates for the latency and bandwidth from this? What is the inverse bandwidth?**"
   ]
  },
  {
   "cell_type": "markdown",
   "metadata": {},
   "source": [
    "Those numbers sound similar to memory bandwidth numbers, so it sounds like MPI is taking advantage of direct memcpy between processes.  Is that true?"
   ]
  },
  {
   "cell_type": "code",
   "execution_count": null,
   "metadata": {},
   "outputs": [],
   "source": [
    "mpirun -np 2 -env MV2_USE_SHARED_MEM 0 ./osu_latency"
   ]
  },
  {
   "cell_type": "markdown",
   "metadata": {},
   "source": [
    "Let's make sure we have control over where processes go with pinning (like OpenMP affinity):"
   ]
  },
  {
   "cell_type": "code",
   "execution_count": null,
   "metadata": {},
   "outputs": [],
   "source": [
    "mpirun -np 2 -env MV2_USE_SHARED_MEM 1 -env MV2_ENABLE_AFFINITY 1 ./osu_latency"
   ]
  },
  {
   "cell_type": "markdown",
   "metadata": {},
   "source": [
    "Now what if I run with 28 processes (the number of cores on one node)? 112 (the number of cores on all nodes)?"
   ]
  },
  {
   "cell_type": "code",
   "execution_count": null,
   "metadata": {},
   "outputs": [],
   "source": [
    "mpirun -np 28 -env MV2_USE_SHARED_MEM 1 -env MV2_ENABLE_AFFINITY 1 ./osu_latency | tail -n 25"
   ]
  },
  {
   "cell_type": "code",
   "execution_count": null,
   "metadata": {},
   "outputs": [],
   "source": [
    "mpirun -np 112 -env MV2_USE_SHARED_MEM 1 -env MV2_ENABLE_AFFINITY 1 ./osu_latency | tail -n 25"
   ]
  },
  {
   "cell_type": "markdown",
   "metadata": {},
   "source": [
    "All of the ping-pongs so far have been between rank 0 and rank 1.  With affinity, these are in the same NUMA domain.  What if I ping-pong between other ranks?"
   ]
  },
  {
   "cell_type": "code",
   "execution_count": null,
   "metadata": {},
   "outputs": [],
   "source": [
    "mpirun -np 112 -env MV2_USE_SHARED_MEM 1 -env MV2_ENABLE_AFFINITY 1 ./osu_latency 0 14 | tail -n 25"
   ]
  },
  {
   "cell_type": "code",
   "execution_count": null,
   "metadata": {},
   "outputs": [],
   "source": [
    "mpirun -np 112 -env MV2_USE_SHARED_MEM 1 -env MV2_ENABLE_AFFINITY 1 ./osu_latency 0 28 | tail -n 25"
   ]
  },
  {
   "cell_type": "code",
   "execution_count": null,
   "metadata": {},
   "outputs": [],
   "source": [
    "mpirun -np 112 -env MV2_USE_SHARED_MEM 1 -env MV2_ENABLE_AFFINITY 1 ./osu_latency 0 111 | tail -n 25"
   ]
  },
  {
   "cell_type": "code",
   "execution_count": null,
   "metadata": {},
   "outputs": [],
   "source": [
    "mpirun -np 112 -env MV2_USE_SHARED_MEM 1 -env MV2_ENABLE_AFFINITY 1 ./osu_latency 27 111 | tail -n 25"
   ]
  }
 ],
 "metadata": {
  "kernelspec": {
   "display_name": "Bash",
   "language": "bash",
   "name": "bash"
  },
  "language_info": {
   "codemirror_mode": "shell",
   "file_extension": ".sh",
   "mimetype": "text/x-sh",
   "name": "bash"
  }
 },
 "nbformat": 4,
 "nbformat_minor": 2
}
