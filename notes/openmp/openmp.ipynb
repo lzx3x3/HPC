{
 "cells": [
  {
   "cell_type": "markdown",
   "metadata": {},
   "source": [
    "# Introduction to OpenMP\n",
    "\n",
    "![streaming memory](./images/ram.jpg)\n",
    "\n",
    "\n",
    "This notebook contains some simple OpenMP examples to illustrate the OpenMP interface.\n",
    "\n",
    "You can find a more full featured tutorial from [Lawrence Livermore National Laboratory](https://computing.llnl.gov/tutorials/openMP/).\n",
    "\n",
    "This class is not designed to go into the interface in detail: you should feel comfortable looking something up in [the reference](https://www.openmp.org/wp-content/uploads/openmp-4.5.pdf).\n",
    "\n",
    "For the purposes of performance in this class, there are a few basic things you want to know about the directives in openMP:\n",
    "\n",
    "- When you are not giving specific directions to each worker thread, the openMP runtime will make some *scheduling* decisions, about how the work should be divided.  You should be aware of what the default scheduling is for different directives, and how you can control it.\n",
    "\n",
    "- Whenever work is not embarrassingly parallel, threads will interact, which means that the *synchronization* behavior of directives becomes important:\n",
    "  - What is the policy of the directive for handling oversubscribed resources (such as concurrent writes to the same location)?\n",
    "  - Does the construct have any *implicit synchronization*, such as a barrier at the start or end of the scope of the directive?"
   ]
  },
  {
   "cell_type": "code",
   "execution_count": 1,
   "metadata": {},
   "outputs": [],
   "source": [
    "module use $CSE6230_DIR/modulefiles"
   ]
  },
  {
   "cell_type": "code",
   "execution_count": 4,
   "metadata": {},
   "outputs": [
    {
     "name": "stdout",
     "output_type": "stream",
     "text": [
      " =========================================================================\n",
      "|                                                                         |\n",
      "|       A note about python/3.6:                                          |\n",
      "|       PACE is lacking the staff to install all of the python 3          |\n",
      "|       modules, but we do maintain an anaconda distribution for          |\n",
      "|       both python 2 and python 3. As conda significantly reduces        |\n",
      "|       the overhead with package management, we would much prefer        |\n",
      "|       to maintain python 3 through anaconda.                            |\n",
      "|                                                                         |\n",
      "|       All pace installed modules are visible via the module avail       |\n",
      "|       command.                                                          |\n",
      "|                                                                         |\n",
      " =========================================================================\n"
     ]
    }
   ],
   "source": [
    "module load cse6230"
   ]
  },
  {
   "cell_type": "code",
   "execution_count": 5,
   "metadata": {},
   "outputs": [],
   "source": [
    "cd $CSE6230_DIR/notes/openmp"
   ]
  },
  {
   "cell_type": "markdown",
   "metadata": {},
   "source": [
    "## Hello, world (OpenMP has environment variables)"
   ]
  },
  {
   "cell_type": "code",
   "execution_count": 6,
   "metadata": {},
   "outputs": [
    {
     "name": "stdout",
     "output_type": "stream",
     "text": [
      "\u001b[37m/* Hello threads: adapted from Edmond Chow's OpenMP notes */\u001b[39;49;00m\n",
      "\u001b[36m#\u001b[39;49;00m\u001b[36minclude\u001b[39;49;00m \u001b[37m<stdio.h>\u001b[39;49;00m\u001b[36m\u001b[39;49;00m\n",
      "\n",
      "\u001b[36mint\u001b[39;49;00m \u001b[32mmain\u001b[39;49;00m(\u001b[36mvoid\u001b[39;49;00m)\n",
      "{\n",
      "  printf (\u001b[33m\"\u001b[39;49;00m\u001b[33mYou're all individuals!\u001b[39;49;00m\u001b[33m\\n\u001b[39;49;00m\u001b[33m\"\u001b[39;49;00m);\n",
      "  \u001b[37m/* create a team of threads for the following structured block */\u001b[39;49;00m\n",
      "\u001b[36m#\u001b[39;49;00m\u001b[36mpragma omp parallel\u001b[39;49;00m\u001b[36m\u001b[39;49;00m\n",
      "  {\n",
      "    printf(\u001b[33m\"\u001b[39;49;00m\u001b[33mYes, we're all individuals!\u001b[39;49;00m\u001b[33m\\n\u001b[39;49;00m\u001b[33m\"\u001b[39;49;00m);\n",
      "  }\n",
      "  \u001b[37m/* team of threads join master thread after the structured block */\u001b[39;49;00m\n",
      "\n",
      "  \u001b[34mreturn\u001b[39;49;00m \u001b[34m0\u001b[39;49;00m;\n",
      "}\n"
     ]
    }
   ],
   "source": [
    "pygmentize openmp-ex00.c"
   ]
  },
  {
   "cell_type": "code",
   "execution_count": 9,
   "metadata": {},
   "outputs": [
    {
     "name": "stdout",
     "output_type": "stream",
     "text": [
      "icc -I../../utils/tictoc -g -O -Wall -qopenmp -o openmp-ex00 openmp-ex00.c \n",
      "You're all individuals!\n",
      "Yes, we're all individuals!\n"
     ]
    }
   ],
   "source": [
    "make -B openmp-ex00 # -B means \"force recompilation\" in this case\n",
    "./openmp-ex00"
   ]
  },
  {
   "cell_type": "markdown",
   "metadata": {},
   "source": [
    "Hmm, when I ran this, only one worker was present.  Let's see if I have the environment variable OMP_NUM_THREADS set:"
   ]
  },
  {
   "cell_type": "code",
   "execution_count": 10,
   "metadata": {},
   "outputs": [
    {
     "name": "stdout",
     "output_type": "stream",
     "text": [
      "1\n"
     ]
    }
   ],
   "source": [
    "echo $OMP_NUM_THREADS"
   ]
  },
  {
   "cell_type": "markdown",
   "metadata": {},
   "source": [
    "Let's try this again:"
   ]
  },
  {
   "cell_type": "code",
   "execution_count": 11,
   "metadata": {},
   "outputs": [
    {
     "name": "stdout",
     "output_type": "stream",
     "text": [
      "You're all individuals!\n",
      "Yes, we're all individuals!\n",
      "Yes, we're all individuals!\n",
      "Yes, we're all individuals!\n",
      "Yes, we're all individuals!\n"
     ]
    }
   ],
   "source": [
    "OMP_NUM_THREADS=4 ./openmp-ex00"
   ]
  },
  {
   "cell_type": "markdown",
   "metadata": {},
   "source": [
    "OpenMP is often used as a least-resistance path to parallelizing a program.  Because of that, a useful programming style for openmp is for the program to still be available *if openMP is not available*.  This is not possible with every style of parallelism in openMP (for example you can use openMP to set up a server/client type of parallelism which does not serialize), but is a useful guideline, particularly for debugging: if your program isn't doing the right thing without openMP, then the problem is elsewhere."
   ]
  },
  {
   "cell_type": "code",
   "execution_count": 15,
   "metadata": {},
   "outputs": [
    {
     "name": "stdout",
     "output_type": "stream",
     "text": [
      "icc -I../../utils/tictoc -g -O -Wall  -o openmp-ex00 openmp-ex00.c \n",
      "openmp-ex00.c(8): warning #3180: unrecognized OpenMP #pragma\n",
      "  #pragma omp parallel\n",
      "          ^\n",
      "\n",
      "You're all individuals!\n",
      "Yes, we're all individuals!\n"
     ]
    }
   ],
   "source": [
    "make -B openmp-ex00 OMPFLAGS=\"\"\n",
    "OMP_NUM_THREADS=4 ./openmp-ex00"
   ]
  },
  {
   "cell_type": "markdown",
   "metadata": {},
   "source": [
    "When compiled without support for the openMP runtime, the openMP environment variables do nothing"
   ]
  },
  {
   "cell_type": "markdown",
   "metadata": {},
   "source": [
    "## OpenMP has a C API as well\n",
    "\n",
    "So we can choose a level of parallelism a priori"
   ]
  },
  {
   "cell_type": "code",
   "execution_count": 16,
   "metadata": {},
   "outputs": [
    {
     "name": "stdout",
     "output_type": "stream",
     "text": [
      "\u001b[36m#\u001b[39;49;00m\u001b[36minclude\u001b[39;49;00m \u001b[37m<stdio.h>\u001b[39;49;00m\u001b[36m\u001b[39;49;00m\n",
      "\u001b[37m/* OpenMP includes some library calls, for which we need the header file */\u001b[39;49;00m\n",
      "\u001b[36m#\u001b[39;49;00m\u001b[36minclude\u001b[39;49;00m \u001b[37m<omp.h>\u001b[39;49;00m\u001b[36m\u001b[39;49;00m\n",
      "\n",
      "\u001b[36mint\u001b[39;49;00m \u001b[32mmain\u001b[39;49;00m(\u001b[36mvoid\u001b[39;49;00m)\n",
      "{\n",
      "  \u001b[36mint\u001b[39;49;00m max_threads = \u001b[34m5\u001b[39;49;00m;\n",
      "\n",
      "  printf (\u001b[33m\"\u001b[39;49;00m\u001b[33mYou're all individuals!\u001b[39;49;00m\u001b[33m\\n\u001b[39;49;00m\u001b[33m\"\u001b[39;49;00m);\n",
      "\n",
      "  \u001b[37m/* one library call sets the number of threads in the next parallel region */\u001b[39;49;00m\n",
      "  omp_set_num_threads(max_threads);\n",
      "\u001b[36m#\u001b[39;49;00m\u001b[36mpragma omp parallel\u001b[39;49;00m\u001b[36m\u001b[39;49;00m\n",
      "  {\n",
      "    printf(\u001b[33m\"\u001b[39;49;00m\u001b[33mYes, we're all individuals!\u001b[39;49;00m\u001b[33m\\n\u001b[39;49;00m\u001b[33m\"\u001b[39;49;00m);\n",
      "  }\n",
      "\n",
      "  \u001b[34mreturn\u001b[39;49;00m \u001b[34m0\u001b[39;49;00m;\n",
      "}\n"
     ]
    }
   ],
   "source": [
    "pygmentize openmp-ex01.c"
   ]
  },
  {
   "cell_type": "code",
   "execution_count": 17,
   "metadata": {},
   "outputs": [
    {
     "name": "stdout",
     "output_type": "stream",
     "text": [
      "icc -I../../utils/tictoc -g -O -Wall -qopenmp -o openmp-ex01 openmp-ex01.c \n",
      "You're all individuals!\n",
      "Yes, we're all individuals!\n",
      "Yes, we're all individuals!\n",
      "Yes, we're all individuals!\n",
      "Yes, we're all individuals!\n",
      "Yes, we're all individuals!\n"
     ]
    }
   ],
   "source": [
    "make -B openmp-ex01\n",
    "./openmp-ex01"
   ]
  },
  {
   "cell_type": "markdown",
   "metadata": {},
   "source": [
    "Who wins in a fight between the environment variables and the C interfaces?"
   ]
  },
  {
   "cell_type": "code",
   "execution_count": 18,
   "metadata": {},
   "outputs": [
    {
     "name": "stdout",
     "output_type": "stream",
     "text": [
      "You're all individuals!\n",
      "Yes, we're all individuals!\n",
      "Yes, we're all individuals!\n",
      "Yes, we're all individuals!\n",
      "Yes, we're all individuals!\n",
      "Yes, we're all individuals!\n"
     ]
    }
   ],
   "source": [
    "OMP_NUM_THREADS=100 ./openmp-ex01"
   ]
  },
  {
   "cell_type": "markdown",
   "metadata": {},
   "source": [
    "Note that example 01 violates the \"valid without openMP\" approach:"
   ]
  },
  {
   "cell_type": "code",
   "execution_count": 19,
   "metadata": {},
   "outputs": [
    {
     "name": "stdout",
     "output_type": "stream",
     "text": [
      "icc -I../../utils/tictoc -g -O -Wall  -o openmp-ex01 openmp-ex01.c \n",
      "openmp-ex01.c(13): warning #3180: unrecognized OpenMP #pragma\n",
      "  #pragma omp parallel\n",
      "          ^\n",
      "\n",
      "/tmp/iccI85Iiu.o: In function `main':\n",
      "/nv/coc-ice/tisaac3/srv/rep/cse6230/notes/openmp/openmp-ex01.c:12: undefined reference to `omp_set_num_threads'\n",
      "make: *** [openmp-ex01] Error 1\n"
     ]
    },
    {
     "ename": "",
     "evalue": "2",
     "output_type": "error",
     "traceback": []
    }
   ],
   "source": [
    "make -B openmp-ex01 OMPFLAGS=\"\""
   ]
  },
  {
   "cell_type": "markdown",
   "metadata": {},
   "source": [
    "## OpenMP directives have Clauses\n",
    "\n",
    "Clauses are extra terms controling the behavior of `#pragma omp` directives.\n",
    "\n",
    "These can also be used to control the parallelism in the code.  Who wins in a fight between environment variables, the C interface, and clauses?"
   ]
  },
  {
   "cell_type": "code",
   "execution_count": 21,
   "metadata": {},
   "outputs": [
    {
     "name": "stdout",
     "output_type": "stream",
     "text": [
      "\u001b[36m#\u001b[39;49;00m\u001b[36minclude\u001b[39;49;00m \u001b[37m<stdio.h>\u001b[39;49;00m\u001b[36m\u001b[39;49;00m\n",
      "\u001b[36m#\u001b[39;49;00m\u001b[36minclude\u001b[39;49;00m \u001b[37m<omp.h>\u001b[39;49;00m\u001b[36m\u001b[39;49;00m\n",
      "\n",
      "\u001b[36mint\u001b[39;49;00m \u001b[32mmain\u001b[39;49;00m(\u001b[36mvoid\u001b[39;49;00m)\n",
      "{\n",
      "  \u001b[36mint\u001b[39;49;00m max_threads = \u001b[34m5\u001b[39;49;00m;\n",
      "\n",
      "  printf (\u001b[33m\"\u001b[39;49;00m\u001b[33mYou're all individuals!\u001b[39;49;00m\u001b[33m\\n\u001b[39;49;00m\u001b[33m\"\u001b[39;49;00m);\n",
      "\n",
      "  omp_set_num_threads(max_threads);\n",
      "  \u001b[37m/* now we have two competing values for the number of threads in this\u001b[39;49;00m\n",
      "\u001b[37m   * region: who wins? */\u001b[39;49;00m\n",
      "\u001b[36m#\u001b[39;49;00m\u001b[36mpragma omp parallel num_threads(7)\u001b[39;49;00m\u001b[36m\u001b[39;49;00m\n",
      "  {\n",
      "    printf(\u001b[33m\"\u001b[39;49;00m\u001b[33mYes, we're all individuals!\u001b[39;49;00m\u001b[33m\\n\u001b[39;49;00m\u001b[33m\"\u001b[39;49;00m);\n",
      "  }\n",
      "\n",
      "  \u001b[34mreturn\u001b[39;49;00m \u001b[34m0\u001b[39;49;00m;\n",
      "}\n"
     ]
    }
   ],
   "source": [
    "pygmentize openmp-ex02.c"
   ]
  },
  {
   "cell_type": "code",
   "execution_count": 22,
   "metadata": {},
   "outputs": [
    {
     "name": "stdout",
     "output_type": "stream",
     "text": [
      "icc -I../../utils/tictoc -g -O -Wall -qopenmp -o openmp-ex02 openmp-ex02.c \n",
      "You're all individuals!\n",
      "Yes, we're all individuals!\n",
      "Yes, we're all individuals!\n",
      "Yes, we're all individuals!\n",
      "Yes, we're all individuals!\n",
      "Yes, we're all individuals!\n",
      "Yes, we're all individuals!\n",
      "Yes, we're all individuals!\n"
     ]
    }
   ],
   "source": [
    "make -B openmp-ex02\n",
    "OMP_NUM_THREADS=1000 ./openmp-ex02"
   ]
  },
  {
   "cell_type": "markdown",
   "metadata": {},
   "source": [
    "It looks like clauses reign supreme."
   ]
  },
  {
   "cell_type": "markdown",
   "metadata": {},
   "source": [
    "## Fork-Join"
   ]
  },
  {
   "cell_type": "code",
   "execution_count": 23,
   "metadata": {},
   "outputs": [
    {
     "name": "stdout",
     "output_type": "stream",
     "text": [
      "\u001b[36m#\u001b[39;49;00m\u001b[36minclude\u001b[39;49;00m \u001b[37m<stdio.h>\u001b[39;49;00m\u001b[36m\u001b[39;49;00m\n",
      "\u001b[36m#\u001b[39;49;00m\u001b[36minclude\u001b[39;49;00m \u001b[37m<omp.h>\u001b[39;49;00m\u001b[36m\u001b[39;49;00m\n",
      "\n",
      "\u001b[36mint\u001b[39;49;00m \u001b[32mmain\u001b[39;49;00m(\u001b[36mvoid\u001b[39;49;00m)\n",
      "{\n",
      "  \u001b[36mint\u001b[39;49;00m num_threads, my_thread;\n",
      "\n",
      "  \u001b[37m/* OpenMP implements \"fork-join\", where one master thread runs outside of\u001b[39;49;00m\n",
      "\u001b[37m   * the parallel regions, forks to create them, and joins them at the end of\u001b[39;49;00m\n",
      "\u001b[37m   * the region.  Let's see if we can confirm this. */\u001b[39;49;00m\n",
      "\n",
      "  \u001b[37m/* Count the number of threads and my thread number before ... */\u001b[39;49;00m\n",
      "  num_threads = omp_get_num_threads();\n",
      "  my_thread   = omp_get_thread_num();\n",
      "  printf (\u001b[33m\"\u001b[39;49;00m\u001b[33m\\\"\u001b[39;49;00m\u001b[33mYou're all individuals!\u001b[39;49;00m\u001b[33m\\\"\u001b[39;49;00m\u001b[33m said %d of %d.\u001b[39;49;00m\u001b[33m\\n\u001b[39;49;00m\u001b[33m\"\u001b[39;49;00m, my_thread, num_threads);\n",
      "\n",
      "\u001b[36m#\u001b[39;49;00m\u001b[36mpragma omp parallel\u001b[39;49;00m\u001b[36m\u001b[39;49;00m\n",
      "  {\n",
      "    \u001b[37m/* during ... */\u001b[39;49;00m\n",
      "    num_threads = omp_get_num_threads();\n",
      "    my_thread   = omp_get_thread_num();\n",
      "    printf(\u001b[33m\"\u001b[39;49;00m\u001b[33m\\\"\u001b[39;49;00m\u001b[33mYes, we're all individuals!\u001b[39;49;00m\u001b[33m\\\"\u001b[39;49;00m\u001b[33m replied %d of %d.\u001b[39;49;00m\u001b[33m\\n\u001b[39;49;00m\u001b[33m\"\u001b[39;49;00m, my_thread, num_threads);\n",
      "  }\n",
      "\n",
      "  \u001b[37m/* and after the parallel region */\u001b[39;49;00m\n",
      "  num_threads = omp_get_num_threads();\n",
      "  my_thread   = omp_get_thread_num();\n",
      "  printf (\u001b[33m\"\u001b[39;49;00m\u001b[33m\\\"\u001b[39;49;00m\u001b[33mI'm not,\u001b[39;49;00m\u001b[33m\\\"\u001b[39;49;00m\u001b[33m said %d of %d.\u001b[39;49;00m\u001b[33m\\n\u001b[39;49;00m\u001b[33m\"\u001b[39;49;00m, my_thread, num_threads);\n",
      "\n",
      "  \u001b[34mreturn\u001b[39;49;00m \u001b[34m0\u001b[39;49;00m;\n",
      "}\n"
     ]
    }
   ],
   "source": [
    "pygmentize openmp-ex03.c"
   ]
  },
  {
   "cell_type": "code",
   "execution_count": 24,
   "metadata": {},
   "outputs": [
    {
     "name": "stdout",
     "output_type": "stream",
     "text": [
      "icc -I../../utils/tictoc -g -O -Wall -qopenmp -o openmp-ex03 openmp-ex03.c \n",
      "\"You're all individuals!\" said 0 of 1.\n",
      "\"Yes, we're all individuals!\" replied 0 of 4.\n",
      "\"Yes, we're all individuals!\" replied 1 of 4.\n",
      "\"Yes, we're all individuals!\" replied 3 of 4.\n",
      "\"Yes, we're all individuals!\" replied 2 of 4.\n",
      "\"I'm not,\" said 0 of 1.\n"
     ]
    }
   ],
   "source": [
    "make -B openmp-ex03\n",
    "OMP_NUM_THREADS=4 ./openmp-ex03"
   ]
  },
  {
   "cell_type": "markdown",
   "metadata": {},
   "source": [
    "## Variable Scoping\n",
    "\n",
    "Variables outside of a `#pragma omp parallel` region are shared by default;\n",
    "variables inside such a region are private by default."
   ]
  },
  {
   "cell_type": "code",
   "execution_count": 33,
   "metadata": {},
   "outputs": [
    {
     "name": "stdout",
     "output_type": "stream",
     "text": [
      "\u001b[36m#\u001b[39;49;00m\u001b[36minclude\u001b[39;49;00m \u001b[37m<stdio.h>\u001b[39;49;00m\u001b[36m\u001b[39;49;00m\n",
      "\u001b[36m#\u001b[39;49;00m\u001b[36minclude\u001b[39;49;00m \u001b[37m<unistd.h>\u001b[39;49;00m\u001b[36m\u001b[39;49;00m\n",
      "\u001b[36m#\u001b[39;49;00m\u001b[36minclude\u001b[39;49;00m \u001b[37m<omp.h>\u001b[39;49;00m\u001b[36m\u001b[39;49;00m\n",
      "\n",
      "\u001b[36mint\u001b[39;49;00m \u001b[32mmain\u001b[39;49;00m(\u001b[36mvoid\u001b[39;49;00m)\n",
      "{\n",
      "  \u001b[36mint\u001b[39;49;00m num_threads, my_thread;\n",
      "\n",
      "  num_threads = omp_get_num_threads();\n",
      "  my_thread   = omp_get_thread_num();\n",
      "  printf (\u001b[33m\"\u001b[39;49;00m\u001b[33m\\\"\u001b[39;49;00m\u001b[33mYou're all individuals!\u001b[39;49;00m\u001b[33m\\\"\u001b[39;49;00m\u001b[33m said %d of %d.\u001b[39;49;00m\u001b[33m\\n\u001b[39;49;00m\u001b[33m\"\u001b[39;49;00m, my_thread, num_threads);\n",
      "\n",
      "\u001b[36m#\u001b[39;49;00m\u001b[36mpragma omp parallel\u001b[39;49;00m\u001b[36m\u001b[39;49;00m\n",
      "  {\n",
      "    num_threads = omp_get_num_threads();\n",
      "    my_thread   = omp_get_thread_num();\n",
      "    \u001b[37m/* what if the parallel region takes a little longer? */\u001b[39;49;00m\n",
      "    sleep(\u001b[34m1\u001b[39;49;00m);\n",
      "    printf(\u001b[33m\"\u001b[39;49;00m\u001b[33m\\\"\u001b[39;49;00m\u001b[33mYes, we're all individuals!\u001b[39;49;00m\u001b[33m\\\"\u001b[39;49;00m\u001b[33m replied %d of %d, sleepily.\u001b[39;49;00m\u001b[33m\\n\u001b[39;49;00m\u001b[33m\"\u001b[39;49;00m, my_thread, num_threads);\n",
      "  }\n",
      "\n",
      "  num_threads = omp_get_num_threads();\n",
      "  my_thread   = omp_get_thread_num();\n",
      "  printf (\u001b[33m\"\u001b[39;49;00m\u001b[33m\\\"\u001b[39;49;00m\u001b[33mI'm not,\u001b[39;49;00m\u001b[33m\\\"\u001b[39;49;00m\u001b[33m said %d of %d.\u001b[39;49;00m\u001b[33m\\n\u001b[39;49;00m\u001b[33m\"\u001b[39;49;00m, my_thread, num_threads);\n",
      "\n",
      "  \u001b[34mreturn\u001b[39;49;00m \u001b[34m0\u001b[39;49;00m;\n",
      "}\n"
     ]
    }
   ],
   "source": [
    "pygmentize openmp-ex04.c"
   ]
  },
  {
   "cell_type": "code",
   "execution_count": 39,
   "metadata": {},
   "outputs": [
    {
     "name": "stdout",
     "output_type": "stream",
     "text": [
      "icc -I../../utils/tictoc -O0 -qopenmp -o openmp-ex04 openmp-ex04.c \n",
      "\"You're all individuals!\" said 0 of 1.\n",
      "\"Yes, we're all individuals!\" replied 3 of 4, sleepily.\n",
      "\"Yes, we're all individuals!\" replied 3 of 4, sleepily.\n",
      "\"Yes, we're all individuals!\" replied 3 of 4, sleepily.\n",
      "\"Yes, we're all individuals!\" replied 3 of 4, sleepily.\n",
      "\"I'm not,\" said 0 of 1.\n"
     ]
    }
   ],
   "source": [
    "make -B openmp-ex04 CFLAGS=\"-O0\" # On pace-ice higher optimization affects this behavior\n",
    "                                 # It seems to correct for multiple threads writing to `my_thread`,\n",
    "                                 # Probably by eliminating that variable entirely.  I wouldn't\n",
    "                                 # want to rely on that...\n",
    "OMP_NUM_THREADS=4 ./openmp-ex04"
   ]
  },
  {
   "cell_type": "markdown",
   "metadata": {},
   "source": [
    "Run examples 5-9 to see different ways of achieving the desired behavior of\n",
    "\"each thread writes to the same symbol\": in 5, the symbol is private in scope;\n",
    "in 6-9, the privately scoped variable is created that shadows the symbol.  The examples explores the scope and initialization of private variables that shadow publich ones."
   ]
  },
  {
   "cell_type": "code",
   "execution_count": 48,
   "metadata": {},
   "outputs": [
    {
     "name": "stdout",
     "output_type": "stream",
     "text": [
      "\u001b[36m#\u001b[39;49;00m\u001b[36minclude\u001b[39;49;00m \u001b[37m<stdio.h>\u001b[39;49;00m\u001b[36m\u001b[39;49;00m\n",
      "\u001b[36m#\u001b[39;49;00m\u001b[36minclude\u001b[39;49;00m \u001b[37m<unistd.h>\u001b[39;49;00m\u001b[36m\u001b[39;49;00m\n",
      "\u001b[36m#\u001b[39;49;00m\u001b[36minclude\u001b[39;49;00m \u001b[37m<omp.h>\u001b[39;49;00m\u001b[36m\u001b[39;49;00m\n",
      "\n",
      "\u001b[36mint\u001b[39;49;00m \u001b[32mmain\u001b[39;49;00m(\u001b[36mvoid\u001b[39;49;00m)\n",
      "{\n",
      "  \u001b[36mint\u001b[39;49;00m orig_num_threads, orig_my_thread;\n",
      "\n",
      "  orig_num_threads = omp_get_num_threads();\n",
      "  orig_my_thread   = omp_get_thread_num();\n",
      "  printf (\u001b[33m\"\u001b[39;49;00m\u001b[33m\\\"\u001b[39;49;00m\u001b[33mYou're all individuals!\u001b[39;49;00m\u001b[33m\\\"\u001b[39;49;00m\u001b[33m said %d of %d.\u001b[39;49;00m\u001b[33m\\n\u001b[39;49;00m\u001b[33m\"\u001b[39;49;00m, orig_my_thread, orig_num_threads);\n",
      "\n",
      "\u001b[36m#\u001b[39;49;00m\u001b[36mpragma omp parallel\u001b[39;49;00m\u001b[36m\u001b[39;49;00m\n",
      "  {\n",
      "    \u001b[37m/* The last example showed that variables are shared by default in\u001b[39;49;00m\n",
      "\u001b[37m     * parallel regions: having multiple threads write to the same variable\u001b[39;49;00m\n",
      "\u001b[37m     * creates a race condition.\u001b[39;49;00m\n",
      "\u001b[37m     *\u001b[39;49;00m\n",
      "\u001b[37m     * But, variables declared inside the scope of the parallel region are\u001b[39;49;00m\n",
      "\u001b[37m     * private: each thread has its own private variables */\u001b[39;49;00m\n",
      "    \u001b[36mint\u001b[39;49;00m my_thread, num_threads;\n",
      "\n",
      "    num_threads = omp_get_num_threads();\n",
      "    my_thread   = omp_get_thread_num();\n",
      "    sleep(\u001b[34m1\u001b[39;49;00m);\n",
      "    printf(\u001b[33m\"\u001b[39;49;00m\u001b[33m\\\"\u001b[39;49;00m\u001b[33mYes, we're all individuals!\u001b[39;49;00m\u001b[33m\\\"\u001b[39;49;00m\u001b[33m replied %d of %d, sleepily.\u001b[39;49;00m\u001b[33m\\n\u001b[39;49;00m\u001b[33m\"\u001b[39;49;00m, my_thread, num_threads);\n",
      "  }\n",
      "\n",
      "  orig_num_threads = omp_get_num_threads();\n",
      "  orig_my_thread   = omp_get_thread_num();\n",
      "  printf (\u001b[33m\"\u001b[39;49;00m\u001b[33m\\\"\u001b[39;49;00m\u001b[33mI'm not,\u001b[39;49;00m\u001b[33m\\\"\u001b[39;49;00m\u001b[33m said %d of %d.\u001b[39;49;00m\u001b[33m\\n\u001b[39;49;00m\u001b[33m\"\u001b[39;49;00m, orig_my_thread, orig_num_threads);\n",
      "\n",
      "  \u001b[34mreturn\u001b[39;49;00m \u001b[34m0\u001b[39;49;00m;\n",
      "}\n",
      "icc -I../../utils/tictoc -O0 -qopenmp -o openmp-ex05 openmp-ex05.c \n",
      "\"You're all individuals!\" said 0 of 1.\n",
      "\"Yes, we're all individuals!\" replied 0 of 4, sleepily.\n",
      "\"Yes, we're all individuals!\" replied 1 of 4, sleepily.\n",
      "\"Yes, we're all individuals!\" replied 3 of 4, sleepily.\n",
      "\"Yes, we're all individuals!\" replied 2 of 4, sleepily.\n",
      "\"I'm not,\" said 0 of 1.\n",
      "\u001b[36m#\u001b[39;49;00m\u001b[36minclude\u001b[39;49;00m \u001b[37m<stdio.h>\u001b[39;49;00m\u001b[36m\u001b[39;49;00m\n",
      "\u001b[36m#\u001b[39;49;00m\u001b[36minclude\u001b[39;49;00m \u001b[37m<unistd.h>\u001b[39;49;00m\u001b[36m\u001b[39;49;00m\n",
      "\u001b[36m#\u001b[39;49;00m\u001b[36minclude\u001b[39;49;00m \u001b[37m<omp.h>\u001b[39;49;00m\u001b[36m\u001b[39;49;00m\n",
      "\n",
      "\u001b[36mint\u001b[39;49;00m \u001b[32mmain\u001b[39;49;00m(\u001b[36mvoid\u001b[39;49;00m)\n",
      "{\n",
      "  \u001b[36mint\u001b[39;49;00m num_threads, my_thread;\n",
      "\n",
      "  num_threads = omp_get_num_threads();\n",
      "  my_thread   = omp_get_thread_num();\n",
      "  printf (\u001b[33m\"\u001b[39;49;00m\u001b[33m\\\"\u001b[39;49;00m\u001b[33mYou're all individuals!\u001b[39;49;00m\u001b[33m\\\"\u001b[39;49;00m\u001b[33m said %d of %d.\u001b[39;49;00m\u001b[33m\\n\u001b[39;49;00m\u001b[33m\"\u001b[39;49;00m, my_thread, num_threads);\n",
      "\n",
      "  \u001b[37m/* You can also declare private variable(s) that shadow existing variables\u001b[39;49;00m\n",
      "\u001b[37m   * with the private() clause of the openmp directive */\u001b[39;49;00m\n",
      "\u001b[36m#\u001b[39;49;00m\u001b[36mpragma omp parallel private(num_threads,my_thread)\u001b[39;49;00m\u001b[36m\u001b[39;49;00m\n",
      "  {\n",
      "    num_threads = omp_get_num_threads();\n",
      "    my_thread   = omp_get_thread_num();\n",
      "    sleep(\u001b[34m1\u001b[39;49;00m);\n",
      "    printf(\u001b[33m\"\u001b[39;49;00m\u001b[33m\\\"\u001b[39;49;00m\u001b[33mYes, we're all individuals!\u001b[39;49;00m\u001b[33m\\\"\u001b[39;49;00m\u001b[33m replied %d of %d, sleepily.\u001b[39;49;00m\u001b[33m\\n\u001b[39;49;00m\u001b[33m\"\u001b[39;49;00m, my_thread, num_threads);\n",
      "  }\n",
      "\n",
      "  num_threads = omp_get_num_threads();\n",
      "  my_thread   = omp_get_thread_num();\n",
      "  printf (\u001b[33m\"\u001b[39;49;00m\u001b[33m\\\"\u001b[39;49;00m\u001b[33mI'm not,\u001b[39;49;00m\u001b[33m\\\"\u001b[39;49;00m\u001b[33m said %d of %d.\u001b[39;49;00m\u001b[33m\\n\u001b[39;49;00m\u001b[33m\"\u001b[39;49;00m, my_thread, num_threads);\n",
      "\n",
      "  \u001b[34mreturn\u001b[39;49;00m \u001b[34m0\u001b[39;49;00m;\n",
      "}\n",
      "icc -I../../utils/tictoc -O0 -qopenmp -o openmp-ex06 openmp-ex06.c \n",
      "\"You're all individuals!\" said 0 of 1.\n",
      "\"Yes, we're all individuals!\" replied 1 of 4, sleepily.\n",
      "\"Yes, we're all individuals!\" replied 2 of 4, sleepily.\n",
      "\"Yes, we're all individuals!\" replied 3 of 4, sleepily.\n",
      "\"Yes, we're all individuals!\" replied 0 of 4, sleepily.\n",
      "\"I'm not,\" said 0 of 1.\n",
      "\u001b[36m#\u001b[39;49;00m\u001b[36minclude\u001b[39;49;00m \u001b[37m<stdio.h>\u001b[39;49;00m\u001b[36m\u001b[39;49;00m\n",
      "\u001b[36m#\u001b[39;49;00m\u001b[36minclude\u001b[39;49;00m \u001b[37m<unistd.h>\u001b[39;49;00m\u001b[36m\u001b[39;49;00m\n",
      "\u001b[36m#\u001b[39;49;00m\u001b[36minclude\u001b[39;49;00m \u001b[37m<omp.h>\u001b[39;49;00m\u001b[36m\u001b[39;49;00m\n",
      "\n",
      "\u001b[36mint\u001b[39;49;00m \u001b[32mmain\u001b[39;49;00m(\u001b[36mvoid\u001b[39;49;00m)\n",
      "{\n",
      "  \u001b[36mint\u001b[39;49;00m num_threads, my_thread;\n",
      "\n",
      "  num_threads = omp_get_num_threads();\n",
      "  my_thread   = omp_get_thread_num();\n",
      "  printf (\u001b[33m\"\u001b[39;49;00m\u001b[33m\\\"\u001b[39;49;00m\u001b[33mYou're all individuals!\u001b[39;49;00m\u001b[33m\\\"\u001b[39;49;00m\u001b[33m said %d of %d.\u001b[39;49;00m\u001b[33m\\n\u001b[39;49;00m\u001b[33m\"\u001b[39;49;00m, my_thread, num_threads);\n",
      "\n",
      "\u001b[36m#\u001b[39;49;00m\u001b[36mpragma omp parallel private(num_threads,my_thread)\u001b[39;49;00m\u001b[36m\u001b[39;49;00m\n",
      "  {\n",
      "    num_threads = omp_get_num_threads();\n",
      "    my_thread   = omp_get_thread_num();\n",
      "    sleep(\u001b[34m1\u001b[39;49;00m);\n",
      "    printf(\u001b[33m\"\u001b[39;49;00m\u001b[33m\\\"\u001b[39;49;00m\u001b[33mYes, we're all individuals!\u001b[39;49;00m\u001b[33m\\\"\u001b[39;49;00m\u001b[33m replied %d of %d, sleepily.\u001b[39;49;00m\u001b[33m\\n\u001b[39;49;00m\u001b[33m\"\u001b[39;49;00m, my_thread, num_threads);\n",
      "  }\n",
      "\n",
      "  \u001b[37m/* But then what happens when we try to use the original variable again: do\u001b[39;49;00m\n",
      "\u001b[37m   * any of the private writes affect it? */\u001b[39;49;00m\n",
      "  printf (\u001b[33m\"\u001b[39;49;00m\u001b[33m\\\"\u001b[39;49;00m\u001b[33mI'm not,\u001b[39;49;00m\u001b[33m\\\"\u001b[39;49;00m\u001b[33m said %d of %d.\u001b[39;49;00m\u001b[33m\\n\u001b[39;49;00m\u001b[33m\"\u001b[39;49;00m, my_thread, num_threads);\n",
      "\n",
      "  \u001b[34mreturn\u001b[39;49;00m \u001b[34m0\u001b[39;49;00m;\n",
      "}\n",
      "icc -I../../utils/tictoc -O0 -qopenmp -o openmp-ex07 openmp-ex07.c \n",
      "\"You're all individuals!\" said 0 of 1.\n",
      "\"Yes, we're all individuals!\" replied 0 of 4, sleepily.\n",
      "\"Yes, we're all individuals!\" replied 1 of 4, sleepily.\n",
      "\"Yes, we're all individuals!\" replied 3 of 4, sleepily.\n",
      "\"Yes, we're all individuals!\" replied 2 of 4, sleepily.\n",
      "\"I'm not,\" said 0 of 1.\n",
      "\u001b[36m#\u001b[39;49;00m\u001b[36minclude\u001b[39;49;00m \u001b[37m<stdio.h>\u001b[39;49;00m\u001b[36m\u001b[39;49;00m\n",
      "\u001b[36m#\u001b[39;49;00m\u001b[36minclude\u001b[39;49;00m \u001b[37m<unistd.h>\u001b[39;49;00m\u001b[36m\u001b[39;49;00m\n",
      "\u001b[36m#\u001b[39;49;00m\u001b[36minclude\u001b[39;49;00m \u001b[37m<omp.h>\u001b[39;49;00m\u001b[36m\u001b[39;49;00m\n",
      "\n",
      "\u001b[36mint\u001b[39;49;00m \u001b[32mmain\u001b[39;49;00m(\u001b[36mvoid\u001b[39;49;00m)\n",
      "{\n",
      "  \u001b[36mint\u001b[39;49;00m num_threads, my_thread;\n",
      "\n",
      "  num_threads = omp_get_num_threads();\n",
      "  my_thread   = omp_get_thread_num();\n",
      "  printf (\u001b[33m\"\u001b[39;49;00m\u001b[33m\\\"\u001b[39;49;00m\u001b[33mYou're all individuals!\u001b[39;49;00m\u001b[33m\\\"\u001b[39;49;00m\u001b[33m said %d of %d.\u001b[39;49;00m\u001b[33m\\n\u001b[39;49;00m\u001b[33m\"\u001b[39;49;00m, my_thread, num_threads);\n",
      "\n",
      "\u001b[36m#\u001b[39;49;00m\u001b[36mpragma omp parallel private(num_threads,my_thread)\u001b[39;49;00m\u001b[36m\u001b[39;49;00m\n",
      "  {\n",
      "    \u001b[37m/* what if we don't given an initialization for the private variables:\u001b[39;49;00m\n",
      "\u001b[37m     * will they take on the value of the original shadowed variable?\u001b[39;49;00m\n",
      "\u001b[37m    num_threads = omp_get_num_threads();\u001b[39;49;00m\n",
      "\u001b[37m    my_thread   = omp_get_thread_num();\u001b[39;49;00m\n",
      "\u001b[37m    sleep(1);\u001b[39;49;00m\n",
      "\u001b[37m    */\u001b[39;49;00m\n",
      "    printf(\u001b[33m\"\u001b[39;49;00m\u001b[33m\\\"\u001b[39;49;00m\u001b[33mYes, we're all individuals!\u001b[39;49;00m\u001b[33m\\\"\u001b[39;49;00m\u001b[33m replied %d of %d, sleepily.\u001b[39;49;00m\u001b[33m\\n\u001b[39;49;00m\u001b[33m\"\u001b[39;49;00m, my_thread, num_threads);\n",
      "  }\n",
      "\n",
      "  printf (\u001b[33m\"\u001b[39;49;00m\u001b[33m\\\"\u001b[39;49;00m\u001b[33mI'm not,\u001b[39;49;00m\u001b[33m\\\"\u001b[39;49;00m\u001b[33m said %d of %d.\u001b[39;49;00m\u001b[33m\\n\u001b[39;49;00m\u001b[33m\"\u001b[39;49;00m, my_thread, num_threads);\n",
      "\n",
      "  \u001b[34mreturn\u001b[39;49;00m \u001b[34m0\u001b[39;49;00m;\n",
      "}\n",
      "icc -I../../utils/tictoc -O0 -qopenmp -o openmp-ex08 openmp-ex08.c \n",
      "\"You're all individuals!\" said 0 of 1.\n",
      "\"Yes, we're all individuals!\" replied -1426804352 of 10922, sleepily.\n",
      "\"Yes, we're all individuals!\" replied 0 of 0, sleepily.\n",
      "\"Yes, we're all individuals!\" replied -1262486056 of 10922, sleepily.\n",
      "\"Yes, we're all individuals!\" replied -1425958608 of 10922, sleepily.\n",
      "\"I'm not,\" said 0 of 1.\n"
     ]
    }
   ],
   "source": [
    "pygmentize openmp-ex05.c\n",
    "make -B openmp-ex05 CFLAGS=\"-O0\"\n",
    "OMP_NUM_THREADS=4 ./openmp-ex05\n",
    "pygmentize openmp-ex06.c\n",
    "make -B openmp-ex06 CFLAGS=\"-O0\"\n",
    "OMP_NUM_THREADS=4 ./openmp-ex06\n",
    "pygmentize openmp-ex07.c\n",
    "make -B openmp-ex07 CFLAGS=\"-O0\"\n",
    "OMP_NUM_THREADS=4 ./openmp-ex07\n",
    "pygmentize openmp-ex08.c\n",
    "make -B openmp-ex08 CFLAGS=\"-O0\"\n",
    "OMP_NUM_THREADS=4 ./openmp-ex08"
   ]
  },
  {
   "cell_type": "markdown",
   "metadata": {},
   "source": [
    "## Loop scheduling"
   ]
  },
  {
   "cell_type": "markdown",
   "metadata": {},
   "source": [
    "Example 10 shows how loop scheduling can be done with nothing but `#pragma omp parallel`"
   ]
  },
  {
   "cell_type": "code",
   "execution_count": 52,
   "metadata": {},
   "outputs": [
    {
     "name": "stdout",
     "output_type": "stream",
     "text": [
      "\u001b[36m#\u001b[39;49;00m\u001b[36minclude\u001b[39;49;00m \u001b[37m<stdio.h>\u001b[39;49;00m\u001b[36m\u001b[39;49;00m\n",
      "\u001b[36m#\u001b[39;49;00m\u001b[36minclude\u001b[39;49;00m \u001b[37m<omp.h>\u001b[39;49;00m\u001b[36m\u001b[39;49;00m\n",
      "\n",
      "\u001b[36mint\u001b[39;49;00m \u001b[32mmain\u001b[39;49;00m(\u001b[36mvoid\u001b[39;49;00m)\n",
      "{\n",
      "  \u001b[36mint\u001b[39;49;00m N = \u001b[34m10\u001b[39;49;00m;\n",
      "\n",
      "  \u001b[37m/* We could to loop parallelization with just what we've seen so far */\u001b[39;49;00m\n",
      "\u001b[36m#\u001b[39;49;00m\u001b[36mpragma omp parallel\u001b[39;49;00m\u001b[36m\u001b[39;49;00m\n",
      "  {\n",
      "    \u001b[36mint\u001b[39;49;00m my_thread   = omp_get_thread_num();\n",
      "    \u001b[36mint\u001b[39;49;00m num_threads = omp_get_num_threads();\n",
      "    \u001b[36mint\u001b[39;49;00m istart      = (N * my_thread) / num_threads;\n",
      "    \u001b[36mint\u001b[39;49;00m iend        = (N * (my_thread+\u001b[34m1\u001b[39;49;00m)) / num_threads;\n",
      "    \u001b[36mint\u001b[39;49;00m i;\n",
      "\n",
      "    \u001b[34mfor\u001b[39;49;00m (i = istart; i < iend; i++) {\n",
      "      printf(\u001b[33m\"\u001b[39;49;00m\u001b[33miteration %d, thread %d\u001b[39;49;00m\u001b[33m\\n\u001b[39;49;00m\u001b[33m\"\u001b[39;49;00m, i, my_thread);\n",
      "    }\n",
      "  }\n",
      "\n",
      "  \u001b[34mreturn\u001b[39;49;00m \u001b[34m0\u001b[39;49;00m;\n",
      "}\n"
     ]
    }
   ],
   "source": [
    "pygmentize openmp-ex10.c"
   ]
  },
  {
   "cell_type": "code",
   "execution_count": 54,
   "metadata": {},
   "outputs": [
    {
     "name": "stdout",
     "output_type": "stream",
     "text": [
      "icc -I../../utils/tictoc -g -O -Wall -qopenmp -o openmp-ex10 openmp-ex10.c \n",
      "iteration 0, thread 0\n",
      "iteration 1, thread 0\n",
      "iteration 2, thread 1\n",
      "iteration 3, thread 1\n",
      "iteration 4, thread 1\n",
      "iteration 7, thread 3\n",
      "iteration 5, thread 2\n",
      "iteration 6, thread 2\n",
      "iteration 8, thread 3\n",
      "iteration 9, thread 3\n"
     ]
    }
   ],
   "source": [
    "make -B openmp-ex10\n",
    "OMP_NUM_THREADS=4 ./openmp-ex10"
   ]
  },
  {
   "cell_type": "markdown",
   "metadata": {},
   "source": [
    "`#pragma omp for` exists for that, but then openMP is in charge of scheduling.  But you can tell it how to schedule."
   ]
  },
  {
   "cell_type": "code",
   "execution_count": 56,
   "metadata": {},
   "outputs": [
    {
     "name": "stdout",
     "output_type": "stream",
     "text": [
      "\u001b[36m#\u001b[39;49;00m\u001b[36minclude\u001b[39;49;00m \u001b[37m<stdio.h>\u001b[39;49;00m\u001b[36m\u001b[39;49;00m\n",
      "\u001b[36m#\u001b[39;49;00m\u001b[36minclude\u001b[39;49;00m \u001b[37m<omp.h>\u001b[39;49;00m\u001b[36m\u001b[39;49;00m\n",
      "\n",
      "\u001b[36mint\u001b[39;49;00m \u001b[32mmain\u001b[39;49;00m(\u001b[36mvoid\u001b[39;49;00m)\n",
      "{\n",
      "  \u001b[36mint\u001b[39;49;00m N = \u001b[34m10\u001b[39;49;00m;\n",
      "\n",
      "\u001b[36m#\u001b[39;49;00m\u001b[36mpragma omp parallel\u001b[39;49;00m\u001b[36m\u001b[39;49;00m\n",
      "  {\n",
      "    \u001b[36mint\u001b[39;49;00m my_thread = omp_get_thread_num();\n",
      "    \u001b[36mint\u001b[39;49;00m i;\n",
      "\n",
      "    \u001b[37m/* But openmp has a directive \"for\" for for loops */\u001b[39;49;00m\n",
      "\u001b[36m#\u001b[39;49;00m\u001b[36mpragma omp for\u001b[39;49;00m\u001b[36m\u001b[39;49;00m\n",
      "    \u001b[34mfor\u001b[39;49;00m (i = \u001b[34m0\u001b[39;49;00m; i < N; i++) {\n",
      "      printf(\u001b[33m\"\u001b[39;49;00m\u001b[33miteration %d, thread %d\u001b[39;49;00m\u001b[33m\\n\u001b[39;49;00m\u001b[33m\"\u001b[39;49;00m, i, my_thread);\n",
      "    }\n",
      "  }\n",
      "\n",
      "  \u001b[34mreturn\u001b[39;49;00m \u001b[34m0\u001b[39;49;00m;\n",
      "}\n"
     ]
    }
   ],
   "source": [
    "pygmentize openmp-ex11.c"
   ]
  },
  {
   "cell_type": "code",
   "execution_count": 57,
   "metadata": {},
   "outputs": [
    {
     "name": "stdout",
     "output_type": "stream",
     "text": [
      "icc -I../../utils/tictoc -g -O -Wall -qopenmp -o openmp-ex11 openmp-ex11.c \n",
      "iteration 0, thread 0\n",
      "iteration 1, thread 0\n",
      "iteration 2, thread 0\n",
      "iteration 8, thread 3\n",
      "iteration 9, thread 3\n",
      "iteration 3, thread 1\n",
      "iteration 4, thread 1\n",
      "iteration 5, thread 1\n",
      "iteration 6, thread 2\n",
      "iteration 7, thread 2\n"
     ]
    }
   ],
   "source": [
    "make -B openmp-ex11\n",
    "OMP_NUM_THREADS=4 ./openmp-ex11"
   ]
  },
  {
   "cell_type": "code",
   "execution_count": 60,
   "metadata": {},
   "outputs": [
    {
     "name": "stdout",
     "output_type": "stream",
     "text": [
      "\n",
      "OPENMP DISPLAY ENVIRONMENT BEGIN\n",
      "   _OPENMP='201307'\n",
      "  [host] OMP_CANCELLATION='FALSE'\n",
      "  [host] OMP_DISPLAY_ENV='TRUE'\n",
      "  [host] OMP_DYNAMIC='FALSE'\n",
      "  [host] OMP_MAX_ACTIVE_LEVELS='2147483647'\n",
      "  [host] OMP_NESTED='FALSE'\n",
      "  [host] OMP_NUM_THREADS='4'\n",
      "  [host] OMP_PLACES: value is not defined\n",
      "  [host] OMP_PROC_BIND='false'\n",
      "  [host] OMP_SCHEDULE='static'\n",
      "  [host] OMP_STACKSIZE='4M'\n",
      "  [host] OMP_THREAD_LIMIT='2147483647'\n",
      "  [host] OMP_WAIT_POLICY='PASSIVE'\n",
      "OPENMP DISPLAY ENVIRONMENT END\n",
      "\n",
      "\n",
      "iteration 0, thread 0\n",
      "iteration 1, thread 0\n",
      "iteration 6, thread 2\n",
      "iteration 7, thread 2\n",
      "iteration 3, thread 1\n",
      "iteration 4, thread 1\n",
      "iteration 5, thread 1\n",
      "iteration 8, thread 3\n",
      "iteration 9, thread 3\n",
      "iteration 2, thread 0\n"
     ]
    }
   ],
   "source": [
    "OMP_DISPLAY_ENV=true OMP_NUM_THREADS=4 ./openmp-ex11"
   ]
  },
  {
   "cell_type": "code",
   "execution_count": 67,
   "metadata": {},
   "outputs": [
    {
     "name": "stdout",
     "output_type": "stream",
     "text": [
      "\u001b[36m#\u001b[39;49;00m\u001b[36minclude\u001b[39;49;00m \u001b[37m<stdio.h>\u001b[39;49;00m\u001b[36m\u001b[39;49;00m\n",
      "\u001b[36m#\u001b[39;49;00m\u001b[36minclude\u001b[39;49;00m \u001b[37m<omp.h>\u001b[39;49;00m\u001b[36m\u001b[39;49;00m\n",
      "\n",
      "\u001b[36mint\u001b[39;49;00m \u001b[32mmain\u001b[39;49;00m(\u001b[36mvoid\u001b[39;49;00m)\n",
      "{\n",
      "  \u001b[36mint\u001b[39;49;00m N = \u001b[34m10\u001b[39;49;00m;\n",
      "  \u001b[36mint\u001b[39;49;00m i;\n",
      "\n",
      "  \u001b[37m/* Thus far the first thread has always received the start of the loop, but\u001b[39;49;00m\n",
      "\u001b[37m   * we can control this with the schedule() clause: schedule(runtime) means\u001b[39;49;00m\n",
      "\u001b[37m   * we can control the schedule with the OMP_SCHEDULE environment variable.\u001b[39;49;00m\n",
      "\u001b[37m   * */\u001b[39;49;00m\n",
      "\u001b[36m#\u001b[39;49;00m\u001b[36mpragma omp parallel for schedule(runtime)\u001b[39;49;00m\u001b[36m\u001b[39;49;00m\n",
      "  \u001b[34mfor\u001b[39;49;00m (i = \u001b[34m0\u001b[39;49;00m; i < N; i++) {\n",
      "    \u001b[36mint\u001b[39;49;00m my_thread = omp_get_thread_num();\n",
      "\n",
      "    printf(\u001b[33m\"\u001b[39;49;00m\u001b[33miteration %d, thread %d\u001b[39;49;00m\u001b[33m\\n\u001b[39;49;00m\u001b[33m\"\u001b[39;49;00m, i, my_thread);\n",
      "  }\n",
      "\n",
      "  \u001b[34mreturn\u001b[39;49;00m \u001b[34m0\u001b[39;49;00m;\n",
      "}\n"
     ]
    }
   ],
   "source": [
    "pygmentize openmp-ex14.c"
   ]
  },
  {
   "cell_type": "code",
   "execution_count": 68,
   "metadata": {},
   "outputs": [
    {
     "name": "stdout",
     "output_type": "stream",
     "text": [
      "icc -I../../utils/tictoc -g -O -Wall -qopenmp -o openmp-ex14 openmp-ex14.c \n",
      "iteration 0, thread 0\n",
      "iteration 4, thread 0\n",
      "iteration 8, thread 0\n",
      "iteration 2, thread 2\n",
      "iteration 6, thread 2\n",
      "iteration 3, thread 3\n",
      "iteration 7, thread 3\n",
      "iteration 1, thread 1\n",
      "iteration 5, thread 1\n",
      "iteration 9, thread 1\n"
     ]
    }
   ],
   "source": [
    "make -B openmp-ex14\n",
    "OMP_NUM_THREADS=4 OMP_SCHEDULE=\"static,1\" ./openmp-ex14"
   ]
  }
 ],
 "metadata": {
  "kernelspec": {
   "display_name": "Bash",
   "language": "bash",
   "name": "bash"
  },
  "language_info": {
   "codemirror_mode": "shell",
   "file_extension": ".sh",
   "mimetype": "text/x-sh",
   "name": "bash"
  }
 },
 "nbformat": 4,
 "nbformat_minor": 2
}
