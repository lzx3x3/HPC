{
 "cells": [
  {
   "cell_type": "markdown",
   "metadata": {},
   "source": [
    "# Timings"
   ]
  },
  {
   "cell_type": "markdown",
   "metadata": {},
   "source": [
    "This assignment is meant to be run on **four nodes** with 28 cores.\n",
    "\n",
    "One thing we are trying to do is gauge the performance of a good MPI implementation and compare it to a good OpenMP implementation.  In order to do this, we will have to load some slightly different modules."
   ]
  },
  {
   "cell_type": "code",
   "execution_count": 1,
   "metadata": {
    "scrolled": false
   },
   "outputs": [
    {
     "name": "stdout",
     "output_type": "stream",
     "text": [
      " =========================================================================\n",
      "|                                                                         |\n",
      "|       A note about python/3.6:                                          |\n",
      "|       PACE is lacking the staff to install all of the python 3          |\n",
      "|       modules, but we do maintain an anaconda distribution for          |\n",
      "|       both python 2 and python 3. As conda significantly reduces        |\n",
      "|       the overhead with package management, we would much prefer        |\n",
      "|       to maintain python 3 through anaconda.                            |\n",
      "|                                                                         |\n",
      "|       All pace installed modules are visible via the module avail       |\n",
      "|       command.                                                          |\n",
      "|                                                                         |\n",
      " =========================================================================\n",
      "Currently Loaded Modulefiles:\n",
      "  1) curl/7.42.1\n",
      "  2) git/2.13.4\n",
      "  3) python/3.6\n",
      "  4) /nv/coc-ice/tisaac3/opt/pace-ice/modulefiles/jupyter/1.0\n",
      "  5) cuda/9.1\n",
      "  6) /nv/coc-ice/tisaac3/opt/pace-ice/modulefiles/gcc/9.2.0-offload\n",
      "  7) /nv/coc-ice/tisaac3/opt/pace-ice/modulefiles/hpctoolkit/2018.18-gcc\n",
      "  8) hwloc/1.10.0(default)\n",
      "  9) /nv/coc-ice/tisaac3/opt/pace-ice/modulefiles/mvapich2/2.3-gcc\n",
      " 10) cse6230/gcc-omp-gpu\n"
     ]
    }
   ],
   "source": [
    "module unload cse6230\n",
    "module load cse6230/gcc-omp-gpu\n",
    "module list"
   ]
  },
  {
   "cell_type": "markdown",
   "metadata": {},
   "source": [
    "([mvapich](http://mvapich.cse.ohio-state.edu/) is a fork of the [mpich](https://www.mpich.org/) MPI implementation with some modifications for performance on various HPC hardware)"
   ]
  },
  {
   "cell_type": "markdown",
   "metadata": {},
   "source": [
    "## Measuring MPI primitives\n",
    "\n",
    "**Task 1 (3 pts)** The file `benchmarks.c` includes some basic benchmarks for measuring the performance of various MPI point-to-point and collective operations.  Right now, it is incomplete!"
   ]
  },
  {
   "cell_type": "code",
   "execution_count": 3,
   "metadata": {
    "scrolled": false
   },
   "outputs": [
    {
     "name": "stdout",
     "output_type": "stream",
     "text": [
      "  /* TODO: split the communicator `comm` into one communicator for ranks\n",
      "  /* TODO: destroy the subcommunicator created in `splitCommunicator` */\n",
      "  /* TODO: Record the MPI walltime in `tic_p` */\n",
      "  /* TODO: Get the elapsed MPI walltime since `tic_in`,\n",
      "  /* TODO: take the times from all processes and compute the maximum,\n",
      "      /* TODO: Set up a ping pong test for the broadcast collective.  When\n",
      "      /* TODO: Set up a ping pong test for the scatter collective.  When\n",
      "      /* TODO: Set up a timing loop for the following:\n",
      "      /* TODO: Set up a timing loop for the following:\n",
      "      /* TODO: Set up a timing loop for the following:\n"
     ]
    }
   ],
   "source": [
    "grep \"TODO\" benchmarks.c"
   ]
  },
  {
   "cell_type": "markdown",
   "metadata": {},
   "source": [
    "Refering to a good [MPI Tutorial](https://computing.llnl.gov/tutorials/mpi/) or\n",
    "[lecture notes](http://vuduc.org/cse6230/slides/cse6230-fa14--06-mpi.pdf) as needed,\n",
    "fill in the missing MPI routines.\n",
    "\n",
    "Once you have done that, run the following script to generate a graph of benchmark bandwidths of MPI routines.  Note that these values are only for MPI messages within a node: values may be different when we start using multiple nodes. "
   ]
  },
  {
   "cell_type": "code",
   "execution_count": 2,
   "metadata": {
    "scrolled": false
   },
   "outputs": [
    {
     "name": "stdout",
     "output_type": "stream",
     "text": [
      "rm -f *.o benchmarks\n",
      "mpicc -fopenmp -I../../utils -g -Wall -O3 -std=c99 -c -o benchmarks.o benchmarks.c\n",
      "mpicc -fopenmp -o benchmarks benchmarks.o \n",
      "mpirun -f /var/spool/torque/aux//109755.ice-sched.pace.gatech.edu -n 112 ./benchmarks  \n",
      "MPI Version: 3.1\n",
      "MVAPICH2 Version      :\t2.3.2\n",
      "MVAPICH2 Release date :\tFri August 9 22:00:00 EST 2019\n",
      "MVAPICH2 Device       :\tch3:mrail\n",
      "MVAPICH2 configure    :\t--prefix=/nv/coc-ice/tisaac3/opt/pace-ice/mvapich2/2.3 --with-hwloc --with-pbs=/opt/torque/current --enable-romio --with-file-system=ufs+nfs --enable-shared --enable-sharedlibs=gcc\n",
      "MVAPICH2 CC           :\tgcc    -DNDEBUG -DNVALGRIND -O2\n",
      "MVAPICH2 CXX          :\tg++   -DNDEBUG -DNVALGRIND -O2\n",
      "MVAPICH2 F77          :\tgfortran -L/lib -L/lib   -O2\n",
      "MVAPICH2 FC           :\tgfortran   -O2\n",
      "\n",
      "MPI # Procs: 112\n",
      "MPI Wtime 1.57126e+09, precision 1e-06\n",
      "MPI Wtime is global\n",
      "MPI proc 0 host: rich133-k40-24-r.pace.gatech.edu\n",
      "MPI proc 1 host: rich133-k40-24-r.pace.gatech.edu\n",
      "MPI proc 2 host: rich133-k40-24-r.pace.gatech.edu\n",
      "MPI proc 3 host: rich133-k40-24-r.pace.gatech.edu\n",
      "MPI proc 4 host: rich133-k40-24-r.pace.gatech.edu\n",
      "MPI proc 5 host: rich133-k40-24-r.pace.gatech.edu\n",
      "MPI proc 6 host: rich133-k40-24-r.pace.gatech.edu\n",
      "MPI proc 7 host: rich133-k40-24-r.pace.gatech.edu\n",
      "MPI proc 8 host: rich133-k40-24-r.pace.gatech.edu\n",
      "MPI proc 9 host: rich133-k40-24-r.pace.gatech.edu\n",
      "MPI proc 10 host: rich133-k40-24-r.pace.gatech.edu\n",
      "MPI proc 11 host: rich133-k40-24-r.pace.gatech.edu\n",
      "MPI proc 12 host: rich133-k40-24-r.pace.gatech.edu\n",
      "MPI proc 13 host: rich133-k40-24-r.pace.gatech.edu\n",
      "MPI proc 14 host: rich133-k40-24-r.pace.gatech.edu\n",
      "MPI proc 15 host: rich133-k40-24-r.pace.gatech.edu\n",
      "MPI proc 16 host: rich133-k40-24-r.pace.gatech.edu\n",
      "MPI proc 17 host: rich133-k40-24-r.pace.gatech.edu\n",
      "MPI proc 18 host: rich133-k40-24-r.pace.gatech.edu\n",
      "MPI proc 19 host: rich133-k40-24-r.pace.gatech.edu\n",
      "MPI proc 20 host: rich133-k40-24-r.pace.gatech.edu\n",
      "MPI proc 21 host: rich133-k40-24-r.pace.gatech.edu\n",
      "MPI proc 22 host: rich133-k40-24-r.pace.gatech.edu\n",
      "MPI proc 23 host: rich133-k40-24-r.pace.gatech.edu\n",
      "MPI proc 24 host: rich133-k40-24-r.pace.gatech.edu\n",
      "MPI proc 25 host: rich133-k40-24-r.pace.gatech.edu\n",
      "MPI proc 26 host: rich133-k40-24-r.pace.gatech.edu\n",
      "MPI proc 27 host: rich133-k40-24-r.pace.gatech.edu\n",
      "MPI proc 28 host: rich133-k40-26-r.pace.gatech.edu\n",
      "MPI proc 29 host: rich133-k40-26-r.pace.gatech.edu\n",
      "MPI proc 30 host: rich133-k40-26-r.pace.gatech.edu\n",
      "MPI proc 31 host: rich133-k40-26-r.pace.gatech.edu\n",
      "MPI proc 32 host: rich133-k40-26-r.pace.gatech.edu\n",
      "MPI proc 33 host: rich133-k40-26-r.pace.gatech.edu\n",
      "MPI proc 34 host: rich133-k40-26-r.pace.gatech.edu\n",
      "MPI proc 35 host: rich133-k40-26-r.pace.gatech.edu\n",
      "MPI proc 36 host: rich133-k40-26-r.pace.gatech.edu\n",
      "MPI proc 37 host: rich133-k40-26-r.pace.gatech.edu\n",
      "MPI proc 38 host: rich133-k40-26-r.pace.gatech.edu\n",
      "MPI proc 39 host: rich133-k40-26-r.pace.gatech.edu\n",
      "MPI proc 40 host: rich133-k40-26-r.pace.gatech.edu\n",
      "MPI proc 41 host: rich133-k40-26-r.pace.gatech.edu\n",
      "MPI proc 42 host: rich133-k40-26-r.pace.gatech.edu\n",
      "MPI proc 43 host: rich133-k40-26-r.pace.gatech.edu\n",
      "MPI proc 44 host: rich133-k40-26-r.pace.gatech.edu\n",
      "MPI proc 45 host: rich133-k40-26-r.pace.gatech.edu\n",
      "MPI proc 46 host: rich133-k40-26-r.pace.gatech.edu\n",
      "MPI proc 47 host: rich133-k40-26-r.pace.gatech.edu\n",
      "MPI proc 48 host: rich133-k40-26-r.pace.gatech.edu\n",
      "MPI proc 49 host: rich133-k40-26-r.pace.gatech.edu\n",
      "MPI proc 50 host: rich133-k40-26-r.pace.gatech.edu\n",
      "MPI proc 51 host: rich133-k40-26-r.pace.gatech.edu\n",
      "MPI proc 52 host: rich133-k40-26-r.pace.gatech.edu\n",
      "MPI proc 53 host: rich133-k40-26-r.pace.gatech.edu\n",
      "MPI proc 54 host: rich133-k40-26-r.pace.gatech.edu\n",
      "MPI proc 55 host: rich133-k40-26-r.pace.gatech.edu\n",
      "MPI proc 56 host: rich133-k40-27-l.pace.gatech.edu\n",
      "MPI proc 57 host: rich133-k40-27-l.pace.gatech.edu\n",
      "MPI proc 58 host: rich133-k40-27-l.pace.gatech.edu\n",
      "MPI proc 59 host: rich133-k40-27-l.pace.gatech.edu\n",
      "MPI proc 60 host: rich133-k40-27-l.pace.gatech.edu\n",
      "MPI proc 61 host: rich133-k40-27-l.pace.gatech.edu\n",
      "MPI proc 62 host: rich133-k40-27-l.pace.gatech.edu\n",
      "MPI proc 63 host: rich133-k40-27-l.pace.gatech.edu\n",
      "MPI proc 64 host: rich133-k40-27-l.pace.gatech.edu\n",
      "MPI proc 65 host: rich133-k40-27-l.pace.gatech.edu\n",
      "MPI proc 66 host: rich133-k40-27-l.pace.gatech.edu\n",
      "MPI proc 67 host: rich133-k40-27-l.pace.gatech.edu\n",
      "MPI proc 68 host: rich133-k40-27-l.pace.gatech.edu\n",
      "MPI proc 69 host: rich133-k40-27-l.pace.gatech.edu\n",
      "MPI proc 70 host: rich133-k40-27-l.pace.gatech.edu\n",
      "MPI proc 71 host: rich133-k40-27-l.pace.gatech.edu\n",
      "MPI proc 72 host: rich133-k40-27-l.pace.gatech.edu\n",
      "MPI proc 73 host: rich133-k40-27-l.pace.gatech.edu\n",
      "MPI proc 74 host: rich133-k40-27-l.pace.gatech.edu\n",
      "MPI proc 75 host: rich133-k40-27-l.pace.gatech.edu\n",
      "MPI proc 76 host: rich133-k40-27-l.pace.gatech.edu\n",
      "MPI proc 77 host: rich133-k40-27-l.pace.gatech.edu\n",
      "MPI proc 78 host: rich133-k40-27-l.pace.gatech.edu\n",
      "MPI proc 79 host: rich133-k40-27-l.pace.gatech.edu\n",
      "MPI proc 80 host: rich133-k40-27-l.pace.gatech.edu\n",
      "MPI proc 81 host: rich133-k40-27-l.pace.gatech.edu\n",
      "MPI proc 82 host: rich133-k40-27-l.pace.gatech.edu\n",
      "MPI proc 83 host: rich133-k40-27-l.pace.gatech.edu\n",
      "MPI proc 84 host: rich133-k40-27-r.pace.gatech.edu\n",
      "MPI proc 85 host: rich133-k40-27-r.pace.gatech.edu\n",
      "MPI proc 86 host: rich133-k40-27-r.pace.gatech.edu\n",
      "MPI proc 87 host: rich133-k40-27-r.pace.gatech.edu\n",
      "MPI proc 88 host: rich133-k40-27-r.pace.gatech.edu\n",
      "MPI proc 89 host: rich133-k40-27-r.pace.gatech.edu\n",
      "MPI proc 90 host: rich133-k40-27-r.pace.gatech.edu\n",
      "MPI proc 91 host: rich133-k40-27-r.pace.gatech.edu\n",
      "MPI proc 92 host: rich133-k40-27-r.pace.gatech.edu\n",
      "MPI proc 93 host: rich133-k40-27-r.pace.gatech.edu\n",
      "MPI proc 94 host: rich133-k40-27-r.pace.gatech.edu\n",
      "MPI proc 95 host: rich133-k40-27-r.pace.gatech.edu\n",
      "MPI proc 96 host: rich133-k40-27-r.pace.gatech.edu\n",
      "MPI proc 97 host: rich133-k40-27-r.pace.gatech.edu\n",
      "MPI proc 98 host: rich133-k40-27-r.pace.gatech.edu\n",
      "MPI proc 99 host: rich133-k40-27-r.pace.gatech.edu\n",
      "MPI proc 100 host: rich133-k40-27-r.pace.gatech.edu\n",
      "MPI proc 101 host: rich133-k40-27-r.pace.gatech.edu\n",
      "MPI proc 102 host: rich133-k40-27-r.pace.gatech.edu\n",
      "MPI proc 103 host: rich133-k40-27-r.pace.gatech.edu\n",
      "MPI proc 104 host: rich133-k40-27-r.pace.gatech.edu\n",
      "MPI proc 105 host: rich133-k40-27-r.pace.gatech.edu\n",
      "MPI proc 106 host: rich133-k40-27-r.pace.gatech.edu\n",
      "MPI proc 107 host: rich133-k40-27-r.pace.gatech.edu\n",
      "MPI proc 108 host: rich133-k40-27-r.pace.gatech.edu\n",
      "MPI proc 109 host: rich133-k40-27-r.pace.gatech.edu\n",
      "MPI proc 110 host: rich133-k40-27-r.pace.gatech.edu\n",
      "MPI proc 111 host: rich133-k40-27-r.pace.gatech.edu\n",
      "MPI Point-to-point ping-pong test:\n",
      " # Processes  | Message Size | Total Size   | Time         | B/s\n",
      "           14              8            112   +2.96903e-06   +3.77228e+07\n",
      "           14             64            896   +7.03096e-07   +1.27436e+09\n",
      "           14            512           7168   +1.65606e-06   +4.32836e+09\n",
      "           14           4096          57344   +2.31409e-06   +2.47804e+10\n",
      "           14          32768         458752   +2.17881e-05   +2.10551e+10\n",
      "           14         262144        3670016   +9.68978e-05   +3.78751e+10\n",
      "           14        2097152       29360128   +6.12578e-04   +4.79288e+10\n",
      "           28              8            224   +3.69501e-06   +6.06223e+07\n",
      "           28             64           1792   +3.00097e-06   +5.97139e+08\n",
      "           28            512          14336   +3.94487e-06   +3.63408e+09\n",
      "           28           4096         114688   +8.19588e-06   +1.39934e+10\n",
      "           28          32768         917504   +4.20749e-05   +2.18064e+10\n",
      "           28         262144        7340032   +2.90745e-04   +2.52456e+10\n",
      "           28        2097152       58720256   +2.32864e-03   +2.52165e+10\n",
      "           56              8            448   +9.71103e-06   +4.61331e+07\n",
      "           56             64           3584   +6.27708e-06   +5.70966e+08\n",
      "           56            512          28672   +1.85769e-05   +1.54343e+09\n",
      "           56           4096         229376   +7.23801e-05   +3.16905e+09\n",
      "           56          32768        1835008   +4.02428e-04   +4.55984e+09\n",
      "           56         262144       14680064   +2.15259e-03   +6.81972e+09\n",
      "           56        2097152      117440512   +1.68176e-02   +6.98320e+09\n"
     ]
    },
    {
     "name": "stdout",
     "output_type": "stream",
     "text": [
      "          112              8            896   +8.38304e-06   +1.06883e+08\n",
      "          112             64           7168   +5.99098e-06   +1.19646e+09\n",
      "          112            512          57344   +1.71261e-05   +3.34834e+09\n",
      "          112           4096         458752   +5.26769e-05   +8.70879e+09\n",
      "          112          32768        3670016   +3.10034e-04   +1.18375e+10\n",
      "          112         262144       29360128   +2.00414e-03   +1.46498e+10\n",
      "          112        2097152      234881024   +1.54756e-02   +1.51775e+10\n",
      "MPI Broadcast ping-pong test:\n",
      " # Processes  | Message Size | Total Size   | Time         | B/s\n",
      "           14              8            208   +1.90091e-06   +1.09421e+08\n",
      "           14             64           1664   +3.43704e-06   +4.84137e+08\n",
      "           14            512          13312   +6.20103e-06   +2.14674e+09\n",
      "           14           4096         106496   +2.55010e-05   +4.17615e+09\n",
      "           14          32768         851968   +1.78816e-04   +4.76450e+09\n",
      "           14         262144        6815744   +5.35257e-04   +1.27336e+10\n",
      "           14        2097152       54525952   +7.14436e-03   +7.63202e+09\n",
      "           28              8            432   +4.23002e-06   +1.02127e+08\n",
      "           28             64           3456   +5.78880e-06   +5.97015e+08\n",
      "           28            512          27648   +1.30708e-05   +2.11525e+09\n",
      "           28           4096         221184   +3.36480e-05   +6.57346e+09\n",
      "           28          32768        1769472   +2.18496e-04   +8.09842e+09\n",
      "           28         262144       14155776   +6.61324e-04   +2.14052e+10\n",
      "           28        2097152      113246208   +8.06485e-03   +1.40419e+10\n",
      "           56              8            880   +4.58002e-06   +1.92139e+08\n",
      "           56             64           7040   +5.62406e-06   +1.25177e+09\n",
      "           56            512          56320   +1.08681e-05   +5.18215e+09\n",
      "           56           4096         450560   +4.01042e-05   +1.12347e+10\n",
      "           56          32768        3604480   +2.11788e-04   +1.70193e+10\n",
      "           56         262144       28835840   +7.63238e-04   +3.77809e+10\n",
      "           56        2097152      230686720   +9.34328e-03   +2.46901e+10\n",
      "          112              8           1776   +5.38802e-06   +3.29620e+08\n",
      "          112             64          14208   +6.16312e-06   +2.30533e+09\n",
      "          112            512         113664   +1.23310e-05   +9.21774e+09\n",
      "          112           4096         909312   +4.81882e-05   +1.88700e+10\n",
      "          112          32768        7274496   +9.38781e-04   +7.74888e+09\n",
      "          112         262144       58195968   +2.34016e-03   +2.48684e+10\n",
      "          112        2097152      465567744   +2.07307e-02   +2.24579e+10\n",
      "MPI Scatter ping-pong test:\n",
      " # Processes  | Message Size | Total Size   | Time         | B/s\n",
      "           14              8            208   +5.48792e-06   +3.79014e+07\n",
      "           14             64           1664   +7.80106e-06   +2.13304e+08\n",
      "           14            512          13312   +7.02190e-06   +1.89578e+09\n",
      "           14           4096         106496   +1.72431e-05   +6.17613e+09\n",
      "           14          32768         851968   +1.34903e-04   +6.31540e+09\n",
      "           28              8            432   +1.31130e-05   +3.29444e+07\n",
      "           28             64           3456   +1.44992e-05   +2.38358e+08\n",
      "           28            512          27648   +1.60680e-05   +1.72069e+09\n",
      "           28           4096         221184   +4.99742e-05   +4.42596e+09\n",
      "           28          32768        1769472   +4.17307e-04   +4.24022e+09\n",
      "           56              8            880   +1.39210e-05   +6.32137e+07\n",
      "           56             64           7040   +1.71170e-05   +4.11286e+08\n",
      "           56            512          56320   +4.59220e-05   +1.22643e+09\n",
      "           56           4096         450560   +1.13812e-04   +3.95881e+09\n",
      "           56          32768        3604480   +9.41449e-04   +3.82865e+09\n",
      "          112              8           1776   +1.47691e-05   +1.20251e+08\n",
      "          112             64          14208   +1.77011e-05   +8.02660e+08\n",
      "          112            512         113664   +4.60980e-05   +2.46570e+09\n",
      "          112           4096         909312   +3.39786e-04   +2.67613e+09\n",
      "          112          32768        7274496   +1.89255e-03   +3.84376e+09\n",
      "MPI All-reduce test:\n",
      " # Processes  | Message Size | Total Size   | Time         | B/s\n",
      "           14              8            208   +2.05898e-06   +1.01021e+08\n",
      "           14             64           1664   +3.71408e-06   +4.48024e+08\n",
      "           14            512          13312   +6.41108e-06   +2.07641e+09\n",
      "           14           4096         106496   +1.35901e-05   +7.83629e+09\n",
      "           14          32768         851968   +8.13951e-05   +1.04671e+10\n",
      "           14         262144        6815744   +5.27809e-04   +1.29133e+10\n",
      "           14        2097152       54525952   +2.62189e-03   +2.07965e+10\n",
      "           28              8            432   +5.24497e-06   +8.23646e+07\n",
      "           28             64           3456   +5.68891e-06   +6.07498e+08\n",
      "           28            512          27648   +2.62542e-05   +1.05309e+09\n",
      "           28           4096         221184   +2.08311e-05   +1.06180e+10\n",
      "           28          32768        1769472   +1.44167e-04   +1.22738e+10\n",
      "           28         262144       14155776   +7.87520e-04   +1.79751e+10\n",
      "           28        2097152      113246208   +3.39001e-03   +3.34059e+10\n",
      "           56              8            880   +7.25913e-06   +1.21227e+08\n",
      "           56             64           7040   +8.22616e-06   +8.55807e+08\n",
      "           56            512          56320   +1.72410e-05   +3.26663e+09\n",
      "           56           4096         450560   +3.24571e-05   +1.38817e+10\n",
      "           56          32768        3604480   +1.99184e-04   +1.80962e+10\n",
      "           56         262144       28835840   +7.96163e-04   +3.62185e+10\n",
      "           56        2097152      230686720   +4.46744e-03   +5.16373e+10\n",
      "          112              8           1776   +8.92711e-06   +1.98945e+08\n",
      "          112             64          14208   +1.22020e-05   +1.16440e+09\n",
      "          112            512         113664   +2.11771e-05   +5.36732e+09\n",
      "          112           4096         909312   +7.45111e-05   +1.22037e+10\n",
      "          112          32768        7274496   +2.89265e-04   +2.51482e+10\n",
      "          112         262144       58195968   +1.13987e-03   +5.10550e+10\n",
      "          112        2097152      465567744   +6.61965e-03   +7.03312e+10\n",
      "MPI All-gather test:\n",
      " # Processes  | Message Size | Total Size   | Time         | B/s\n",
      "           14              8           1456   +2.64907e-06   +5.49627e+08\n",
      "           14             64          11648   +4.92191e-06   +2.36656e+09\n",
      "           14            512          93184   +7.46703e-06   +1.24794e+10\n",
      "           14           4096         745472   +2.88711e-05   +2.58207e+10\n",
      "           14          32768        5963776   +1.52577e-04   +3.90870e+10\n",
      "           28              8           6048   +4.62794e-06   +1.30684e+09\n",
      "           28             64          48384   +8.88801e-06   +5.44374e+09\n",
      "           28            512         387072   +2.13151e-05   +1.81595e+10\n",
      "           28           4096        3096576   +1.05433e-04   +2.93701e+10\n",
      "           28          32768       24772608   +5.43945e-04   +4.55425e+10\n",
      "           56              8          24640   +1.49870e-05   +1.64409e+09\n",
      "           56             64         197120   +1.19340e-05   +1.65175e+10\n",
      "           56            512        1576960   +4.60441e-05   +3.42489e+10\n",
      "           56           4096       12615680   +1.11790e-04   +1.12851e+11\n",
      "           56          32768      100925440   +1.28599e-03   +7.84809e+10\n",
      "          112              8          99456   +2.11451e-05   +4.70350e+09\n",
      "          112             64         795648   +3.97620e-05   +2.00103e+10\n",
      "          112            512        6365184   +1.60666e-04   +3.96175e+10\n",
      "          112           4096       50921472   +2.29168e-04   +2.22201e+11\n",
      "          112          32768      407371776   +3.52606e-03   +1.15532e+11\n",
      "MPI All-to-all test:\n",
      " # Processes  | Message Size | Total Size   | Time         | B/s\n",
      "           14              8           1352   +4.20189e-06   +3.21760e+08\n",
      "           14             64          10816   +1.87228e-05   +5.77692e+08\n"
     ]
    },
    {
     "name": "stdout",
     "output_type": "stream",
     "text": [
      "           14            512          86528   +1.77760e-05   +4.86768e+09\n",
      "           14           4096         692224   +3.51028e-05   +1.97199e+10\n",
      "           14          32768        5537792   +2.06421e-04   +2.68277e+10\n",
      "           28              8           5832   +1.09310e-05   +5.33528e+08\n",
      "           28             64          46656   +7.94780e-05   +5.87030e+08\n",
      "           28            512         373248   +9.53531e-05   +3.91438e+09\n",
      "           28           4096        2985984   +1.25103e-04   +2.38682e+10\n",
      "           28          32768       23887872   +8.42944e-04   +2.83386e+10\n",
      "           56              8          24200   +1.49817e-04   +1.61530e+08\n",
      "           56             64         193600   +7.09358e-04   +2.72923e+08\n",
      "           56            512        1548800   +2.26662e-04   +6.83308e+09\n",
      "           56           4096       12390400   +1.54763e-03   +8.00605e+09\n",
      "           56          32768       99123200   +8.23793e-03   +1.20325e+10\n",
      "          112              8          98568   +9.87208e-04   +9.98452e+07\n",
      "          112             64         788544   +3.60750e-03   +2.18584e+08\n",
      "          112            512        6308352   +7.85985e-04   +8.02605e+09\n",
      "          112           4096       50466816   +7.96991e-03   +6.33217e+09\n",
      "          112          32768      403734528   +3.09499e-02   +1.30448e+10\n"
     ]
    }
   ],
   "source": [
    "make clean\n",
    "make runbenchmarks"
   ]
  },
  {
   "cell_type": "code",
   "execution_count": 8,
   "metadata": {
    "scrolled": false
   },
   "outputs": [
    {
     "name": "stdout",
     "output_type": "stream",
     "text": []
    },
    {
     "data": {
      "image/png": "[encoded data removed]"
     },
     "metadata": {},
     "output_type": "display_data"
    }
   ],
   "source": [
    "display < benchmarks.png"
   ]
  },
  {
   "cell_type": "markdown",
   "metadata": {},
   "source": [
    "(Right now the graph is showing no values because the \"timing\" values are negative until you complete the code)"
   ]
  },
  {
   "cell_type": "markdown",
   "metadata": {},
   "source": [
    "**Task 2 (2 pts)** We've talked in class about a simplified model of the cost of an MPI message: $\\lambda + g b$, where $\\lambda$ is the latency and $g$ is the inverse bandwidth.\n",
    "Using your graph for Send/Recv bandwidths for different message sizes (which was simply calculated from dividing the message size by the message time), estimate $\\lambda$ (units secs) and $g$ (units secs/byte) for this MPI implementation on these nodes."
   ]
  },
  {
   "cell_type": "markdown",
   "metadata": {},
   "source": [
    "time = $\\lambda + gb$\n",
    "\n",
    "message time = reported send/recv bandwidth / message size\n",
    "\n",
    "+2.96903e-06 = $\\lambda + 8g$\n",
    "\n",
    "+7.03096e-07 = $\\lambda + 64g$\n",
    "\n",
    "Solving the two equations:\n",
    "\n",
    "g = 1.83602×10^-10 bytes/sec\n",
    "\n",
    "$\\lambda$ = 1.56206×10^-6 1/sec"
   ]
  },
  {
   "cell_type": "markdown",
   "metadata": {},
   "source": [
    "**Task 4 (3 pts)** The point-to-point sends and receives in MPI are _symmetric_: there must be a receive for each send.  What if we start with a list of messages that is _asymmetric_: we know who to send to, but not who to receive from.\n",
    "\n",
    "Suppose rank $i$ has $N_i$ messages bound for receivers $r_{i,j}$ for $1 \\leq j \\leq N_i$.  Let $S_{i,j}$ be the size of the message from $i$ to $r_{i,j}$, and let $S_i = \\sum_j S_{i,j}$ be the total outgoing message volume from rank $i$.\n",
    "\n",
    "Process $r_{i,j}$ does not know it is going to receive a message from $i$.\n",
    "\n",
    "Give pseudocode below for two algorithms, using MPI sends, receives, and collectives that we have talked about, to send all of the messages.\n",
    "\n",
    "In the first one, assume that there is a large volume of communication: that $S_i \\in O(P)$ for each $i$.\n",
    "\n",
    "In the second one, assume that there is a small volume of communication, and a small number of communicators:\n",
    "$S_i \\in O(1)$, and each rank needs to send or receive a message from $O(1)$ other processes."
   ]
  },
  {
   "cell_type": "code",
   "execution_count": null,
   "metadata": {
    "scrolled": false
   },
   "outputs": [],
   "source": []
  }
 ],
 "metadata": {
  "kernelspec": {
   "display_name": "Bash",
   "language": "bash",
   "name": "bash"
  },
  "language_info": {
   "codemirror_mode": "shell",
   "file_extension": ".sh",
   "mimetype": "text/x-sh",
   "name": "bash"
  }
 },
 "nbformat": 4,
 "nbformat_minor": 2
}
