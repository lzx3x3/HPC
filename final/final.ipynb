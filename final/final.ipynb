{
 "cells": [
  {
   "cell_type": "markdown",
   "metadata": {},
   "source": [
    "# Final Project\n",
    "\n",
    "## Due Thursday, December 12th at 5:00 PM EDT, no extensions"
   ]
  },
  {
   "cell_type": "markdown",
   "metadata": {},
   "source": [
    "## 1. Running a community benchmark (15 pts)\n",
    "\n",
    "For those working in pairs, one version of this question will be graded.\n",
    "\n",
    "You are asked to take all of the necessary steps to run a meaningful benchmark code on pace-ice.  First we should talk about what a meaningful benchmark is.\n",
    "\n",
    "### A meaningful benchmark should:\n",
    "\n",
    "### a. Help someone working in a non-HPC domain understand / predict how useful a particular machine is to solving their problem.\n",
    "\n",
    "### b. Report a machine-independent measure of performance, to allow for fair comparison and portability.\n",
    "\n",
    "### c. Have an algorithm-independent statement of what the problem is (i.e. phrased in terms of inputs and outputs), to avoid artificially constraining the implementations.\n",
    "\n",
    "### d. Be as simple as possible, so that the results of the benchmark are explainable and reproducible.\n",
    "\n",
    "With these criteria in mind, you are welcome to select any accepted community benchmark with an open-source implementation.\n",
    "\n",
    "- The benchmark implementation must be *open*, so that we may see what exactly is being run.\n",
    "- An \"accepted community\" benchmark should ideally have a website describing itself, publishd benchmark results, and (ideally) a peer-reviewed in-depth description.\n",
    "\n",
    "\n",
    "### Here are some recommendations that you could choose from:\n",
    "\n",
    "### [HPLinpack](http://www.netlib.org/benchmark/hpl/): Dense Linear Algebra\n",
    "\n",
    "### [HPCG](http://hpcg-benchmark.org/): Iterative Sparse Linear Algebra\n",
    "\n",
    "### [Graph500](https://graph500.org/): Data-Intensive Graph Algorithms\n",
    "\n",
    "### [HPGMG](http://crd.lbl.gov/departments/computer-science/PAR/research/hpgmg/): Multilevel PDE Solvers\n",
    "\n",
    "### [LAMMPS](https://lammps.sandia.gov/index.html) ([benchmarks](https://lammps.sandia.gov/bench.html)): Molecular Dynamics\n",
    "\n",
    "### [TensorFlow](tensorflow.org) ([benchmarks](https://github.com/tensorflow/benchmarks)): Machine Learning\n",
    "\n",
    "---"
   ]
  },
  {
   "cell_type": "markdown",
   "metadata": {},
   "source": [
    "**1.1 (1 pts):** In a cell below, tell me which benchmark you are choosing.  Provide a link.  If the benchmark is actually a suite of benchmarks, tell me which one you would like to focus on.  If there are citations for the benchmark, give me those, too, please.  After that, give:\n",
    "\n",
    "- As complete a description as possible of the *problem* being solved.  Include scaling parameters like problem size $N$, and any other \"free\" parameters that can change between different runs of the benchmark.\n",
    "\n",
    "- As complete a description as possible of the *value* of the benchmark: what quantity is being reported?\n",
    "\n",
    "Then, tell me which type of pace-ice node you intend to use to test the benchmark."
   ]
  },
  {
   "cell_type": "markdown",
   "metadata": {},
   "source": [
    "#### 1.1 Answer:\n",
    "\n",
    "We chose the HPLinpack Benchmark [HPLinpack](http://www.netlib.org/benchmark/hpl/)"
   ]
  },
  {
   "cell_type": "markdown",
   "metadata": {},
   "source": [
    "**1.2 (4 pts):** In your own words, give me your assessment of the quality of the benchmark according to the four points (a), (b), (c), and (d) above.\n",
    "\n",
    "- a. Describe some applications where the benchmark problem is relevant.  Benchmarks must walk a fine line between being to specific to one application but very predictive, versus being general to lots of applications while being too simple to predict the performance of any application very well.  Do you think the benchmark you chose does a good job with this balance?\n",
    "\n",
    "- b. What assumptions does your benchmark make about the kind of machine that it is run on?  Do you think that those assumptions are reasonable?  Let's make this question very concrete: let's say you have access to [TaihuLight](https://en.wikipedia.org/wiki/Sunway_TaihuLight), whose nodes are neither really CPUs or GPUs, but somewhere in between.  Could your benchmark run on this machine?  If not, propose a way that you could change the benchmark to make it more portable.\n",
    "\n",
    "- c. How exactly does your benchmark specify the way the problem is solved?  If your benchmark is for a particular algorithm or a particular code, do you think that the results of the benchmark would help you predict the performance of a different code/algorithm solving the same problem on the same machine?\n",
    "\n",
    "- d. One measure of the complexity of a benchmark is how difficult it would be to write a reference implementation from scratch (one that solves the problem, if not in a \"high-performance\" way).  If you had to guess, how big would a team have to be do that: (i) one dedicated programmer; (ii) a team of about a dozen (like a research lab); (iii) an Organization (like a division of a company or a government agency)?  Give your reasoning (by, e.g. measuring lines of code in the implementation you will be working with)"
   ]
  },
  {
   "cell_type": "markdown",
   "metadata": {},
   "source": [
    "**1.3 (1 pts):** Try to prepare for some of the logistics ahead of you.  Answer the following questions:\n",
    "\n",
    "- a. Where / how will you obtain the source for the benchmark driver and implementation that you will be using? (Regarding how: is it a tarball, repository, or other?)\n",
    "\n",
    "- b. What software environments will you need to build and run the benchmark? (e.g. Does it use raw `make`? Autotools?  CMake?  Is it python/pip/conda?  Does it need MPI?  OpenMP?  Cuda?)"
   ]
  },
  {
   "cell_type": "markdown",
   "metadata": {},
   "source": [
    "**1.4 (1 pts):** Successfully install and run your benchmark\n",
    "\n",
    "Include in this directory an example **job submission script** that runs your benchmark code."
   ]
  },
  {
   "cell_type": "markdown",
   "metadata": {},
   "source": [
    "#### Step 1 Benchmark installation:\n",
    "I created a directory named \"hpl\" under cse6230/final, to contain all the neccessary files for the benchmark"
   ]
  },
  {
   "cell_type": "code",
   "execution_count": 7,
   "metadata": {},
   "outputs": [
    {
     "name": "stdout",
     "output_type": "stream",
     "text": [
      "BLAS-3.8.0  blas-3.8.0.tgz  hpl-2.3  hpl-2.3.tar.gz\n"
     ]
    }
   ],
   "source": [
    "cd ~\n",
    "cd /nv/coc-ice/mguo34/cse6230/final/hpl\n",
    "ls"
   ]
  },
  {
   "cell_type": "markdown",
   "metadata": {},
   "source": [
    "##### About Downloading the packages\n",
    "\n",
    "hpl-2.3.tar.gz can be downloaded at (http://www.netlib.org/benchmark/hpl/hpl-2.3.tar.gz) <br/>\n",
    "blas-3.8.0.tgz can be downloaded at (http://www.netlib.org/blas/blas-3.8.0.tgz)<br/>\n",
    "the benchmark tool is hpl-2.3, but blas will be one of the neccessary package to successfully make the executionables \n",
    "BLAS \n",
    "\n",
    "##### About building the tool packages\n",
    "###### Load Modules\n",
    "\n",
    "It is always needed to load the neccessary modules first, here to ease the touble, we always load :\n",
    "```bash\n",
    "module use $CSE6230_DIR/modulefiles\n",
    "module unload cse6230/core\n",
    "module load cse6230/gcc-omp-gpu\n",
    "```\n",
    "\n",
    "###### HPL:\n",
    "\n",
    "After downloading and uploads the packages to the final/hpl folder:\n",
    "\n",
    "`mguo34@coc-ice:~/cse6230/final/hpl$ tar -xzvf hpl-2.3.tar.gz` <br/>\n",
    "\n",
    "`mguo34@coc-ice:~/cse6230/final/hpl$ cd hpl-2.3/setup` <br/>\n",
    "\n",
    "To generate a template:<br/>\n",
    "\n",
    "`mguo34@coc-ice:~/cse6230/final/hpl/hpl-2.3/setup$ sh make_generic ` <br/>\n",
    "\n",
    "Then have our make file named as Make.Linux, and move it to the higher level directory <br/>\n",
    "\n",
    "`mguo34@coc-ice:~/cse6230/final/hpl/hpl-2.3/setup$  cp Make.UNKNOWN ../Make.Linux  ` <br/>\n",
    "\n",
    "And go back to hpl/hpl-2.3/ directory <br/>\n",
    "`mguo34@coc-ice:~/cse6230/final/hpl/hpl-2.3/setup$ cd .. ` <br/>\n",
    "\n",
    "Now we have a Make.Linux template to work on. \n",
    "\n",
    "```bash\n",
    "mguo34@coc-ice:~/cse6230/final/hpl/hpl-2.3$ ls\n",
    "acinclude.m4  BUGS          config.sub    COPYRIGHT  INSTALL     Makefile.am  Make.top  README   THANKS\n",
    "aclocal.m4    ChangeLog     configure     depcomp    install-sh  Makefile.in  man       setup    TODO\n",
    "AUTHORS       compile       configure.ac  HISTORY    lib         Make.Linux   missing   src      TUNING\n",
    "bin           config.guess  COPYING       include    Makefile    makes        NEWS      testing  www\n",
    "\n",
    "```\n",
    "Open with any editors, it should be showing a template, yet not completed, we need add dependecy patch to make sure the tool can be successfully built. it will need mvapich2, BLAS, and the hpl <br/>\n",
    "\n",
    "```bash\n",
    "mguo34@coc-ice:~/cse6230/final/hpl/hpl-2.3$ vi Make.Linux\n",
    "```\n",
    "\n",
    "\n",
    "###### BLAS:\n",
    "\n",
    "`mguo34@coc-ice:~/cse6230/final/hpl$ tar -xzvf blas-3.8.0.tgz` <br/>\n",
    "\n",
    "`mguo34@coc-ice:~/cse6230/final/hpl$ cd BLAS-3.8.0` <br/>\n",
    "\n",
    "For 64 system, we need to use g77 to complie:\n",
    "```\n",
    "g77 -O3 -m64 -fno-second-underscore -fPIC -c *.f\n",
    "gfortran -O3 -std=legacy -m64 -fno-second-underscore -fPIC -c *.f\n",
    "```\n",
    "\n",
    "And then we run:\n",
    "```\n",
    "ar r libfblas.a *.o\n",
    "ranlib libfblas.a\n",
    "```\n",
    "\n",
    "to make the `libfblas.a` file which we will use it for later `Make.Linux` file"
   ]
  },
  {
   "cell_type": "markdown",
   "metadata": {},
   "source": [
    "###### MODIFY MAKE FILE:\n",
    "After successfully get all the neccessary files, we are reay to make modifications of the Make.Linux file\n",
    "This is the final version of my Make.Linux:\n",
    "And here is the Make.Linux that I modified for building.\n"
   ]
  },
  {
   "cell_type": "code",
   "execution_count": 14,
   "metadata": {},
   "outputs": [
    {
     "name": "stdout",
     "output_type": "stream",
     "text": [
      "/nv/coc-ice/mguo34/cse6230/final/hpl/hpl-2.3\n",
      "#  \n",
      "#  -- High Performance Computing Linpack Benchmark (HPL)                \n",
      "#     HPL - 2.3 - December 2, 2018                          \n",
      "#     Antoine P. Petitet                                                \n",
      "#     University of Tennessee, Knoxville                                \n",
      "#     Innovative Computing Laboratory                                 \n",
      "#     (C) Copyright 2000-2008 All Rights Reserved                       \n",
      "#                                                                       \n",
      "#  -- Copyright notice and Licensing terms:                             \n",
      "#                                                                       \n",
      "#  Redistribution  and  use in  source and binary forms, with or without\n",
      "#  modification, are  permitted provided  that the following  conditions\n",
      "#  are met:                                                             \n",
      "#                                                                       \n",
      "#  1. Redistributions  of  source  code  must retain the above copyright\n",
      "#  notice, this list of conditions and the following disclaimer.        \n",
      "#                                                                       \n",
      "#  2. Redistributions in binary form must reproduce  the above copyright\n",
      "#  notice, this list of conditions,  and the following disclaimer in the\n",
      "#  documentation and/or other materials provided with the distribution. \n",
      "#                                                                       \n",
      "#  3. All  advertising  materials  mentioning  features  or  use of this\n",
      "#  software must display the following acknowledgement:                 \n",
      "#  This  product  includes  software  developed  at  the  University  of\n",
      "#  Tennessee, Knoxville, Innovative Computing Laboratory.             \n",
      "#                                                                       \n",
      "#  4. The name of the  University,  the name of the  Laboratory,  or the\n",
      "#  names  of  its  contributors  may  not  be used to endorse or promote\n",
      "#  products  derived   from   this  software  without  specific  written\n",
      "#  permission.                                                          \n",
      "#                                                                       \n",
      "#  -- Disclaimer:                                                       \n",
      "#                                                                       \n",
      "#  THIS  SOFTWARE  IS PROVIDED BY THE COPYRIGHT HOLDERS AND CONTRIBUTORS\n",
      "#  ``AS IS'' AND ANY EXPRESS OR IMPLIED WARRANTIES,  INCLUDING,  BUT NOT\n",
      "#  LIMITED TO, THE IMPLIED WARRANTIES OF MERCHANTABILITY AND FITNESS FOR\n",
      "#  A PARTICULAR PURPOSE ARE DISCLAIMED. IN NO EVENT SHALL THE UNIVERSITY\n",
      "#  OR  CONTRIBUTORS  BE  LIABLE FOR ANY  DIRECT,  INDIRECT,  INCIDENTAL,\n",
      "#  SPECIAL,  EXEMPLARY,  OR  CONSEQUENTIAL DAMAGES  (INCLUDING,  BUT NOT\n",
      "#  LIMITED TO, PROCUREMENT OF SUBSTITUTE GOODS OR SERVICES; LOSS OF USE,\n",
      "#  DATA OR PROFITS; OR BUSINESS INTERRUPTION)  HOWEVER CAUSED AND ON ANY\n",
      "#  THEORY OF LIABILITY, WHETHER IN CONTRACT,  STRICT LIABILITY,  OR TORT\n",
      "#  (INCLUDING NEGLIGENCE OR OTHERWISE) ARISING IN ANY WAY OUT OF THE USE\n",
      "#  OF THIS SOFTWARE, EVEN IF ADVISED OF THE POSSIBILITY OF SUCH DAMAGE. \n",
      "# ######################################################################\n",
      "#  \n",
      "# ----------------------------------------------------------------------\n",
      "# - shell --------------------------------------------------------------\n",
      "# ----------------------------------------------------------------------\n",
      "#\n",
      "SHELL        = /bin/sh\n",
      "#\n",
      "CD           = cd\n",
      "CP           = cp\n",
      "LN_S         = ln -s\n",
      "MKDIR        = mkdir\n",
      "RM           = /bin/rm -f\n",
      "TOUCH        = touch\n",
      "#\n",
      "# ----------------------------------------------------------------------\n",
      "# - Platform identifier ------------------------------------------------\n",
      "# ----------------------------------------------------------------------\n",
      "#\n",
      "ARCH         = $(arch)\n",
      "#\n",
      "# ----------------------------------------------------------------------\n",
      "# - HPL Directory Structure / HPL library ------------------------------\n",
      "# ----------------------------------------------------------------------\n",
      "#\n",
      "TOPdir       = $(HOME)/cse6230/final/hpl/hpl-2.3\n",
      "INCdir       = $(TOPdir)/include\n",
      "BINdir       = $(TOPdir)/bin/$(ARCH)\n",
      "LIBdir       = $(TOPdir)/lib/$(ARCH)\n",
      "#\n",
      "HPLlib       = $(LIBdir)/libhpl.a \n",
      "#\n",
      "# ----------------------------------------------------------------------\n",
      "# - Message Passing library (MPI) --------------------------------------\n",
      "# ----------------------------------------------------------------------\n",
      "# MPinc tells the  C  compiler where to find the Message Passing library\n",
      "# header files,  MPlib  is defined  to be the name of  the library to be \n",
      "# used. The variable MPdir is only used for defining MPinc and MPlib.\n",
      "#\n",
      "#\n",
      "MPdir        = /nv/coc-ice/tisaac3/opt/pace-ice/mvapich2/2.3\n",
      "MPinc        = -I $(MPdir)/include\n",
      "MPlib        = $(MPdir)/lib/libmpich.so\n",
      "#\n",
      "# ----------------------------------------------------------------------\n",
      "# - Linear Algebra library (BLAS or VSIPL) -----------------------------\n",
      "# ----------------------------------------------------------------------\n",
      "# LAinc tells the  C  compiler where to find the Linear Algebra  library\n",
      "# header files,  LAlib  is defined  to be the name of  the library to be \n",
      "# used. The variable LAdir is only used for defining LAinc and LAlib.\n",
      "#\n",
      "\n",
      "LAdir        = /nv/coc-ice/mguo34/cse6230/final/hpl/BLAS-3.8.0\n",
      "LAinc        = \n",
      "LAlib        = $(LAdir)/libfblas.a\n",
      "#\n",
      "# ----------------------------------------------------------------------\n",
      "# - F77 / C interface --------------------------------------------------\n",
      "# ----------------------------------------------------------------------\n",
      "# You can skip this section  if and only if  you are not planning to use\n",
      "# a  BLAS  library featuring a Fortran 77 interface.  Otherwise,  it  is\n",
      "# necessary  to  fill out the  F2CDEFS  variable  with  the  appropriate\n",
      "# options.  **One and only one**  option should be chosen in **each** of\n",
      "# the 3 following categories:\n",
      "#\n",
      "# 1) name space (How C calls a Fortran 77 routine)\n",
      "#\n",
      "# -DAdd_              : all lower case and a suffixed underscore  (Suns,\n",
      "#                       Intel, ...),                           [default]\n",
      "# -DNoChange          : all lower case (IBM RS6000),\n",
      "# -DUpCase            : all upper case (Cray),\n",
      "# -DAdd__             : the FORTRAN compiler in use is f2c.\n",
      "#\n",
      "# 2) C and Fortran 77 integer mapping\n",
      "#\n",
      "# -DF77_INTEGER=int   : Fortran 77 INTEGER is a C int,         [default]\n",
      "# -DF77_INTEGER=long  : Fortran 77 INTEGER is a C long,\n",
      "# -DF77_INTEGER=short : Fortran 77 INTEGER is a C short.\n",
      "#\n",
      "# 3) Fortran 77 string handling\n",
      "#\n",
      "# -DStringSunStyle    : The string address is passed at the string loca-\n",
      "#                       tion on the stack, and the string length is then\n",
      "#                       passed as  an  F77_INTEGER  after  all  explicit\n",
      "#                       stack arguments,                       [default]\n",
      "# -DStringStructPtr   : The address  of  a  structure  is  passed  by  a\n",
      "#                       Fortran 77  string,  and the structure is of the\n",
      "#                       form: struct {char *cp; F77_INTEGER len;},\n",
      "# -DStringStructVal   : A structure is passed by value for each  Fortran\n",
      "#                       77 string,  and  the  structure is  of the form:\n",
      "#                       struct {char *cp; F77_INTEGER len;},\n",
      "# -DStringCrayStyle   : Special option for  Cray  machines,  which  uses\n",
      "#                       Cray  fcd  (fortran  character  descriptor)  for\n",
      "#                       interoperation.\n",
      "#\n",
      "F2CDEFS      = -DAdd_ -DF77_INTEGER=int -DStringSunStyle\n",
      "#\n",
      "# ----------------------------------------------------------------------\n",
      "# - HPL includes / libraries / specifics -------------------------------\n",
      "# ----------------------------------------------------------------------\n",
      "#\n",
      "HPL_INCLUDES = -I$(INCdir) -I$(INCdir)/$(ARCH) $(LAinc) $(MPinc)\n",
      "HPL_LIBS     = $(HPLlib) $(LAlib) $(MPlib)\n",
      "#\n",
      "# - Compile time options -----------------------------------------------\n",
      "#\n",
      "# -DHPL_COPY_L           force the copy of the panel L before bcast;\n",
      "# -DHPL_CALL_CBLAS       call the cblas interface;\n",
      "# -DHPL_CALL_VSIPL       call the vsip  library;\n",
      "# -DHPL_DETAILED_TIMING  enable detailed timers;\n",
      "#\n",
      "# By default HPL will:\n",
      "#    *) not copy L before broadcast,\n"
     ]
    },
    {
     "name": "stdout",
     "output_type": "stream",
     "text": [
      "#    *) call the BLAS Fortran 77 interface,\n",
      "#    *) not display detailed timing information.\n",
      "#\n",
      "HPL_OPTS     =\n",
      "# \n",
      "# ----------------------------------------------------------------------\n",
      "#\n",
      "HPL_DEFS     = $(F2CDEFS) $(HPL_OPTS) $(HPL_INCLUDES) \n",
      "#\n",
      "# ----------------------------------------------------------------------\n",
      "# - Compilers / linkers - Optimization flags ---------------------------\n",
      "# ----------------------------------------------------------------------\n",
      "#\n",
      "CC           = mpicc\n",
      "CCNOOPT      = $(HPL_DEFS) \n",
      "CCFLAGS      = $(HPL_DEFS) \n",
      "#\n",
      "LINKER       = mpif77\n",
      "LINKFLAGS    = \n",
      "#\n",
      "ARCHIVER     = ar\n",
      "ARFLAGS      = r\n",
      "RANLIB       = echo\n",
      "#\n",
      "# ----------------------------------------------------------------------\n"
     ]
    }
   ],
   "source": [
    "cd /nv/coc-ice/mguo34/cse6230/final/hpl/hpl-2.3\n",
    "pwd\n",
    "cat Make.Linux"
   ]
  },
  {
   "cell_type": "markdown",
   "metadata": {},
   "source": [
    "###### MODIFY MAKE FILE:\n",
    "Now go to the hpl-2.3 directory and start compliling: <br/>\n",
    "First Make clean:<br/>\n",
    " `mguo34@coc-ice:~/cse6230/final/hpl/hpl-2.3$ make arch=Linux clean_arch_all`<br/>\n",
    "Then Make:<br/>\n",
    " `mguo34@coc-ice:~/cse6230/final/hpl/hpl-2.3$ make arch=Linux`<br/>"
   ]
  },
  {
   "cell_type": "markdown",
   "metadata": {},
   "source": [
    "#### Step 2 load modules and run a test:"
   ]
  },
  {
   "cell_type": "code",
   "execution_count": 15,
   "metadata": {},
   "outputs": [
    {
     "name": "stdout",
     "output_type": "stream",
     "text": [
      " =========================================================================\n",
      "|                                                                         |\n",
      "|       A note about python/3.6:                                          |\n",
      "|       PACE is lacking the staff to install all of the python 3          |\n",
      "|       modules, but we do maintain an anaconda distribution for          |\n",
      "|       both python 2 and python 3. As conda significantly reduces        |\n",
      "|       the overhead with package management, we would much prefer        |\n",
      "|       to maintain python 3 through anaconda.                            |\n",
      "|                                                                         |\n",
      "|       All pace installed modules are visible via the module avail       |\n",
      "|       command.                                                          |\n",
      "|                                                                         |\n",
      " =========================================================================\n"
     ]
    }
   ],
   "source": [
    "module use $CSE6230_DIR/modulefiles\n",
    "module unload cse6230/core\n",
    "module load cse6230/gcc-omp-gpu"
   ]
  },
  {
   "cell_type": "markdown",
   "metadata": {},
   "source": [
    "###### CHECK MY HARDWARES Models:"
   ]
  },
  {
   "cell_type": "code",
   "execution_count": 21,
   "metadata": {},
   "outputs": [
    {
     "name": "stdout",
     "output_type": "stream",
     "text": [
      "CPU : model name\t: Intel(R) Xeon(R) CPU E5-2680 v4 @ 2.40GHz\n",
      "COUNT : 28\n"
     ]
    }
   ],
   "source": [
    "CPU=$(cat /proc/cpuinfo | grep \"model name\" | tail -1)\n",
    "COUNT=$(cat /proc/cpuinfo | grep processor | wc -l)\n",
    "echo \"CPU : $CPU\"\n",
    "echo \"COUNT : $COUNT\""
   ]
  },
  {
   "cell_type": "code",
   "execution_count": 25,
   "metadata": {},
   "outputs": [
    {
     "name": "stdout",
     "output_type": "stream",
     "text": [
      "/nv/coc-ice/mguo34/cse6230/final/hpl/hpl-2.3/bin/Linux\n"
     ]
    }
   ],
   "source": [
    "cd /nv/coc-ice/mguo34/cse6230/final/hpl/hpl-2.3/bin/Linux\n",
    "pwd"
   ]
  },
  {
   "cell_type": "markdown",
   "metadata": {},
   "source": [
    "###### A test run:"
   ]
  },
  {
   "cell_type": "code",
   "execution_count": null,
   "metadata": {
    "scrolled": true
   },
   "outputs": [
    {
     "name": "stdout",
     "output_type": "stream",
     "text": [
      "================================================================================\n",
      "HPLinpack 2.3  --  High-Performance Linpack benchmark  --   December 2, 2018\n",
      "Written by A. Petitet and R. Clint Whaley,  Innovative Computing Laboratory, UTK\n",
      "Modified by Piotr Luszczek, Innovative Computing Laboratory, UTK\n",
      "Modified by Julien Langou, University of Colorado Denver\n",
      "================================================================================\n",
      "\n",
      "An explanation of the input/output parameters follows:\n",
      "T/V    : Wall time / encoded variant.\n",
      "N      : The order of the coefficient matrix A.\n",
      "NB     : The partitioning blocking factor.\n",
      "P      : The number of process rows.\n",
      "Q      : The number of process columns.\n",
      "Time   : Time in seconds to solve the linear system.\n",
      "Gflops : Rate of execution for solving the linear system.\n",
      "\n",
      "The following parameter values will be used:\n",
      "\n",
      "N      :     100     1000    10000 \n",
      "NB     :     128 \n",
      "PMAP   : Row-major process mapping\n",
      "P      :       2 \n",
      "Q      :       2 \n",
      "PFACT  :   Right \n",
      "NBMIN  :       4 \n",
      "NDIV   :       2 \n",
      "RFACT  :   Crout \n",
      "BCAST  :  1ringM \n",
      "DEPTH  :       0 \n",
      "SWAP   : Mix (threshold = 64)\n",
      "L1     : transposed form\n",
      "U      : transposed form\n",
      "EQUIL  : yes\n",
      "ALIGN  : 8 double precision words\n",
      "\n",
      "--------------------------------------------------------------------------------\n",
      "\n",
      "- The matrix A is randomly generated for each test.\n",
      "- The following scaled residual check will be computed:\n",
      "      ||Ax-b||_oo / ( eps * ( || x ||_oo * || A ||_oo + || b ||_oo ) * N )\n",
      "- The relative machine precision (eps) is taken to be               1.110223e-16\n",
      "- Computational tests pass if scaled residuals are less than                16.0\n",
      "\n",
      "================================================================================\n",
      "T/V                N    NB     P     Q               Time                 Gflops\n",
      "--------------------------------------------------------------------------------\n",
      "WR01C2R4         100   128     2     2               0.00             1.1552e+00\n",
      "HPL_pdgesv() start time Sun Dec  8 13:05:41 2019\n",
      "\n",
      "HPL_pdgesv() end time   Sun Dec  8 13:05:41 2019\n",
      "\n",
      "--------------------------------------------------------------------------------\n",
      "||Ax-b||_oo/(eps*(||A||_oo*||x||_oo+||b||_oo)*N)=   1.40995297e-02 ...... PASSED\n",
      "================================================================================\n",
      "T/V                N    NB     P     Q               Time                 Gflops\n",
      "--------------------------------------------------------------------------------\n",
      "WR01C2R4        1000   128     2     2               0.05             1.4120e+01\n",
      "HPL_pdgesv() start time Sun Dec  8 13:05:41 2019\n",
      "\n",
      "HPL_pdgesv() end time   Sun Dec  8 13:05:41 2019\n",
      "\n",
      "--------------------------------------------------------------------------------\n",
      "||Ax-b||_oo/(eps*(||A||_oo*||x||_oo+||b||_oo)*N)=   7.62640396e-03 ...... PASSED\n"
     ]
    }
   ],
   "source": [
    "mpirun -np 4 ./xhpl"
   ]
  },
  {
   "cell_type": "markdown",
   "metadata": {},
   "source": [
    "**1.5 (3 pts):** Develop a performance model for your benchmark\n",
    "\n",
    "In 1.1, you chose a performance metric of your benchmark, let's call it $V$.  Your benchmark will solve a problem with some parameters (problem size, the choice of matrix / network / etc.), let's call those parameters $N$.  The node that you chose to run on will have some machine parameters (The number of cores, the type of GPU, the bandwidth from main memory, etc., etc.), let's call them $P$.  Give an expression \n",
    "for $V(N,P)$ for your benchmark, and describe how you arrived at it.  You should use your discretion when choosing the level of detail.  If it is hard to develop a closed-form performance model for the whole benchmark, but there are a few key kernels that happens repeatedly in your benchmark (a stencil application, an iteration of stochastic gradient descent, etc.), you can give performance models for those benchmarks(s) instead.\n",
    "\n",
    "If it is difficult to formulate your expression in terms of machine parameters, try to develop an expression\n",
    "with coefficients that measure the rates at which the machine can do some lower-level operations (for example, the rate at which a GPU can sum an array).  If you have these coefficients, you should give a plausible description for how the architecture of the machine affects those rates."
   ]
  },
  {
   "cell_type": "code",
   "execution_count": null,
   "metadata": {},
   "outputs": [],
   "source": []
  },
  {
   "cell_type": "markdown",
   "metadata": {},
   "source": [
    "**1.6 (2 pts):** Gather statistics for the performance metric\n",
    "\n",
    "Include in this directory the **job script(s)** that you use to gather statistics for the performance metric on pace-ice.  Additionally, describe what steps you've taken to ensure the quality of the statistics: how are you accounting for variability / noise?  Does your benchmark show different performance on the first run than on subsequent runs?\n",
    "\n",
    "If you are running your benchmark for multiple problem instances ($N$), include a plot of the performance metric for the different problem instances. (You can include error bars for maximum/minimum values of the performance metric for the same problem instance to convey variability.)"
   ]
  },
  {
   "cell_type": "markdown",
   "metadata": {},
   "source": [
    "**1.7 (3 pts):** Compare your performance model to your statistics\n",
    "\n",
    "If your performance model allowed you to make a concrete prediction of $V(N,P)$ before running the benchmark,\n",
    "compare (in a table or plot) the predictions and the actual measurements.\n",
    "\n",
    "If your performance model includes coefficients that could not be estimated ahead of time, use measurements gathered during your experiments to get empirical values of those coefficients to fit the model to the data.  Once you do this, answer the following question: is there a plausible explanation (in terms of the architecture of the machine and the nature of the algorithm) for why these coefficients have the value that they do?\n",
    "\n",
    "Present additional timings and/or machine performance metrics (either for the full benchmark or key kernels) and make a case for why you think they best demonstrate what the biggest bottleneck to the performance of the benchmark is."
   ]
  },
  {
   "cell_type": "markdown",
   "metadata": {},
   "source": [
    "## 2. Paper report (5 pts)\n",
    "\n",
    "**Completed separately, not as a team**\n",
    "\n",
    "Choose one of the two Gordon Bell Prize finalists this year:\n",
    "\n",
    "- [A data-centric approach to extreme-scale ab initio dissipative quantum transport simulations](https://dl.acm.org/citation.cfm?id=3357156)\n",
    "- [Fast, scalable and accurate finite-element based ab initio calculations using mixed precision computing: 46 PFLOPS simulation of a metallic dislocation system](https://dl.acm.org/citation.cfm?id=3357157)\n",
    "\n",
    "Read the paper, and answer the following questions:\n",
    "\n",
    "- **a.** What is the problem being solved?\n",
    "\n",
    "- **b.** What are the most important kernels of the algorithm for solving the problem? (In this context consider a kernel to be a subproblem that is relevant to more than just the specific problem from a.)\n",
    "\n",
    "- **c.** What about the important kernels and/or the size of the problem make this a challenging problem?\n",
    "\n",
    "- **d.** Summarize the innovation of this paper.\n",
    "\n",
    "- **e.** What model is used that combines the problem parameters and machine parameters to predict performance?\n",
    "\n",
    "- **f.** Any paper that is submitted for a prize contains some marketing, and maybe some attempts to [fool the masses](https://blogs.fau.de/hager/archives/category/fooling-the-masses).  If you could ask the authors to submit one additional figure with the performance measurements of an experiment, what would you choose, and why?"
   ]
  }
 ],
 "metadata": {
  "kernelspec": {
   "display_name": "Bash",
   "language": "bash",
   "name": "bash"
  },
  "language_info": {
   "codemirror_mode": "shell",
   "file_extension": ".sh",
   "mimetype": "text/x-sh",
   "name": "bash"
  }
 },
 "nbformat": 4,
 "nbformat_minor": 2
}
