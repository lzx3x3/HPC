{
 "cells": [
  {
   "cell_type": "markdown",
   "metadata": {},
   "source": [
    "# Project 2 - Distributed Memory Sorting\n",
    "\n",
    "**Due November 14, 2019**\n",
    "\n",
    "Same logistic rules as Project 1 apply, regarding\n",
    "\n",
    "This notebook can be developed on a single core of any type, but will be graded on 4 nodes with 28 cores per node"
   ]
  },
  {
   "cell_type": "code",
   "execution_count": 1,
   "metadata": {},
   "outputs": [
    {
     "name": "stdout",
     "output_type": "stream",
     "text": [
      " =========================================================================\n",
      "|                                                                         |\n",
      "|       A note about python/3.6:                                          |\n",
      "|       PACE is lacking the staff to install all of the python 3          |\n",
      "|       modules, but we do maintain an anaconda distribution for          |\n",
      "|       both python 2 and python 3. As conda significantly reduces        |\n",
      "|       the overhead with package management, we would much prefer        |\n",
      "|       to maintain python 3 through anaconda.                            |\n",
      "|                                                                         |\n",
      "|       All pace installed modules are visible via the module avail       |\n",
      "|       command.                                                          |\n",
      "|                                                                         |\n",
      " =========================================================================\n"
     ]
    }
   ],
   "source": [
    "module use $CSE6230_DIR/modulefiles\n",
    "module unload cse6230/core\n",
    "module load cse6230/gcc-omp-gpu"
   ]
  },
  {
   "cell_type": "markdown",
   "metadata": {},
   "source": [
    "## Objectives\n",
    "\n",
    "- The goal of this project is to *use profiling* to optimize the performance of\n",
    "  an MPI-based library for distributed memory sorting.\n",
    "  - The main library interface is (as declared in [proj2sorter.h](proj2sorter.h)):\n",
    "\n",
    "``` C\n",
    "    /* This is the default implementation of sorting:\n",
    "     * \\param[in] sorter       The sorting context.  Put all of your customizations\n",
    "     *                         in this object.  Defined in proj2sorter_impl.h, where\n",
    "     *                         you can change the struct to include more data\n",
    "     * \\param[in] numKeysLocal The number of keys on this process.\n",
    "     * \\param[in] uniform      True if there are the same number of keys on each process\n",
    "     * \\param[in/out] keys     The input array.  On output, should be globally\n",
    "     *                         sorted in ascending order.\n",
    "     * \\return                 Non-zero if an error occured.\n",
    "     */\n",
    "    int Proj2SorterSort(Proj2Sorter sorter, size_t numKeysLocal, int uniform, uint64_t *keys);\n",
    "```\n",
    "  - The small library comes with some logging and error macros (see\n",
    "      [proj2.h](proj2.h)) as well as an interface for obtaining/restoring workspace\n",
    "      arrays (see `Proj2SorterGetWorkArray()` and `Proj2SorterRestoreWorkArray()` in\n",
    "      [proj2sorter.h](proj2sorter.h).  To be memory neutral, restore every\n",
    "      workspace that you get.\n",
    "\n",
    "  - Functioning parallel implementations have been provided, one based on\n",
    "      [quicksort](https://en.wikipedia.org/wiki/Quicksort#Parallelization) and\n",
    "      one base on [bitonic mergesort](https://en.wikipedia.org/wiki/Bitonic_sorter).\n",
    "\n",
    "  - A [template library](https://github.com/swenson/sort) originated by Chris\n",
    "      Swenson has been imported for a quicksort implementation that is faster\n",
    "      than `qsort` from the standard library.  The template library includes\n",
    "      other implementations that you are welcome to explore.\n",
    "      \n",
    "      If you go through the work of bringing in a serial sorting library, you're welcome to use it,\n",
    "      as long as you put it somewhere the TA and I can access it.\n",
    "\n",
    "  - Indeed, as with previous assignments, the implementation details are up\n",
    "      to you.  There is a test program\n",
    "      ([test_proj2.c](test_proj2.c)), which may not be edited, that calls your\n",
    "      library.  It will test the sorting bandwidth (bytes sorted per second) of\n",
    "      your code on random data at varying numbers of *keys\n",
    "      per MPI process* (a *key* in our library is just a `uint64_t`: a large\n",
    "      integer).  You may incorporate additional files into your library by\n",
    "      adding a `Makefile.inc` file to your project.\n",
    "\n",
    "```\n",
    "    ./test_proj2 MIN_KEYS_PER_PROCESS MAX_KEYS_PER_PROCESS MULTIPLIER SEED NUM_REPS UNIFORM_SIZE UNIFORM_KEYS PARTIALLY_SORTED\n",
    "```\n",
    "\n",
    "This means that the test program seeds the random number generator with `SEED`,\n",
    "starts with `MIN_KEYS_PER_PROCESS`, tests `NUM_REPS` times to get an average,\n",
    "and gets the next problem size by multiplying by `MULTIPLIER`, until at most\n",
    "`MAX_KEYS_PER_PROCESS`.  If `UNIFORM_SIZE` is `0`, then the number of keys per process will vary between `MIN_KEYS_PER_PROCESS` and `2*MIN_KEYS_PER_PROCESS`. IF `UNIFORM_KEYS` is `0`, each process will have a keys in its own randomly chosen interval.  If `PARTIALLY_SORTED` is `1`, the input array is random but generally increasing; if `PARTIALLY_SORTED` is `-1` the input array is random but generally decreasing.  In your testing, you will probably want to test **one\n",
    "problem size** at a time.  If you are\n",
    "having problems with correctness (segmentation faults, hangs/deadlocks, etc.),\n",
    "it is best to work those out on your workstation/laptop is possible before\n",
    "using SUs on Stampede2.  You are starting (knock on wood) from a correct\n",
    "implementation: try to work in small changes, testing for correctness at each change."
   ]
  },
  {
   "cell_type": "code",
   "execution_count": 10,
   "metadata": {},
   "outputs": [
    {
     "name": "stdout",
     "output_type": "stream",
     "text": [
      "rm -f libproj2.so  proj2.o proj2sorter.o local.o bitonic.o quicksort.o test_proj2.o test_proj2\n",
      "mpicc -I../../utils/Random123/include -g -Wall -std=c99 -fopenmp -fpic -O3 -c -o test_proj2.o test_proj2.c\n",
      "mpicc -I../../utils/Random123/include -g -Wall -std=c99 -fopenmp -fpic -O3 -c -o proj2.o proj2.c\n",
      "mpicc -I../../utils/Random123/include -g -Wall -std=c99 -fopenmp -fpic -O3 -c -o proj2sorter.o proj2sorter.c\n",
      "mpicc -I../../utils/Random123/include -g -Wall -std=c99 -fopenmp -fpic -O3 -c -o local.o local.c\n",
      "swensonsort/sort.h:1432: warning: ‘proj2_swenson_sqrt_sort’ defined but not used\n",
      "swensonsort/sort.h:2166: warning: ‘proj2_swenson_grail_sort’ defined but not used\n",
      "swensonsort/sort.h:2175: warning: ‘proj2_swenson_grail_sort_dyn_buffer’ defined but not used\n",
      "swensonsort/sort.h:2236: warning: ‘proj2_swenson_rec_stable_sort’ defined but not used\n",
      "mpicc -I../../utils/Random123/include -g -Wall -std=c99 -fopenmp -fpic -O3 -c -o bitonic.o bitonic.c\n",
      "mpicc -I../../utils/Random123/include -g -Wall -std=c99 -fopenmp -fpic -O3 -c -o quicksort.o quicksort.c\n",
      "mpicc -fopenmp -shared -o libproj2.so proj2.o proj2sorter.o local.o bitonic.o quicksort.o -lm\n",
      "mpicc -fopenmp -L./ -Wl,-rpath,./ -o test_proj2 test_proj2.o -lproj2\n"
     ]
    }
   ],
   "source": [
    "make clean\n",
    "make test_proj2"
   ]
  },
  {
   "cell_type": "code",
   "execution_count": 11,
   "metadata": {},
   "outputs": [
    {
     "name": "stdout",
     "output_type": "stream",
     "text": [
      "[0] ./test_proj2 minKeys 400000 maxKeys 400000 mult 2 seed 0 uniform size 0 uniform distribution 0 partially sorted 0\n",
      "[0] Testing numKeysLocal 620439, numKeysGlobal 16310081, total bytes 130480648\n",
      "[0] Tested numKeysLocal 620439, numKeysGlobal 16310081, total bytes 130480648: average bandwidth 1.416891e+08\n",
      "[0] Harmonic average bandwidth: 1.416891e+08\n"
     ]
    }
   ],
   "source": [
    "mpirun  -f ${PBS_NODEFILE} -n ${PBS_NP} ./test_proj2 400000 400000 1 0 1 0 0 0 "
   ]
  },
  {
   "cell_type": "code",
   "execution_count": 13,
   "metadata": {},
   "outputs": [
    {
     "name": "stdout",
     "output_type": "stream",
     "text": [
      "[0] ./test_proj2 minKeys 400000 maxKeys 400000 mult 32 seed 0 uniform size 0 uniform distribution 0 partially sorted 0\n",
      "[0] Testing numKeysLocal 620439, numKeysGlobal 16310081, total bytes 130480648\n",
      "[0] Tested numKeysLocal 620439, numKeysGlobal 16310081, total bytes 130480648: average bandwidth 1.419643e+08\n",
      "[0] Harmonic average bandwidth: 1.419643e+08\n"
     ]
    }
   ],
   "source": [
    "hpcstruct ./test_proj2\n",
    "mpirun  -f ${PBS_NODEFILE} -n ${PBS_NP} hpcrun -o hpctoolkit-test_proj2-measurements-initial -t ./test_proj2 400000 400000 32 0 1 0 0 0 "
   ]
  },
  {
   "cell_type": "code",
   "execution_count": 14,
   "metadata": {},
   "outputs": [
    {
     "name": "stdout",
     "output_type": "stream",
     "text": [
      "msg: STRUCTURE: /nv/coc-ice/mguo34/cse6230/projects/2-sorting/test_proj2\n",
      "msg: Line map : /nv/coc-ice/tisaac3/opt/pace-ice/hpctoolkit/lib/hpctoolkit/ext-libs/libmonitor.so.0.0.0\n",
      "msg: Line map : /nv/coc-ice/mguo34/cse6230/projects/2-sorting/libproj2.so\n",
      "msg: Line map : /nv/usr-local-rhel6.7/pacerepov1/intel/compiler/16.0/compilers_and_libraries_2016.0.109/linux/mpi/intel64/lib/libmpifort.so.12.0\n",
      "msg: Line map : /nv/usr-local-rhel6.7/pacerepov1/intel/compiler/16.0/compilers_and_libraries_2016.0.109/linux/mpi/intel64/lib/release_mt/libmpi.so.12.0\n",
      "msg: Line map : /lib64/libpthread-2.12.so\n",
      "msg: Line map : /lib64/libc-2.12.so\n",
      "msg: Populating Experiment database: /nv/coc-ice/mguo34/cse6230/projects/2-sorting/hpctoolkit-test_proj2-database-initial\n"
     ]
    }
   ],
   "source": [
    "\n",
    "# hpcprof -S test_proj2.hpcstruct hpctoolkit-test_proj2-measurements-129587.ice-sched.pace.gatech.edu \n",
    "hpcprof -S test_proj2.hpcstruct hpctoolkit-test_proj2-measurements-initial"
   ]
  },
  {
   "cell_type": "markdown",
   "metadata": {},
   "source": [
    "After get the measurements with hpc, I used the hpctraceviewer to check the running time. \n",
    "Without any modification, the running traces are :\n",
    "\n",
    "![initial_test](traceviewer/initial_test.png)\n"
   ]
  },
  {
   "cell_type": "markdown",
   "metadata": {},
   "source": [
    "As can be seen with the trace viewer, before the barrier, the initial test is not balanced, since it split the communications at each recursive call. And the algorithem takes extra time to sort local array since upon splitting, the array has already been sorted, yet the algorithm treated them as non-sorted, and sort again. And due to unbalanced loads to each rannk, the waitings occured before the barrier, which also caused a time waste. And the redistribution is done at every recursive call, yet should be done at the end. "
   ]
  },
  {
   "cell_type": "code",
   "execution_count": null,
   "metadata": {},
   "outputs": [],
   "source": []
  },
  {
   "cell_type": "code",
   "execution_count": 9,
   "metadata": {},
   "outputs": [
    {
     "name": "stdout",
     "output_type": "stream",
     "text": [
      "[0] ./test_proj2 minKeys 160 maxKeys 400000 mult 32 seed 0 uniform size 0 uniform distribution 0 partially sorted 0\n",
      "[0] Testing numKeysLocal 197, numKeysGlobal 6492, total bytes 51936\n",
      "[0] Tested numKeysLocal 197, numKeysGlobal 6492, total bytes 51936: average bandwidth 1.830401e+08\n",
      "[0] Testing numKeysLocal 7305, numKeysGlobal 226251, total bytes 1810008\n",
      "[0] Tested numKeysLocal 7305, numKeysGlobal 226251, total bytes 1810008: average bandwidth 2.119758e+08\n",
      "[0] Testing numKeysLocal 299023, numKeysGlobal 7195096, total bytes 57560768\n",
      "[0] Tested numKeysLocal 299023, numKeysGlobal 7195096, total bytes 57560768: average bandwidth 9.091823e+07\n",
      "[0] Harmonic average bandwidth: 1.416451e+08\n",
      "[0] ./test_proj2 minKeys 160 maxKeys 400000 mult 32 seed 0 uniform size 0 uniform distribution 0 partially sorted 1\n",
      "[0] Testing numKeysLocal 197, numKeysGlobal 6492, total bytes 51936\n",
      "[0] Tested numKeysLocal 197, numKeysGlobal 6492, total bytes 51936: average bandwidth 1.631079e+08\n",
      "[0] Testing numKeysLocal 5440, numKeysGlobal 222468, total bytes 1779744\n",
      "[0] Tested numKeysLocal 5440, numKeysGlobal 222468, total bytes 1779744: average bandwidth 2.198000e+08\n",
      "[0] Testing numKeysLocal 216405, numKeysGlobal 6670237, total bytes 53361896\n",
      "[0] Tested numKeysLocal 216405, numKeysGlobal 6670237, total bytes 53361896: average bandwidth 2.197776e+08\n",
      "[0] Harmonic average bandwidth: 1.969725e+08\n",
      "[0] ./test_proj2 minKeys 160 maxKeys 400000 mult 32 seed 0 uniform size 0 uniform distribution 0 partially sorted -1\n",
      "[0] Testing numKeysLocal 197, numKeysGlobal 6492, total bytes 51936\n",
      "[0] Tested numKeysLocal 197, numKeysGlobal 6492, total bytes 51936: average bandwidth 1.629171e+08\n",
      "[0] Testing numKeysLocal 5440, numKeysGlobal 222468, total bytes 1779744\n",
      "[0] Tested numKeysLocal 5440, numKeysGlobal 222468, total bytes 1779744: average bandwidth 2.221588e+08\n",
      "[0] Testing numKeysLocal 216405, numKeysGlobal 6670237, total bytes 53361896\n",
      "[0] Tested numKeysLocal 216405, numKeysGlobal 6670237, total bytes 53361896: average bandwidth 2.205382e+08\n",
      "[0] Harmonic average bandwidth: 1.977100e+08\n",
      "[0] ./test_proj2 minKeys 160 maxKeys 400000 mult 32 seed 0 uniform size 0 uniform distribution 1 partially sorted 0\n",
      "[0] Testing numKeysLocal 197, numKeysGlobal 6492, total bytes 51936\n",
      "[0] Tested numKeysLocal 197, numKeysGlobal 6492, total bytes 51936: average bandwidth 2.119495e+08\n",
      "[0] Testing numKeysLocal 7305, numKeysGlobal 226251, total bytes 1810008\n",
      "[0] Tested numKeysLocal 7305, numKeysGlobal 226251, total bytes 1810008: average bandwidth 2.532546e+08\n",
      "[0] Testing numKeysLocal 299023, numKeysGlobal 7195096, total bytes 57560768\n",
      "[0] Tested numKeysLocal 299023, numKeysGlobal 7195096, total bytes 57560768: average bandwidth 1.403260e+08\n",
      "[0] Harmonic average bandwidth: 1.899580e+08\n",
      "[0] ./test_proj2 minKeys 160 maxKeys 400000 mult 32 seed 0 uniform size 0 uniform distribution 1 partially sorted 1\n",
      "[0] Testing numKeysLocal 197, numKeysGlobal 6492, total bytes 51936\n",
      "[0] Tested numKeysLocal 197, numKeysGlobal 6492, total bytes 51936: average bandwidth 2.403253e+08\n",
      "[0] Testing numKeysLocal 5440, numKeysGlobal 222468, total bytes 1779744\n",
      "[0] Tested numKeysLocal 5440, numKeysGlobal 222468, total bytes 1779744: average bandwidth 3.875811e+08\n",
      "[0] Testing numKeysLocal 216405, numKeysGlobal 6670237, total bytes 53361896\n",
      "[0] Tested numKeysLocal 216405, numKeysGlobal 6670237, total bytes 53361896: average bandwidth 3.843568e+08\n",
      "[0] Harmonic average bandwidth: 3.211001e+08\n",
      "[0] ./test_proj2 minKeys 160 maxKeys 400000 mult 32 seed 0 uniform size 0 uniform distribution 1 partially sorted -1\n",
      "[0] Testing numKeysLocal 197, numKeysGlobal 6492, total bytes 51936\n",
      "[0] Tested numKeysLocal 197, numKeysGlobal 6492, total bytes 51936: average bandwidth 2.334518e+08\n",
      "[0] Testing numKeysLocal 5440, numKeysGlobal 222468, total bytes 1779744\n",
      "[0] Tested numKeysLocal 5440, numKeysGlobal 222468, total bytes 1779744: average bandwidth 3.459389e+08\n",
      "[0] Testing numKeysLocal 216405, numKeysGlobal 6670237, total bytes 53361896\n",
      "[0] Tested numKeysLocal 216405, numKeysGlobal 6670237, total bytes 53361896: average bandwidth 2.604116e+08\n",
      "[0] Harmonic average bandwidth: 2.723732e+08\n",
      "[0] ./test_proj2 minKeys 160 maxKeys 400000 mult 32 seed 0 uniform size 1 uniform distribution 0 partially sorted 0\n",
      "[0] Testing numKeysLocal 160, numKeysGlobal 4480, total bytes 35840\n",
      "[0] Tested numKeysLocal 160, numKeysGlobal 4480, total bytes 35840: average bandwidth 1.758275e+08\n",
      "[0] Testing numKeysLocal 5120, numKeysGlobal 143360, total bytes 1146880\n",
      "[0] Tested numKeysLocal 5120, numKeysGlobal 143360, total bytes 1146880: average bandwidth 1.032568e+08\n",
      "[0] Testing numKeysLocal 163840, numKeysGlobal 4587520, total bytes 36700160\n",
      "[0] Tested numKeysLocal 163840, numKeysGlobal 4587520, total bytes 36700160: average bandwidth 2.217495e+08\n",
      "[0] Harmonic average bandwidth: 1.508935e+08\n",
      "[0] ./test_proj2 minKeys 160 maxKeys 400000 mult 32 seed 0 uniform size 1 uniform distribution 0 partially sorted 1\n",
      "[0] Testing numKeysLocal 160, numKeysGlobal 4480, total bytes 35840\n",
      "[0] Tested numKeysLocal 160, numKeysGlobal 4480, total bytes 35840: average bandwidth 1.386655e+08\n",
      "[0] Testing numKeysLocal 5120, numKeysGlobal 143360, total bytes 1146880\n",
      "[0] Tested numKeysLocal 5120, numKeysGlobal 143360, total bytes 1146880: average bandwidth 1.993692e+08\n",
      "[0] Testing numKeysLocal 163840, numKeysGlobal 4587520, total bytes 36700160\n",
      "[0] Tested numKeysLocal 163840, numKeysGlobal 4587520, total bytes 36700160: average bandwidth 2.270094e+08\n",
      "[0] Harmonic average bandwidth: 1.803695e+08\n",
      "[0] ./test_proj2 minKeys 160 maxKeys 400000 mult 32 seed 0 uniform size 1 uniform distribution 0 partially sorted -1\n",
      "[0] Testing numKeysLocal 160, numKeysGlobal 4480, total bytes 35840\n",
      "[0] Tested numKeysLocal 160, numKeysGlobal 4480, total bytes 35840: average bandwidth 1.272193e+08\n",
      "[0] Testing numKeysLocal 5120, numKeysGlobal 143360, total bytes 1146880\n",
      "[0] Tested numKeysLocal 5120, numKeysGlobal 143360, total bytes 1146880: average bandwidth 1.981945e+08\n",
      "[0] Testing numKeysLocal 163840, numKeysGlobal 4587520, total bytes 36700160\n",
      "[0] Tested numKeysLocal 163840, numKeysGlobal 4587520, total bytes 36700160: average bandwidth 2.278665e+08\n",
      "[0] Harmonic average bandwidth: 1.734653e+08\n",
      "[0] ./test_proj2 minKeys 160 maxKeys 400000 mult 32 seed 0 uniform size 1 uniform distribution 1 partially sorted 0\n",
      "[0] Testing numKeysLocal 160, numKeysGlobal 4480, total bytes 35840\n",
      "[0] Tested numKeysLocal 160, numKeysGlobal 4480, total bytes 35840: average bandwidth 1.527767e+08\n",
      "[0] Testing numKeysLocal 5120, numKeysGlobal 143360, total bytes 1146880\n",
      "[0] Tested numKeysLocal 5120, numKeysGlobal 143360, total bytes 1146880: average bandwidth 2.400713e+08\n",
      "[0] Testing numKeysLocal 163840, numKeysGlobal 4587520, total bytes 36700160\n",
      "[0] Tested numKeysLocal 163840, numKeysGlobal 4587520, total bytes 36700160: average bandwidth 5.878527e+07\n",
      "[0] Harmonic average bandwidth: 1.082173e+08\n",
      "[0] ./test_proj2 minKeys 160 maxKeys 400000 mult 32 seed 0 uniform size 1 uniform distribution 1 partially sorted 1\n",
      "[0] Testing numKeysLocal 160, numKeysGlobal 4480, total bytes 35840\n",
      "[0] Tested numKeysLocal 160, numKeysGlobal 4480, total bytes 35840: average bandwidth 2.284600e+08\n",
      "[0] Testing numKeysLocal 5120, numKeysGlobal 143360, total bytes 1146880\n",
      "[0] Tested numKeysLocal 5120, numKeysGlobal 143360, total bytes 1146880: average bandwidth 5.929122e+08\n",
      "[0] Testing numKeysLocal 163840, numKeysGlobal 4587520, total bytes 36700160\n",
      "[0] Tested numKeysLocal 163840, numKeysGlobal 4587520, total bytes 36700160: average bandwidth 4.505470e+08\n",
      "[0] Harmonic average bandwidth: 3.621767e+08\n",
      "[0] ./test_proj2 minKeys 160 maxKeys 400000 mult 32 seed 0 uniform size 1 uniform distribution 1 partially sorted -1\n",
      "[0] Testing numKeysLocal 160, numKeysGlobal 4480, total bytes 35840\n",
      "[0] Tested numKeysLocal 160, numKeysGlobal 4480, total bytes 35840: average bandwidth 1.745334e+08\n",
      "[0] Testing numKeysLocal 5120, numKeysGlobal 143360, total bytes 1146880\n",
      "[0] Tested numKeysLocal 5120, numKeysGlobal 143360, total bytes 1146880: average bandwidth 4.673995e+08\n",
      "[0] Testing numKeysLocal 163840, numKeysGlobal 4587520, total bytes 36700160\n",
      "[0] Tested numKeysLocal 163840, numKeysGlobal 4587520, total bytes 36700160: average bandwidth 3.268831e+08\n"
     ]
    },
    {
     "name": "stdout",
     "output_type": "stream",
     "text": [
      "[0] Harmonic average bandwidth: 2.745177e+08\n"
     ]
    }
   ],
   "source": [
    "for uniform_size in 0 1; do\n",
    "for uniform_keys in 0 1; do\n",
    "for partially_sorted in 0 1 -1; do\n",
    "mpirun  -f ${PBS_NODEFILE} -n ${PBS_NP} ./test_proj2 160 400000 32 0 5 ${uniform_size} ${uniform_keys} ${partially_sorted}\n",
    "done\n",
    "done\n",
    "done\n",
    "  "
   ]
  },
  {
   "cell_type": "markdown",
   "metadata": {},
   "source": [
    "## Grading\n",
    "\n",
    "- 0-4 points for hassle-free usage: maximized if the python script made from the notebook runs the first time.\n",
    "    * Points lost if we have to figure out how to reproduce your reported results.\n",
    "- 0-6 points for correctness:\n",
    "    * Whether the notebook runs to\n",
    "      completion (it will abort if a list of keys is not properly sorted).\n",
    "    * You lose half the points if your code is not correct; subsequent points\n",
    "      can be lost for poor code organization.\n",
    "- 0-2 Points for your prediction and the reasoning that goes into it\n",
    "- 0-8 Points for the notebook:\n",
    "    * 0-2 points for how well the notebook tracks your `git` history: did we find the commits\n",
    "      used to generate the entries?  Is there an entry for all the major\n",
    "      aspects of your development?\n",
    "    * 0-3 points for your profiling evidence: is it present?  Does it seem to\n",
    "      indicate what you say it indicates?\n",
    "    * 0-3 points for your planning: do your proposed code changes follow\n",
    "      logically from the evidence?\n",
    "- **1 Bonus point** for the closest prediction to the actual highest bandwidth achieved\n",
    "- **1 Bonus point** for having versatile performance: if your code achieves bandwidths within 50% of the highest bandwidth achieved on that test for at least 50% of tests.\n",
    "      \n",
    "## Prediction\n",
    "\n",
    "Predict, without going under, the highest bandwidth on any individual test that any student will achieve on this assignment.  Assume only the CPUs are used.  Justify your prediction."
   ]
  },
  {
   "cell_type": "markdown",
   "metadata": {},
   "source": [
    "Under Construction"
   ]
  },
  {
   "cell_type": "markdown",
   "metadata": {},
   "source": [
    "  \n",
    "## Notebook\n",
    "\n",
    "Please put your notebook documenting your measurements, thought processes, models, etc. from your work on this project"
   ]
  },
  {
   "cell_type": "markdown",
   "metadata": {},
   "source": [
    "**Dear Ta, due to my tight schedule these two weeks, I can not finish the proj 2 on time, and I would like to use the resubmit to finish it and ensure that I can get at least 85% of the maximum score for this project. I do not want to submit a unfinished version this time, Sorry about it.**"
   ]
  },
  {
   "cell_type": "code",
   "execution_count": null,
   "metadata": {},
   "outputs": [],
   "source": []
  }
 ],
 "metadata": {
  "kernelspec": {
   "display_name": "Bash",
   "language": "bash",
   "name": "bash"
  },
  "language_info": {
   "codemirror_mode": "shell",
   "file_extension": ".sh",
   "mimetype": "text/x-sh",
   "name": "bash"
  }
 },
 "nbformat": 4,
 "nbformat_minor": 2
}
