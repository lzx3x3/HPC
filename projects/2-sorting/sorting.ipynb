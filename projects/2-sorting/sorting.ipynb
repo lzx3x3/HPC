{
 "cells": [
  {
   "cell_type": "markdown",
   "metadata": {},
   "source": [
    "# Project 2 - Distributed Memory Sorting\n",
    "\n",
    "**Due November 14, 2019**\n",
    "\n",
    "Same logistic rules as Project 1 apply, regarding\n",
    "\n",
    "This notebook can be developed on a single core of any type, but will be graded on 4 nodes with 28 cores per node"
   ]
  },
  {
   "cell_type": "markdown",
   "metadata": {},
   "source": [
    "Dear TA, the .ssh/authorized_keys need to be one for public and one for private, after adding the public key to my file, i avoided the password issues."
   ]
  },
  {
   "cell_type": "code",
   "execution_count": 7,
   "metadata": {},
   "outputs": [
    {
     "name": "stdout",
     "output_type": "stream",
     "text": [
      "ssh-rsa AAAAB3NzaC1yc2EAAAABIwAAAQEA0v2RzumKJFmEd59yvXVq40MKURj0x7JY8/OOBoYERKmmjk/3ZAcuos5FLwTZcop7qDBGWUKx2Bzx6wbUBa2oV/XsEIcxVgxDs464nqoLUKCxLtWA1AsKFQ7LqUx6gDZeIgUEhRjBWUlvCNdC53/ev/tHACgq0I0tGODwEr+R5rD0Cnu+EmVcn2tgqAEk4gV3jUzEc5L+7E4bM52WoWJxZpUDlNQDjIwFHL/aXgmN+FX/UToRQMK3BN7oxMX7huKc9N7AEhZzZjhMJ/gQnUUXwZsxjdUlCj5glPRzr2AQomwnfqO8gnrUqW2orQh0AFR9HElIOQ4Loyuc2IwBcF2QfQ== root@rich116-b39-32.pace.gatech.edu\n",
      "\n",
      "ssh-rsa AAAAB3NzaC1yc2EAAAADAQABAAACAQCpGvn7sZS0A9yVzd5OUP5IkpwypzpSy3FwQ06au7i7oeRjN43KNwkZnjglGExVSc02JAruJMnN2O93QoVDA5ErjYqruVqc7IYRji/pHMTdAMsl4a1WKrgrnnX2SPKHAwck/6a/+5CyLNrEvTqat1b55ay0rLiNc9GWSKpSTgOUzKTvwL3GJZ9Zl+5QuYo2pQXUjfzPwvND/XIytaCn+jBYOEcBjLSHi1lzchlZCM2coIMURVYficXJGzJkmBVJ+0BF0vJbjyKyvVM73aye/FMFSzzHCSKvdW5UDsPFaEhQX2epdBk92wkDEFp9NZYyPcximPo+QGorSa0MBSK2DGPW//WeOVrvrmfarIW70KvQeXT2nTT3FmnkIBZL0el0F6GI8g4zpjJqIEQVkHOAKkHbDTYQMxEii4EhHC3IPtXZeKLfTfHt6TWnXYUTBFTs4sH3mJ/uZaFprov9ovxQg4y8Og4zfEsZ7nhqs+WiTj9jj/r6rQWmQME4ap+Fk4N6Tb87YwGa0jXaTxyiwF5iaiF7+kCDT9sfszEyPqFVngzYWp7ZvYEDpKgCIcyqNQ7V3RQ4b+ESkpKUBDJydUMH00A99ynFD1MLFwaB7/BVOfvbuVLJ0Il2GPz2T3Q95pA0dVeXQlI83XijnPBa2fmEANy+dGqT+qyrlClNAbFKY8iVBw== mguo34@gatech.edu\n"
     ]
    }
   ],
   "source": [
    "cat $HOME/.ssh/authorized_keys"
   ]
  },
  {
   "cell_type": "code",
   "execution_count": 8,
   "metadata": {},
   "outputs": [
    {
     "name": "stdout",
     "output_type": "stream",
     "text": [
      " =========================================================================\n",
      "|                                                                         |\n",
      "|       A note about python/3.6:                                          |\n",
      "|       PACE is lacking the staff to install all of the python 3          |\n",
      "|       modules, but we do maintain an anaconda distribution for          |\n",
      "|       both python 2 and python 3. As conda significantly reduces        |\n",
      "|       the overhead with package management, we would much prefer        |\n",
      "|       to maintain python 3 through anaconda.                            |\n",
      "|                                                                         |\n",
      "|       All pace installed modules are visible via the module avail       |\n",
      "|       command.                                                          |\n",
      "|                                                                         |\n",
      " =========================================================================\n"
     ]
    }
   ],
   "source": [
    "module use $CSE6230_DIR/modulefiles\n",
    "module unload cse6230/core\n",
    "module load cse6230/gcc-omp-gpu\n"
   ]
  },
  {
   "cell_type": "code",
   "execution_count": 3,
   "metadata": {},
   "outputs": [
    {
     "name": "stdout",
     "output_type": "stream",
     "text": [
      "rm -f libproj2.so  proj2.o proj2sorter.o local.o bitonic.o quicksort.o test_proj2.o test_proj2\n",
      "mpicc -I../../utils/Random123/include -g -Wall -std=c99 -fopenmp -fpic -O3 -c -o test_proj2.o test_proj2.c\n",
      "mpicc -I../../utils/Random123/include -g -Wall -std=c99 -fopenmp -fpic -O3 -c -o proj2.o proj2.c\n",
      "mpicc -I../../utils/Random123/include -g -Wall -std=c99 -fopenmp -fpic -O3 -c -o proj2sorter.o proj2sorter.c\n",
      "mpicc -I../../utils/Random123/include -g -Wall -std=c99 -fopenmp -fpic -O3 -c -o local.o local.c\n",
      "swensonsort/sort.h:1432: warning: ‘proj2_swenson_sqrt_sort’ defined but not used\n",
      "swensonsort/sort.h:2166: warning: ‘proj2_swenson_grail_sort’ defined but not used\n",
      "swensonsort/sort.h:2175: warning: ‘proj2_swenson_grail_sort_dyn_buffer’ defined but not used\n",
      "swensonsort/sort.h:2236: warning: ‘proj2_swenson_rec_stable_sort’ defined but not used\n",
      "mpicc -I../../utils/Random123/include -g -Wall -std=c99 -fopenmp -fpic -O3 -c -o bitonic.o bitonic.c\n",
      "mpicc -I../../utils/Random123/include -g -Wall -std=c99 -fopenmp -fpic -O3 -c -o quicksort.o quicksort.c\n",
      "quicksort.c: In function ‘Proj2SorterSort_quicksort_recursive’:\n",
      "quicksort.c:273: warning: implicit declaration of function ‘Proj2SorterSortLocal_merge’\n",
      "mpicc -fopenmp -shared -o libproj2.so proj2.o proj2sorter.o local.o bitonic.o quicksort.o -lm\n",
      "mpicc -fopenmp -L./ -Wl,-rpath,./ -o test_proj2 test_proj2.o -lproj2\n",
      " =========================================================================\n",
      "|                                                                         |\n",
      "|       A note about python/3.6:                                          |\n",
      "|       PACE is lacking the staff to install all of the python 3          |\n",
      "|       modules, but we do maintain an anaconda distribution for          |\n",
      "|       both python 2 and python 3. As conda significantly reduces        |\n",
      "|       the overhead with package management, we would much prefer        |\n",
      "|       to maintain python 3 through anaconda.                            |\n",
      "|                                                                         |\n",
      "|       All pace installed modules are visible via the module avail       |\n",
      "|       command.                                                          |\n",
      "|                                                                         |\n",
      " =========================================================================\n",
      " =========================================================================\n",
      "|                                                                         |\n",
      "|       A note about python/3.6:                                          |\n",
      "|       PACE is lacking the staff to install all of the python 3          |\n",
      "|       modules, but we do maintain an anaconda distribution for          |\n",
      "|       both python 2 and python 3. As conda significantly reduces        |\n",
      "|       the overhead with package management, we would much prefer        |\n",
      "|       to maintain python 3 through anaconda.                            |\n",
      "|                                                                         |\n",
      "|       All pace installed modules are visible via the module avail       |\n",
      "|       command.                                                          |\n",
      "|                                                                         |\n",
      " =========================================================================\n",
      " =========================================================================\n",
      "|                                                                         |\n",
      "|       A note about python/3.6:                                          |\n",
      "|       PACE is lacking the staff to install all of the python 3          |\n",
      "|       modules, but we do maintain an anaconda distribution for          |\n",
      "|       both python 2 and python 3. As conda significantly reduces        |\n",
      "|       the overhead with package management, we would much prefer        |\n",
      "|       to maintain python 3 through anaconda.                            |\n",
      "|                                                                         |\n",
      "|       All pace installed modules are visible via the module avail       |\n",
      "|       command.                                                          |\n",
      "|                                                                         |\n",
      " =========================================================================\n",
      "[0] ./test_proj2 minKeys 160 maxKeys 400000 mult 32 seed 0 uniform size 0 uniform distribution 0 partially sorted 0\n",
      "[0] Testing numKeysLocal 197, numKeysGlobal 26264, total bytes 210112\n",
      "[0] Tested numKeysLocal 197, numKeysGlobal 26264, total bytes 210112: average bandwidth 1.787432e+08\n",
      "[0] Testing numKeysLocal 7305, numKeysGlobal 867954, total bytes 6943632\n",
      "[0] Tested numKeysLocal 7305, numKeysGlobal 867954, total bytes 6943632: average bandwidth 1.161039e+09\n",
      "[0] Testing numKeysLocal 299023, numKeysGlobal 28079697, total bytes 224637576\n",
      "[0] Tested numKeysLocal 299023, numKeysGlobal 28079697, total bytes 224637576: average bandwidth 2.549382e+09\n",
      "[0] Harmonic average bandwidth: 4.380734e+08\n",
      " =========================================================================\n",
      "|                                                                         |\n",
      "|       A note about python/3.6:                                          |\n",
      "|       PACE is lacking the staff to install all of the python 3          |\n",
      "|       modules, but we do maintain an anaconda distribution for          |\n",
      "|       both python 2 and python 3. As conda significantly reduces        |\n",
      "|       the overhead with package management, we would much prefer        |\n",
      "|       to maintain python 3 through anaconda.                            |\n",
      "|                                                                         |\n",
      "|       All pace installed modules are visible via the module avail       |\n",
      "|       command.                                                          |\n",
      "|                                                                         |\n",
      " =========================================================================\n",
      " =========================================================================\n",
      "|                                                                         |\n",
      "|       A note about python/3.6:                                          |\n",
      "|       PACE is lacking the staff to install all of the python 3          |\n",
      "|       modules, but we do maintain an anaconda distribution for          |\n",
      "|       both python 2 and python 3. As conda significantly reduces        |\n",
      "|       the overhead with package management, we would much prefer        |\n",
      "|       to maintain python 3 through anaconda.                            |\n",
      "|                                                                         |\n",
      "|       All pace installed modules are visible via the module avail       |\n",
      "|       command.                                                          |\n",
      "|                                                                         |\n",
      " =========================================================================\n",
      " =========================================================================\n",
      "|                                                                         |\n",
      "|       A note about python/3.6:                                          |\n",
      "|       PACE is lacking the staff to install all of the python 3          |\n",
      "|       modules, but we do maintain an anaconda distribution for          |\n",
      "|       both python 2 and python 3. As conda significantly reduces        |\n",
      "|       the overhead with package management, we would much prefer        |\n",
      "|       to maintain python 3 through anaconda.                            |\n",
      "|                                                                         |\n",
      "|       All pace installed modules are visible via the module avail       |\n",
      "|       command.                                                          |\n",
      "|                                                                         |\n",
      " =========================================================================\n",
      "[0] ./test_proj2 minKeys 160 maxKeys 400000 mult 32 seed 0 uniform size 0 uniform distribution 0 partially sorted 1\n",
      "[0] Testing numKeysLocal 197, numKeysGlobal 26264, total bytes 210112\n",
      "[0] Tested numKeysLocal 197, numKeysGlobal 26264, total bytes 210112: average bandwidth 1.820775e+08\n"
     ]
    },
    {
     "name": "stdout",
     "output_type": "stream",
     "text": [
      "[0] Testing numKeysLocal 5762, numKeysGlobal 840782, total bytes 6726256\n",
      "[0] Tested numKeysLocal 5762, numKeysGlobal 840782, total bytes 6726256: average bandwidth 2.241835e+09\n",
      "[0] Testing numKeysLocal 254057, numKeysGlobal 27023943, total bytes 216191544\n",
      "[0] Tested numKeysLocal 254057, numKeysGlobal 27023943, total bytes 216191544: average bandwidth 3.027885e+09\n",
      "[0] Harmonic average bandwidth: 4.785840e+08\n",
      " =========================================================================\n",
      "|                                                                         |\n",
      "|       A note about python/3.6:                                          |\n",
      "|       PACE is lacking the staff to install all of the python 3          |\n",
      "|       modules, but we do maintain an anaconda distribution for          |\n",
      "|       both python 2 and python 3. As conda significantly reduces        |\n",
      "|       the overhead with package management, we would much prefer        |\n",
      "|       to maintain python 3 through anaconda.                            |\n",
      "|                                                                         |\n",
      "|       All pace installed modules are visible via the module avail       |\n",
      "|       command.                                                          |\n",
      "|                                                                         |\n",
      " =========================================================================\n",
      " =========================================================================\n",
      "|                                                                         |\n",
      "|       A note about python/3.6:                                          |\n",
      "|       PACE is lacking the staff to install all of the python 3          |\n",
      "|       modules, but we do maintain an anaconda distribution for          |\n",
      "|       both python 2 and python 3. As conda significantly reduces        |\n",
      "|       the overhead with package management, we would much prefer        |\n",
      "|       to maintain python 3 through anaconda.                            |\n",
      "|                                                                         |\n",
      "|       All pace installed modules are visible via the module avail       |\n",
      "|       command.                                                          |\n",
      "|                                                                         |\n",
      " =========================================================================\n",
      " =========================================================================\n",
      "|                                                                         |\n",
      "|       A note about python/3.6:                                          |\n",
      "|       PACE is lacking the staff to install all of the python 3          |\n",
      "|       modules, but we do maintain an anaconda distribution for          |\n",
      "|       both python 2 and python 3. As conda significantly reduces        |\n",
      "|       the overhead with package management, we would much prefer        |\n",
      "|       to maintain python 3 through anaconda.                            |\n",
      "|                                                                         |\n",
      "|       All pace installed modules are visible via the module avail       |\n",
      "|       command.                                                          |\n",
      "|                                                                         |\n",
      " =========================================================================\n",
      "[0] ./test_proj2 minKeys 160 maxKeys 400000 mult 32 seed 0 uniform size 0 uniform distribution 0 partially sorted -1\n",
      "[0] Testing numKeysLocal 197, numKeysGlobal 26264, total bytes 210112\n",
      "[0] Tested numKeysLocal 197, numKeysGlobal 26264, total bytes 210112: average bandwidth 1.951423e+08\n",
      "[0] Testing numKeysLocal 5762, numKeysGlobal 840782, total bytes 6726256\n",
      "[0] Tested numKeysLocal 5762, numKeysGlobal 840782, total bytes 6726256: average bandwidth 2.231560e+09\n",
      "[0] Testing numKeysLocal 254057, numKeysGlobal 27023943, total bytes 216191544\n",
      "[0] Tested numKeysLocal 254057, numKeysGlobal 27023943, total bytes 216191544: average bandwidth 3.192451e+09\n",
      "[0] Harmonic average bandwidth: 5.096995e+08\n",
      " =========================================================================\n",
      "|                                                                         |\n",
      "|       A note about python/3.6:                                          |\n",
      "|       PACE is lacking the staff to install all of the python 3          |\n",
      "|       modules, but we do maintain an anaconda distribution for          |\n",
      "|       both python 2 and python 3. As conda significantly reduces        |\n",
      "|       the overhead with package management, we would much prefer        |\n",
      "|       to maintain python 3 through anaconda.                            |\n",
      "|                                                                         |\n",
      "|       All pace installed modules are visible via the module avail       |\n",
      "|       command.                                                          |\n",
      "|                                                                         |\n",
      " =========================================================================\n",
      " =========================================================================\n",
      "|                                                                         |\n",
      "|       A note about python/3.6:                                          |\n",
      "|       PACE is lacking the staff to install all of the python 3          |\n",
      "|       modules, but we do maintain an anaconda distribution for          |\n",
      "|       both python 2 and python 3. As conda significantly reduces        |\n",
      "|       the overhead with package management, we would much prefer        |\n",
      "|       to maintain python 3 through anaconda.                            |\n",
      "|                                                                         |\n",
      "|       All pace installed modules are visible via the module avail       |\n",
      "|       command.                                                          |\n",
      "|                                                                         |\n",
      " =========================================================================\n",
      " =========================================================================\n",
      "|                                                                         |\n",
      "|       A note about python/3.6:                                          |\n",
      "|       PACE is lacking the staff to install all of the python 3          |\n",
      "|       modules, but we do maintain an anaconda distribution for          |\n",
      "|       both python 2 and python 3. As conda significantly reduces        |\n",
      "|       the overhead with package management, we would much prefer        |\n",
      "|       to maintain python 3 through anaconda.                            |\n",
      "|                                                                         |\n",
      "|       All pace installed modules are visible via the module avail       |\n",
      "|       command.                                                          |\n",
      "|                                                                         |\n",
      " =========================================================================\n",
      "[0] ./test_proj2 minKeys 160 maxKeys 400000 mult 32 seed 0 uniform size 0 uniform distribution 1 partially sorted 0\n",
      "[0] Testing numKeysLocal 197, numKeysGlobal 26264, total bytes 210112\n",
      "[0] Tested numKeysLocal 197, numKeysGlobal 26264, total bytes 210112: average bandwidth 1.718088e+08\n",
      "[0] Testing numKeysLocal 7305, numKeysGlobal 867954, total bytes 6943632\n",
      "[0] Tested numKeysLocal 7305, numKeysGlobal 867954, total bytes 6943632: average bandwidth 1.975220e+09\n",
      "[0] Testing numKeysLocal 299023, numKeysGlobal 28079697, total bytes 224637576\n",
      "[0] Tested numKeysLocal 299023, numKeysGlobal 28079697, total bytes 224637576: average bandwidth 2.731138e+09\n",
      "[0] Harmonic average bandwidth: 4.482400e+08\n",
      " =========================================================================\n",
      "|                                                                         |\n",
      "|       A note about python/3.6:                                          |\n",
      "|       PACE is lacking the staff to install all of the python 3          |\n",
      "|       modules, but we do maintain an anaconda distribution for          |\n",
      "|       both python 2 and python 3. As conda significantly reduces        |\n",
      "|       the overhead with package management, we would much prefer        |\n"
     ]
    },
    {
     "name": "stdout",
     "output_type": "stream",
     "text": [
      "|       to maintain python 3 through anaconda.                            |\n",
      "|                                                                         |\n",
      "|       All pace installed modules are visible via the module avail       |\n",
      "|       command.                                                          |\n",
      "|                                                                         |\n",
      " =========================================================================\n",
      " =========================================================================\n",
      "|                                                                         |\n",
      "|       A note about python/3.6:                                          |\n",
      "|       PACE is lacking the staff to install all of the python 3          |\n",
      "|       modules, but we do maintain an anaconda distribution for          |\n",
      "|       both python 2 and python 3. As conda significantly reduces        |\n",
      "|       the overhead with package management, we would much prefer        |\n",
      "|       to maintain python 3 through anaconda.                            |\n",
      "|                                                                         |\n",
      "|       All pace installed modules are visible via the module avail       |\n",
      "|       command.                                                          |\n",
      "|                                                                         |\n",
      " =========================================================================\n",
      " =========================================================================\n",
      "|                                                                         |\n",
      "|       A note about python/3.6:                                          |\n",
      "|       PACE is lacking the staff to install all of the python 3          |\n",
      "|       modules, but we do maintain an anaconda distribution for          |\n",
      "|       both python 2 and python 3. As conda significantly reduces        |\n",
      "|       the overhead with package management, we would much prefer        |\n",
      "|       to maintain python 3 through anaconda.                            |\n",
      "|                                                                         |\n",
      "|       All pace installed modules are visible via the module avail       |\n",
      "|       command.                                                          |\n",
      "|                                                                         |\n",
      " =========================================================================\n",
      "[0] ./test_proj2 minKeys 160 maxKeys 400000 mult 32 seed 0 uniform size 0 uniform distribution 1 partially sorted 1\n",
      "[0] Testing numKeysLocal 197, numKeysGlobal 26264, total bytes 210112\n",
      "[0] Tested numKeysLocal 197, numKeysGlobal 26264, total bytes 210112: average bandwidth 3.505472e+08\n",
      "[0] Testing numKeysLocal 5762, numKeysGlobal 840782, total bytes 6726256\n",
      "[0] Tested numKeysLocal 5762, numKeysGlobal 840782, total bytes 6726256: average bandwidth 7.001606e+09\n",
      "[0] Testing numKeysLocal 254057, numKeysGlobal 27023943, total bytes 216191544\n",
      "[0] Tested numKeysLocal 254057, numKeysGlobal 27023943, total bytes 216191544: average bandwidth 8.078510e+09\n",
      "[0] Harmonic average bandwidth: 9.617565e+08\n",
      " =========================================================================\n",
      "|                                                                         |\n",
      "|       A note about python/3.6:                                          |\n",
      "|       PACE is lacking the staff to install all of the python 3          |\n",
      "|       modules, but we do maintain an anaconda distribution for          |\n",
      "|       both python 2 and python 3. As conda significantly reduces        |\n",
      "|       the overhead with package management, we would much prefer        |\n",
      "|       to maintain python 3 through anaconda.                            |\n",
      "|                                                                         |\n",
      "|       All pace installed modules are visible via the module avail       |\n",
      "|       command.                                                          |\n",
      "|                                                                         |\n",
      " =========================================================================\n",
      " =========================================================================\n",
      "|                                                                         |\n",
      "|       A note about python/3.6:                                          |\n",
      "|       PACE is lacking the staff to install all of the python 3          |\n",
      "|       modules, but we do maintain an anaconda distribution for          |\n",
      "|       both python 2 and python 3. As conda significantly reduces        |\n",
      "|       the overhead with package management, we would much prefer        |\n",
      "|       to maintain python 3 through anaconda.                            |\n",
      "|                                                                         |\n",
      "|       All pace installed modules are visible via the module avail       |\n",
      "|       command.                                                          |\n",
      "|                                                                         |\n",
      " =========================================================================\n",
      " =========================================================================\n",
      "|                                                                         |\n",
      "|       A note about python/3.6:                                          |\n",
      "|       PACE is lacking the staff to install all of the python 3          |\n",
      "|       modules, but we do maintain an anaconda distribution for          |\n",
      "|       both python 2 and python 3. As conda significantly reduces        |\n",
      "|       the overhead with package management, we would much prefer        |\n",
      "|       to maintain python 3 through anaconda.                            |\n",
      "|                                                                         |\n",
      "|       All pace installed modules are visible via the module avail       |\n",
      "|       command.                                                          |\n",
      "|                                                                         |\n",
      " =========================================================================\n",
      "[0] ./test_proj2 minKeys 160 maxKeys 400000 mult 32 seed 0 uniform size 0 uniform distribution 1 partially sorted -1\n",
      "[0] Testing numKeysLocal 197, numKeysGlobal 26264, total bytes 210112\n",
      "[0] Tested numKeysLocal 197, numKeysGlobal 26264, total bytes 210112: average bandwidth 2.742516e+08\n",
      "[0] Testing numKeysLocal 5762, numKeysGlobal 840782, total bytes 6726256\n",
      "[0] Tested numKeysLocal 5762, numKeysGlobal 840782, total bytes 6726256: average bandwidth 2.060382e+09\n",
      "[0] Testing numKeysLocal 254057, numKeysGlobal 27023943, total bytes 216191544\n",
      "[0] Tested numKeysLocal 254057, numKeysGlobal 27023943, total bytes 216191544: average bandwidth 3.498162e+09\n",
      "[0] Harmonic average bandwidth: 6.791174e+08\n",
      " =========================================================================\n",
      "|                                                                         |\n",
      "|       A note about python/3.6:                                          |\n",
      "|       PACE is lacking the staff to install all of the python 3          |\n",
      "|       modules, but we do maintain an anaconda distribution for          |\n",
      "|       both python 2 and python 3. As conda significantly reduces        |\n",
      "|       the overhead with package management, we would much prefer        |\n",
      "|       to maintain python 3 through anaconda.                            |\n",
      "|                                                                         |\n",
      "|       All pace installed modules are visible via the module avail       |\n",
      "|       command.                                                          |\n",
      "|                                                                         |\n",
      " =========================================================================\n",
      " =========================================================================\n",
      "|                                                                         |\n",
      "|       A note about python/3.6:                                          |\n",
      "|       PACE is lacking the staff to install all of the python 3          |\n",
      "|       modules, but we do maintain an anaconda distribution for          |\n",
      "|       both python 2 and python 3. As conda significantly reduces        |\n"
     ]
    },
    {
     "name": "stdout",
     "output_type": "stream",
     "text": [
      "|       the overhead with package management, we would much prefer        |\n",
      "|       to maintain python 3 through anaconda.                            |\n",
      "|                                                                         |\n",
      "|       All pace installed modules are visible via the module avail       |\n",
      "|       command.                                                          |\n",
      "|                                                                         |\n",
      " =========================================================================\n",
      " =========================================================================\n",
      "|                                                                         |\n",
      "|       A note about python/3.6:                                          |\n",
      "|       PACE is lacking the staff to install all of the python 3          |\n",
      "|       modules, but we do maintain an anaconda distribution for          |\n",
      "|       both python 2 and python 3. As conda significantly reduces        |\n",
      "|       the overhead with package management, we would much prefer        |\n",
      "|       to maintain python 3 through anaconda.                            |\n",
      "|                                                                         |\n",
      "|       All pace installed modules are visible via the module avail       |\n",
      "|       command.                                                          |\n",
      "|                                                                         |\n",
      " =========================================================================\n",
      "[0] ./test_proj2 minKeys 160 maxKeys 400000 mult 32 seed 0 uniform size 1 uniform distribution 0 partially sorted 0\n",
      "[0] Testing numKeysLocal 160, numKeysGlobal 17920, total bytes 143360\n",
      "[0] Tested numKeysLocal 160, numKeysGlobal 17920, total bytes 143360: average bandwidth 1.170983e+08\n",
      "[0] Testing numKeysLocal 5120, numKeysGlobal 573440, total bytes 4587520\n",
      "[0] Tested numKeysLocal 5120, numKeysGlobal 573440, total bytes 4587520: average bandwidth 1.760929e+09\n",
      "[0] Testing numKeysLocal 163840, numKeysGlobal 18350080, total bytes 146800640\n",
      "[0] Tested numKeysLocal 163840, numKeysGlobal 18350080, total bytes 146800640: average bandwidth 2.554648e+09\n",
      "[0] Harmonic average bandwidth: 3.158174e+08\n",
      " =========================================================================\n",
      "|                                                                         |\n",
      "|       A note about python/3.6:                                          |\n",
      "|       PACE is lacking the staff to install all of the python 3          |\n",
      "|       modules, but we do maintain an anaconda distribution for          |\n",
      "|       both python 2 and python 3. As conda significantly reduces        |\n",
      "|       the overhead with package management, we would much prefer        |\n",
      "|       to maintain python 3 through anaconda.                            |\n",
      "|                                                                         |\n",
      "|       All pace installed modules are visible via the module avail       |\n",
      "|       command.                                                          |\n",
      "|                                                                         |\n",
      " =========================================================================\n",
      " =========================================================================\n",
      "|                                                                         |\n",
      "|       A note about python/3.6:                                          |\n",
      "|       PACE is lacking the staff to install all of the python 3          |\n",
      "|       modules, but we do maintain an anaconda distribution for          |\n",
      "|       both python 2 and python 3. As conda significantly reduces        |\n",
      "|       the overhead with package management, we would much prefer        |\n",
      "|       to maintain python 3 through anaconda.                            |\n",
      "|                                                                         |\n",
      "|       All pace installed modules are visible via the module avail       |\n",
      "|       command.                                                          |\n",
      "|                                                                         |\n",
      " =========================================================================\n",
      " =========================================================================\n",
      "|                                                                         |\n",
      "|       A note about python/3.6:                                          |\n",
      "|       PACE is lacking the staff to install all of the python 3          |\n",
      "|       modules, but we do maintain an anaconda distribution for          |\n",
      "|       both python 2 and python 3. As conda significantly reduces        |\n",
      "|       the overhead with package management, we would much prefer        |\n",
      "|       to maintain python 3 through anaconda.                            |\n",
      "|                                                                         |\n",
      "|       All pace installed modules are visible via the module avail       |\n",
      "|       command.                                                          |\n",
      "|                                                                         |\n",
      " =========================================================================\n",
      "[0] ./test_proj2 minKeys 160 maxKeys 400000 mult 32 seed 0 uniform size 1 uniform distribution 0 partially sorted 1\n",
      "[0] Testing numKeysLocal 160, numKeysGlobal 17920, total bytes 143360\n",
      "[0] Tested numKeysLocal 160, numKeysGlobal 17920, total bytes 143360: average bandwidth 1.356928e+08\n",
      "[0] Testing numKeysLocal 5120, numKeysGlobal 573440, total bytes 4587520\n",
      "[0] Tested numKeysLocal 5120, numKeysGlobal 573440, total bytes 4587520: average bandwidth 1.656506e+09\n",
      "[0] Testing numKeysLocal 163840, numKeysGlobal 18350080, total bytes 146800640\n",
      "[0] Tested numKeysLocal 163840, numKeysGlobal 18350080, total bytes 146800640: average bandwidth 3.837058e+09\n",
      "[0] Harmonic average bandwidth: 3.643482e+08\n",
      " =========================================================================\n",
      "|                                                                         |\n",
      "|       A note about python/3.6:                                          |\n",
      "|       PACE is lacking the staff to install all of the python 3          |\n",
      "|       modules, but we do maintain an anaconda distribution for          |\n",
      "|       both python 2 and python 3. As conda significantly reduces        |\n",
      "|       the overhead with package management, we would much prefer        |\n",
      "|       to maintain python 3 through anaconda.                            |\n",
      "|                                                                         |\n",
      "|       All pace installed modules are visible via the module avail       |\n",
      "|       command.                                                          |\n",
      "|                                                                         |\n",
      " =========================================================================\n",
      " =========================================================================\n",
      "|                                                                         |\n",
      "|       A note about python/3.6:                                          |\n",
      "|       PACE is lacking the staff to install all of the python 3          |\n",
      "|       modules, but we do maintain an anaconda distribution for          |\n",
      "|       both python 2 and python 3. As conda significantly reduces        |\n",
      "|       the overhead with package management, we would much prefer        |\n",
      "|       to maintain python 3 through anaconda.                            |\n",
      "|                                                                         |\n",
      "|       All pace installed modules are visible via the module avail       |\n",
      "|       command.                                                          |\n",
      "|                                                                         |\n",
      " =========================================================================\n",
      " =========================================================================\n",
      "|                                                                         |\n",
      "|       A note about python/3.6:                                          |\n",
      "|       PACE is lacking the staff to install all of the python 3          |\n",
      "|       modules, but we do maintain an anaconda distribution for          |\n"
     ]
    },
    {
     "name": "stdout",
     "output_type": "stream",
     "text": [
      "|       both python 2 and python 3. As conda significantly reduces        |\n",
      "|       the overhead with package management, we would much prefer        |\n",
      "|       to maintain python 3 through anaconda.                            |\n",
      "|                                                                         |\n",
      "|       All pace installed modules are visible via the module avail       |\n",
      "|       command.                                                          |\n",
      "|                                                                         |\n",
      " =========================================================================\n",
      "[0] ./test_proj2 minKeys 160 maxKeys 400000 mult 32 seed 0 uniform size 1 uniform distribution 0 partially sorted -1\n",
      "[0] Testing numKeysLocal 160, numKeysGlobal 17920, total bytes 143360\n",
      "[0] Tested numKeysLocal 160, numKeysGlobal 17920, total bytes 143360: average bandwidth 1.384039e+08\n",
      "[0] Testing numKeysLocal 5120, numKeysGlobal 573440, total bytes 4587520\n",
      "[0] Tested numKeysLocal 5120, numKeysGlobal 573440, total bytes 4587520: average bandwidth 1.356660e+09\n",
      "[0] Testing numKeysLocal 163840, numKeysGlobal 18350080, total bytes 146800640\n",
      "[0] Tested numKeysLocal 163840, numKeysGlobal 18350080, total bytes 146800640: average bandwidth 3.852299e+09\n",
      "[0] Harmonic average bandwidth: 3.648784e+08\n",
      " =========================================================================\n",
      "|                                                                         |\n",
      "|       A note about python/3.6:                                          |\n",
      "|       PACE is lacking the staff to install all of the python 3          |\n",
      "|       modules, but we do maintain an anaconda distribution for          |\n",
      "|       both python 2 and python 3. As conda significantly reduces        |\n",
      "|       the overhead with package management, we would much prefer        |\n",
      "|       to maintain python 3 through anaconda.                            |\n",
      "|                                                                         |\n",
      "|       All pace installed modules are visible via the module avail       |\n",
      "|       command.                                                          |\n",
      "|                                                                         |\n",
      " =========================================================================\n",
      " =========================================================================\n",
      "|                                                                         |\n",
      "|       A note about python/3.6:                                          |\n",
      "|       PACE is lacking the staff to install all of the python 3          |\n",
      "|       modules, but we do maintain an anaconda distribution for          |\n",
      "|       both python 2 and python 3. As conda significantly reduces        |\n",
      "|       the overhead with package management, we would much prefer        |\n",
      "|       to maintain python 3 through anaconda.                            |\n",
      "|                                                                         |\n",
      "|       All pace installed modules are visible via the module avail       |\n",
      "|       command.                                                          |\n",
      "|                                                                         |\n",
      " =========================================================================\n",
      " =========================================================================\n",
      "|                                                                         |\n",
      "|       A note about python/3.6:                                          |\n",
      "|       PACE is lacking the staff to install all of the python 3          |\n",
      "|       modules, but we do maintain an anaconda distribution for          |\n",
      "|       both python 2 and python 3. As conda significantly reduces        |\n",
      "|       the overhead with package management, we would much prefer        |\n",
      "|       to maintain python 3 through anaconda.                            |\n",
      "|                                                                         |\n",
      "|       All pace installed modules are visible via the module avail       |\n",
      "|       command.                                                          |\n",
      "|                                                                         |\n",
      " =========================================================================\n",
      "[0] ./test_proj2 minKeys 160 maxKeys 400000 mult 32 seed 0 uniform size 1 uniform distribution 1 partially sorted 0\n",
      "[0] Testing numKeysLocal 160, numKeysGlobal 17920, total bytes 143360\n",
      "[0] Tested numKeysLocal 160, numKeysGlobal 17920, total bytes 143360: average bandwidth 1.174087e+08\n",
      "[0] Testing numKeysLocal 5120, numKeysGlobal 573440, total bytes 4587520\n",
      "[0] Tested numKeysLocal 5120, numKeysGlobal 573440, total bytes 4587520: average bandwidth 1.703478e+09\n",
      "[0] Testing numKeysLocal 163840, numKeysGlobal 18350080, total bytes 146800640\n",
      "[0] Tested numKeysLocal 163840, numKeysGlobal 18350080, total bytes 146800640: average bandwidth 3.264833e+09\n",
      "[0] Harmonic average bandwidth: 3.187899e+08\n",
      " =========================================================================\n",
      "|                                                                         |\n",
      "|       A note about python/3.6:                                          |\n",
      "|       PACE is lacking the staff to install all of the python 3          |\n",
      "|       modules, but we do maintain an anaconda distribution for          |\n",
      "|       both python 2 and python 3. As conda significantly reduces        |\n",
      "|       the overhead with package management, we would much prefer        |\n",
      "|       to maintain python 3 through anaconda.                            |\n",
      "|                                                                         |\n",
      "|       All pace installed modules are visible via the module avail       |\n",
      "|       command.                                                          |\n",
      "|                                                                         |\n",
      " =========================================================================\n",
      " =========================================================================\n",
      "|                                                                         |\n",
      "|       A note about python/3.6:                                          |\n",
      "|       PACE is lacking the staff to install all of the python 3          |\n",
      "|       modules, but we do maintain an anaconda distribution for          |\n",
      "|       both python 2 and python 3. As conda significantly reduces        |\n",
      "|       the overhead with package management, we would much prefer        |\n",
      "|       to maintain python 3 through anaconda.                            |\n",
      "|                                                                         |\n",
      "|       All pace installed modules are visible via the module avail       |\n",
      "|       command.                                                          |\n",
      "|                                                                         |\n",
      " =========================================================================\n",
      " =========================================================================\n",
      "|                                                                         |\n",
      "|       A note about python/3.6:                                          |\n",
      "|       PACE is lacking the staff to install all of the python 3          |\n",
      "|       modules, but we do maintain an anaconda distribution for          |\n",
      "|       both python 2 and python 3. As conda significantly reduces        |\n",
      "|       the overhead with package management, we would much prefer        |\n",
      "|       to maintain python 3 through anaconda.                            |\n",
      "|                                                                         |\n",
      "|       All pace installed modules are visible via the module avail       |\n",
      "|       command.                                                          |\n",
      "|                                                                         |\n",
      " =========================================================================\n",
      "[0] ./test_proj2 minKeys 160 maxKeys 400000 mult 32 seed 0 uniform size 1 uniform distribution 1 partially sorted 1\n",
      "[0] Testing numKeysLocal 160, numKeysGlobal 17920, total bytes 143360\n",
      "[0] Tested numKeysLocal 160, numKeysGlobal 17920, total bytes 143360: average bandwidth 2.298596e+08\n"
     ]
    },
    {
     "name": "stdout",
     "output_type": "stream",
     "text": [
      "[0] Testing numKeysLocal 5120, numKeysGlobal 573440, total bytes 4587520\n",
      "[0] Tested numKeysLocal 5120, numKeysGlobal 573440, total bytes 4587520: average bandwidth 6.181084e+09\n",
      "[0] Testing numKeysLocal 163840, numKeysGlobal 18350080, total bytes 146800640\n",
      "[0] Tested numKeysLocal 163840, numKeysGlobal 18350080, total bytes 146800640: average bandwidth 9.887183e+09\n",
      "[0] Harmonic average bandwidth: 6.502787e+08\n",
      " =========================================================================\n",
      "|                                                                         |\n",
      "|       A note about python/3.6:                                          |\n",
      "|       PACE is lacking the staff to install all of the python 3          |\n",
      "|       modules, but we do maintain an anaconda distribution for          |\n",
      "|       both python 2 and python 3. As conda significantly reduces        |\n",
      "|       the overhead with package management, we would much prefer        |\n",
      "|       to maintain python 3 through anaconda.                            |\n",
      "|                                                                         |\n",
      "|       All pace installed modules are visible via the module avail       |\n",
      "|       command.                                                          |\n",
      "|                                                                         |\n",
      " =========================================================================\n",
      " =========================================================================\n",
      "|                                                                         |\n",
      "|       A note about python/3.6:                                          |\n",
      "|       PACE is lacking the staff to install all of the python 3          |\n",
      "|       modules, but we do maintain an anaconda distribution for          |\n",
      "|       both python 2 and python 3. As conda significantly reduces        |\n",
      "|       the overhead with package management, we would much prefer        |\n",
      "|       to maintain python 3 through anaconda.                            |\n",
      "|                                                                         |\n",
      "|       All pace installed modules are visible via the module avail       |\n",
      "|       command.                                                          |\n",
      "|                                                                         |\n",
      " =========================================================================\n",
      " =========================================================================\n",
      "|                                                                         |\n",
      "|       A note about python/3.6:                                          |\n",
      "|       PACE is lacking the staff to install all of the python 3          |\n",
      "|       modules, but we do maintain an anaconda distribution for          |\n",
      "|       both python 2 and python 3. As conda significantly reduces        |\n",
      "|       the overhead with package management, we would much prefer        |\n",
      "|       to maintain python 3 through anaconda.                            |\n",
      "|                                                                         |\n",
      "|       All pace installed modules are visible via the module avail       |\n",
      "|       command.                                                          |\n",
      "|                                                                         |\n",
      " =========================================================================\n",
      "[0] ./test_proj2 minKeys 160 maxKeys 400000 mult 32 seed 0 uniform size 1 uniform distribution 1 partially sorted -1\n",
      "[0] Testing numKeysLocal 160, numKeysGlobal 17920, total bytes 143360\n",
      "[0] Tested numKeysLocal 160, numKeysGlobal 17920, total bytes 143360: average bandwidth 1.423930e+08\n",
      "[0] Testing numKeysLocal 5120, numKeysGlobal 573440, total bytes 4587520\n",
      "[0] Tested numKeysLocal 5120, numKeysGlobal 573440, total bytes 4587520: average bandwidth 1.090599e+09\n",
      "[0] Testing numKeysLocal 163840, numKeysGlobal 18350080, total bytes 146800640\n",
      "[0] Tested numKeysLocal 163840, numKeysGlobal 18350080, total bytes 146800640: average bandwidth 3.671216e+09\n",
      "[0] Harmonic average bandwidth: 3.653132e+08\n"
     ]
    }
   ],
   "source": [
    "make clean\n",
    "make test_proj2\n",
    "for uniform_size in 0 1; do\n",
    "for uniform_keys in 0 1; do\n",
    "for partially_sorted in 0 1 -1; do\n",
    "mpirun  -f ${PBS_NODEFILE} -n ${PBS_NP} ./test_proj2 160 400000 32 0 5 ${uniform_size} ${uniform_keys} ${partially_sorted}\n",
    "done\n",
    "done\n",
    "done"
   ]
  },
  {
   "cell_type": "markdown",
   "metadata": {},
   "source": [
    "## Objectives\n",
    "\n",
    "- The goal of this project is to *use profiling* to optimize the performance of\n",
    "  an MPI-based library for distributed memory sorting.\n",
    "  - The main library interface is (as declared in [proj2sorter.h](proj2sorter.h)):\n",
    "\n",
    "``` C\n",
    "    /* This is the default implementation of sorting:\n",
    "     * \\param[in] sorter       The sorting context.  Put all of your customizations\n",
    "     *                         in this object.  Defined in proj2sorter_impl.h, where\n",
    "     *                         you can change the struct to include more data\n",
    "     * \\param[in] numKeysLocal The number of keys on this process.\n",
    "     * \\param[in] uniform      True if there are the same number of keys on each process\n",
    "     * \\param[in/out] keys     The input array.  On output, should be globally\n",
    "     *                         sorted in ascending order.\n",
    "     * \\return                 Non-zero if an error occured.\n",
    "     */\n",
    "    int Proj2SorterSort(Proj2Sorter sorter, size_t numKeysLocal, int uniform, uint64_t *keys);\n",
    "```\n",
    "  - The small library comes with some logging and error macros (see\n",
    "      [proj2.h](proj2.h)) as well as an interface for obtaining/restoring workspace\n",
    "      arrays (see `Proj2SorterGetWorkArray()` and `Proj2SorterRestoreWorkArray()` in\n",
    "      [proj2sorter.h](proj2sorter.h).  To be memory neutral, restore every\n",
    "      workspace that you get.\n",
    "\n",
    "  - Functioning parallel implementations have been provided, one based on\n",
    "      [quicksort](https://en.wikipedia.org/wiki/Quicksort#Parallelization) and\n",
    "      one base on [bitonic mergesort](https://en.wikipedia.org/wiki/Bitonic_sorter).\n",
    "\n",
    "  - A [template library](https://github.com/swenson/sort) originated by Chris\n",
    "      Swenson has been imported for a quicksort implementation that is faster\n",
    "      than `qsort` from the standard library.  The template library includes\n",
    "      other implementations that you are welcome to explore.\n",
    "      \n",
    "      If you go through the work of bringing in a serial sorting library, you're welcome to use it,\n",
    "      as long as you put it somewhere the TA and I can access it.\n",
    "\n",
    "  - Indeed, as with previous assignments, the implementation details are up\n",
    "      to you.  There is a test program\n",
    "      ([test_proj2.c](test_proj2.c)), which may not be edited, that calls your\n",
    "      library.  It will test the sorting bandwidth (bytes sorted per second) of\n",
    "      your code on random data at varying numbers of *keys\n",
    "      per MPI process* (a *key* in our library is just a `uint64_t`: a large\n",
    "      integer).  You may incorporate additional files into your library by\n",
    "      adding a `Makefile.inc` file to your project.\n",
    "\n",
    "```\n",
    "    ./test_proj2 MIN_KEYS_PER_PROCESS MAX_KEYS_PER_PROCESS MULTIPLIER SEED NUM_REPS UNIFORM_SIZE UNIFORM_KEYS PARTIALLY_SORTED\n",
    "```\n",
    "\n",
    "This means that the test program seeds the random number generator with `SEED`,\n",
    "starts with `MIN_KEYS_PER_PROCESS`, tests `NUM_REPS` times to get an average,\n",
    "and gets the next problem size by multiplying by `MULTIPLIER`, until at most\n",
    "`MAX_KEYS_PER_PROCESS`.  If `UNIFORM_SIZE` is `0`, then the number of keys per process will vary between `MIN_KEYS_PER_PROCESS` and `2*MIN_KEYS_PER_PROCESS`. IF `UNIFORM_KEYS` is `0`, each process will have a keys in its own randomly chosen interval.  If `PARTIALLY_SORTED` is `1`, the input array is random but generally increasing; if `PARTIALLY_SORTED` is `-1` the input array is random but generally decreasing.  In your testing, you will probably want to test **one\n",
    "problem size** at a time.  If you are\n",
    "having problems with correctness (segmentation faults, hangs/deadlocks, etc.),\n",
    "it is best to work those out on your workstation/laptop is possible before\n",
    "using SUs on Stampede2.  You are starting (knock on wood) from a correct\n",
    "implementation: try to work in small changes, testing for correctness at each change."
   ]
  },
  {
   "cell_type": "code",
   "execution_count": 10,
   "metadata": {},
   "outputs": [
    {
     "name": "stdout",
     "output_type": "stream",
     "text": [
      "rm -f libproj2.so  proj2.o proj2sorter.o local.o bitonic.o quicksort.o test_proj2.o test_proj2\n",
      "mpicc -I../../utils/Random123/include -g -Wall -std=c99 -fopenmp -fpic -O3 -c -o test_proj2.o test_proj2.c\n",
      "mpicc -I../../utils/Random123/include -g -Wall -std=c99 -fopenmp -fpic -O3 -c -o proj2.o proj2.c\n",
      "mpicc -I../../utils/Random123/include -g -Wall -std=c99 -fopenmp -fpic -O3 -c -o proj2sorter.o proj2sorter.c\n",
      "mpicc -I../../utils/Random123/include -g -Wall -std=c99 -fopenmp -fpic -O3 -c -o local.o local.c\n",
      "swensonsort/sort.h:1432: warning: ‘proj2_swenson_sqrt_sort’ defined but not used\n",
      "swensonsort/sort.h:2166: warning: ‘proj2_swenson_grail_sort’ defined but not used\n",
      "swensonsort/sort.h:2175: warning: ‘proj2_swenson_grail_sort_dyn_buffer’ defined but not used\n",
      "swensonsort/sort.h:2236: warning: ‘proj2_swenson_rec_stable_sort’ defined but not used\n",
      "mpicc -I../../utils/Random123/include -g -Wall -std=c99 -fopenmp -fpic -O3 -c -o bitonic.o bitonic.c\n",
      "mpicc -I../../utils/Random123/include -g -Wall -std=c99 -fopenmp -fpic -O3 -c -o quicksort.o quicksort.c\n",
      "mpicc -fopenmp -shared -o libproj2.so proj2.o proj2sorter.o local.o bitonic.o quicksort.o -lm\n",
      "mpicc -fopenmp -L./ -Wl,-rpath,./ -o test_proj2 test_proj2.o -lproj2\n"
     ]
    }
   ],
   "source": [
    "make clean\n",
    "make test_proj2"
   ]
  },
  {
   "cell_type": "markdown",
   "metadata": {},
   "source": [
    "### Initial HPC Trace Test:  "
   ]
  },
  {
   "cell_type": "code",
   "execution_count": 11,
   "metadata": {},
   "outputs": [
    {
     "name": "stdout",
     "output_type": "stream",
     "text": [
      "[0] ./test_proj2 minKeys 400000 maxKeys 400000 mult 2 seed 0 uniform size 0 uniform distribution 0 partially sorted 0\n",
      "[0] Testing numKeysLocal 620439, numKeysGlobal 16310081, total bytes 130480648\n",
      "[0] Tested numKeysLocal 620439, numKeysGlobal 16310081, total bytes 130480648: average bandwidth 1.416891e+08\n",
      "[0] Harmonic average bandwidth: 1.416891e+08\n"
     ]
    }
   ],
   "source": [
    "mpirun  -f ${PBS_NODEFILE} -n ${PBS_NP} ./test_proj2 400000 400000 1 0 1 0 0 0 "
   ]
  },
  {
   "cell_type": "code",
   "execution_count": 13,
   "metadata": {},
   "outputs": [
    {
     "name": "stdout",
     "output_type": "stream",
     "text": [
      "[0] ./test_proj2 minKeys 400000 maxKeys 400000 mult 32 seed 0 uniform size 0 uniform distribution 0 partially sorted 0\n",
      "[0] Testing numKeysLocal 620439, numKeysGlobal 16310081, total bytes 130480648\n",
      "[0] Tested numKeysLocal 620439, numKeysGlobal 16310081, total bytes 130480648: average bandwidth 1.419643e+08\n",
      "[0] Harmonic average bandwidth: 1.419643e+08\n"
     ]
    }
   ],
   "source": [
    "hpcstruct ./test_proj2\n",
    "mpirun  -f ${PBS_NODEFILE} -n ${PBS_NP} hpcrun -o hpctoolkit-test_proj2-measurements-initial -t ./test_proj2 400000 400000 32 0 1 0 0 0 "
   ]
  },
  {
   "cell_type": "code",
   "execution_count": 14,
   "metadata": {},
   "outputs": [
    {
     "name": "stdout",
     "output_type": "stream",
     "text": [
      "msg: STRUCTURE: /nv/coc-ice/mguo34/cse6230/projects/2-sorting/test_proj2\n",
      "msg: Line map : /nv/coc-ice/tisaac3/opt/pace-ice/hpctoolkit/lib/hpctoolkit/ext-libs/libmonitor.so.0.0.0\n",
      "msg: Line map : /nv/coc-ice/mguo34/cse6230/projects/2-sorting/libproj2.so\n",
      "msg: Line map : /nv/usr-local-rhel6.7/pacerepov1/intel/compiler/16.0/compilers_and_libraries_2016.0.109/linux/mpi/intel64/lib/libmpifort.so.12.0\n",
      "msg: Line map : /nv/usr-local-rhel6.7/pacerepov1/intel/compiler/16.0/compilers_and_libraries_2016.0.109/linux/mpi/intel64/lib/release_mt/libmpi.so.12.0\n",
      "msg: Line map : /lib64/libpthread-2.12.so\n",
      "msg: Line map : /lib64/libc-2.12.so\n",
      "msg: Populating Experiment database: /nv/coc-ice/mguo34/cse6230/projects/2-sorting/hpctoolkit-test_proj2-database-initial\n"
     ]
    }
   ],
   "source": [
    "\n",
    "# hpcprof -S test_proj2.hpcstruct hpctoolkit-test_proj2-measurements-129587.ice-sched.pace.gatech.edu \n",
    "hpcprof -S test_proj2.hpcstruct hpctoolkit-test_proj2-measurements-initial"
   ]
  },
  {
   "cell_type": "markdown",
   "metadata": {},
   "source": [
    "After get the measurements with hpc, I used the hpctraceviewer to check the running time. \n",
    "Without any modification, the running traces are :\n",
    "\n",
    "![initial_test](traceviewer/initial_test.png)\n"
   ]
  },
  {
   "cell_type": "markdown",
   "metadata": {},
   "source": [
    "As can be seen with the trace viewer, before the barrier, the initial test is not balanced, since it split the communications at each recursive call. And the algorithem takes extra time to sort local array since upon splitting, the array has already been sorted, yet the algorithm treated them as non-sorted, and sort again. And due to unbalanced loads to each rannk, the waitings occured before the barrier, which also caused a time waste. And the redistribution is done at every recursive call, yet should be done at the end. \n",
    "\n",
    "#### <initial check git commits: commit 488d0419d5feeb0ff131b3675a5c55f72a7f40bf>"
   ]
  },
  {
   "cell_type": "markdown",
   "metadata": {},
   "source": [
    "## Modifications :\n",
    "### **1. split and store subcomms** \n",
    "#### <initial check git commits: commit 060d3410a366097e4f16671d29dc4e0ae91ab98f>\n",
    "\n",
    "\n",
    "\n",
    "\n"
   ]
  },
  {
   "cell_type": "code",
   "execution_count": 5,
   "metadata": {
    "scrolled": true
   },
   "outputs": [
    {
     "name": "stdout",
     "output_type": "stream",
     "text": [
      "rm -f libproj2.so  proj2.o proj2sorter.o local.o bitonic.o quicksort.o test_proj2.o test_proj2\n",
      "mpicc -I../../utils/Random123/include -g -Wall -std=c99 -fopenmp -fpic -O3 -c -o test_proj2.o test_proj2.c\n",
      "mpicc -I../../utils/Random123/include -g -Wall -std=c99 -fopenmp -fpic -O3 -c -o proj2.o proj2.c\n",
      "mpicc -I../../utils/Random123/include -g -Wall -std=c99 -fopenmp -fpic -O3 -c -o proj2sorter.o proj2sorter.c\n",
      "mpicc -I../../utils/Random123/include -g -Wall -std=c99 -fopenmp -fpic -O3 -c -o local.o local.c\n",
      "swensonsort/sort.h:1432: warning: ‘proj2_swenson_sqrt_sort’ defined but not used\n",
      "swensonsort/sort.h:2166: warning: ‘proj2_swenson_grail_sort’ defined but not used\n",
      "swensonsort/sort.h:2175: warning: ‘proj2_swenson_grail_sort_dyn_buffer’ defined but not used\n",
      "swensonsort/sort.h:2236: warning: ‘proj2_swenson_rec_stable_sort’ defined but not used\n",
      "mpicc -I../../utils/Random123/include -g -Wall -std=c99 -fopenmp -fpic -O3 -c -o bitonic.o bitonic.c\n",
      "mpicc -I../../utils/Random123/include -g -Wall -std=c99 -fopenmp -fpic -O3 -c -o quicksort.o quicksort.c\n",
      "mpicc -fopenmp -shared -o libproj2.so proj2.o proj2sorter.o local.o bitonic.o quicksort.o -lm\n",
      "mpicc -fopenmp -L./ -Wl,-rpath,./ -o test_proj2 test_proj2.o -lproj2\n"
     ]
    }
   ],
   "source": [
    "make clean\n",
    "make test_proj2"
   ]
  },
  {
   "cell_type": "code",
   "execution_count": 7,
   "metadata": {},
   "outputs": [
    {
     "name": "stdout",
     "output_type": "stream",
     "text": [
      "[0] ./test_proj2 minKeys 400000 maxKeys 400000 mult 32 seed 0 uniform size 0 uniform distribution 0 partially sorted 0\n",
      "[0] Testing numKeysLocal 620439, numKeysGlobal 16310081, total bytes 130480648\n",
      "[0] Tested numKeysLocal 620439, numKeysGlobal 16310081, total bytes 130480648: average bandwidth 1.531778e+08\n",
      "[0] Harmonic average bandwidth: 1.531778e+08\n"
     ]
    }
   ],
   "source": [
    "hpcstruct ./test_proj2\n",
    "mpirun  -f ${PBS_NODEFILE} -n ${PBS_NP} hpcrun -o hpctoolkit-test_proj2-measurements-second -t ./test_proj2 400000 400000 32 0 1 0 0 0 "
   ]
  },
  {
   "cell_type": "code",
   "execution_count": 8,
   "metadata": {},
   "outputs": [
    {
     "name": "stdout",
     "output_type": "stream",
     "text": [
      "msg: STRUCTURE: /nv/coc-ice/mguo34/cse6230/projects/2-sorting/test_proj2\n",
      "msg: Line map : /nv/coc-ice/tisaac3/opt/pace-ice/hpctoolkit/lib/hpctoolkit/ext-libs/libmonitor.so.0.0.0\n",
      "msg: Line map : /nv/coc-ice/mguo34/cse6230/projects/2-sorting/libproj2.so\n",
      "msg: Line map : /nv/usr-local-rhel6.7/pacerepov1/intel/compiler/16.0/compilers_and_libraries_2016.0.109/linux/mpi/intel64/lib/libmpifort.so.12.0\n",
      "msg: Line map : /nv/usr-local-rhel6.7/pacerepov1/intel/compiler/16.0/compilers_and_libraries_2016.0.109/linux/mpi/intel64/lib/release_mt/libmpi.so.12.0\n",
      "msg: Line map : /lib64/libpthread-2.12.so\n",
      "msg: Line map : /lib64/libc-2.12.so\n",
      "msg: Populating Experiment database: /nv/coc-ice/mguo34/cse6230/projects/2-sorting/hpctoolkit-test_proj2-database-second\n"
     ]
    }
   ],
   "source": [
    "hpcprof -S test_proj2.hpcstruct hpctoolkit-test_proj2-measurements-second"
   ]
  },
  {
   "cell_type": "markdown",
   "metadata": {},
   "source": [
    "Now we created sub communications when creating the sorter and cache the array of pointers in the sorter struct. Checking the hpc trace viewer.Compared to previously, local sort takes up larger percent of time, because there is no overhead for spliting communications at the end of every recursive call. The test results are:\n",
    "for \n",
    "The bandwidth goes from 1.416891e+08 (initial) to 1.531778e+08.\n",
    "![second_test](traceviewer/second_test.png)"
   ]
  },
  {
   "cell_type": "markdown",
   "metadata": {},
   "source": [
    "**2. Concat sorted arrays and no call for quicksort if no sorting needed**  \n",
    "To merge the sorted half arrays, an O(n) local merging algorithm is used. \n",
    "We want to make sure local quicksort (O(nlogn)) is only called only when the arrays are not sorted. \n",
    "#### <this modification git commit: commit 0ec97180f20130920fb4f90858f398b2b1dfcc6f>"
   ]
  },
  {
   "cell_type": "code",
   "execution_count": 9,
   "metadata": {},
   "outputs": [
    {
     "name": "stdout",
     "output_type": "stream",
     "text": [
      "rm -f libproj2.so  proj2.o proj2sorter.o local.o bitonic.o quicksort.o test_proj2.o test_proj2\n",
      "mpicc -I../../utils/Random123/include -g -Wall -std=c99 -fopenmp -fpic -O3 -c -o test_proj2.o test_proj2.c\n",
      "mpicc -I../../utils/Random123/include -g -Wall -std=c99 -fopenmp -fpic -O3 -c -o proj2.o proj2.c\n",
      "mpicc -I../../utils/Random123/include -g -Wall -std=c99 -fopenmp -fpic -O3 -c -o proj2sorter.o proj2sorter.c\n",
      "mpicc -I../../utils/Random123/include -g -Wall -std=c99 -fopenmp -fpic -O3 -c -o local.o local.c\n",
      "swensonsort/sort.h:1432: warning: ‘proj2_swenson_sqrt_sort’ defined but not used\n",
      "swensonsort/sort.h:2166: warning: ‘proj2_swenson_grail_sort’ defined but not used\n",
      "swensonsort/sort.h:2175: warning: ‘proj2_swenson_grail_sort_dyn_buffer’ defined but not used\n",
      "swensonsort/sort.h:2236: warning: ‘proj2_swenson_rec_stable_sort’ defined but not used\n",
      "mpicc -I../../utils/Random123/include -g -Wall -std=c99 -fopenmp -fpic -O3 -c -o bitonic.o bitonic.c\n",
      "mpicc -I../../utils/Random123/include -g -Wall -std=c99 -fopenmp -fpic -O3 -c -o quicksort.o quicksort.c\n",
      "quicksort.c: In function ‘Proj2SorterSort_quicksort_recursive’:\n",
      "quicksort.c:105: warning: implicit declaration of function ‘Proj2SorterSortLocal_merge’\n",
      "mpicc -fopenmp -shared -o libproj2.so proj2.o proj2sorter.o local.o bitonic.o quicksort.o -lm\n",
      "mpicc -fopenmp -L./ -Wl,-rpath,./ -o test_proj2 test_proj2.o -lproj2\n"
     ]
    }
   ],
   "source": [
    "make clean\n",
    "make test_proj2"
   ]
  },
  {
   "cell_type": "code",
   "execution_count": 10,
   "metadata": {},
   "outputs": [
    {
     "name": "stdout",
     "output_type": "stream",
     "text": [
      "[0] ./test_proj2 minKeys 400000 maxKeys 400000 mult 32 seed 0 uniform size 0 uniform distribution 0 partially sorted 0\n",
      "[0] Testing numKeysLocal 620439, numKeysGlobal 16310081, total bytes 130480648\n",
      "[0] Tested numKeysLocal 620439, numKeysGlobal 16310081, total bytes 130480648: average bandwidth 8.433064e+08\n",
      "[0] Harmonic average bandwidth: 8.433064e+08\n"
     ]
    }
   ],
   "source": [
    "hpcstruct ./test_proj2\n",
    "mpirun  -f ${PBS_NODEFILE} -n ${PBS_NP} hpcrun -o hpctoolkit-test_proj2-measurements-third -t ./test_proj2 400000 400000 32 0 1 0 0 0 "
   ]
  },
  {
   "cell_type": "code",
   "execution_count": 11,
   "metadata": {},
   "outputs": [
    {
     "name": "stdout",
     "output_type": "stream",
     "text": [
      "msg: STRUCTURE: /nv/coc-ice/mguo34/cse6230/projects/2-sorting/test_proj2\n",
      "msg: Line map : /nv/coc-ice/tisaac3/opt/pace-ice/hpctoolkit/lib/hpctoolkit/ext-libs/libmonitor.so.0.0.0\n",
      "msg: Line map : /nv/coc-ice/mguo34/cse6230/projects/2-sorting/libproj2.so\n",
      "msg: Line map : /nv/usr-local-rhel6.7/pacerepov1/intel/compiler/16.0/compilers_and_libraries_2016.0.109/linux/mpi/intel64/lib/libmpifort.so.12.0\n",
      "msg: Line map : /nv/usr-local-rhel6.7/pacerepov1/intel/compiler/16.0/compilers_and_libraries_2016.0.109/linux/mpi/intel64/lib/release_mt/libmpi.so.12.0\n",
      "msg: Line map : /lib64/libpthread-2.12.so\n",
      "msg: Line map : /lib64/libc-2.12.so\n",
      "msg: Populating Experiment database: /nv/coc-ice/mguo34/cse6230/projects/2-sorting/hpctoolkit-test_proj2-database-third\n"
     ]
    }
   ],
   "source": [
    "hpcprof -S test_proj2.hpcstruct hpctoolkit-test_proj2-measurements-third"
   ]
  },
  {
   "cell_type": "markdown",
   "metadata": {},
   "source": [
    "Now localsort was called less times, we can see the significant bandwidth improvemnts due to the merging.\n",
    "The bandwidth goes from 1.416891e+08 (initial) to 8.433064e+08.\n",
    "However, the load distribution is still not well balanced, we will have to make a better load distribution next.\n",
    "![third_test](traceviewer/third_test.png)"
   ]
  },
  {
   "cell_type": "markdown",
   "metadata": {},
   "source": [
    "**3.Pivot Selection better load distribution**  \n",
    "To better distribute the load, it is better to adjust the estimated pivot, for the quicksort, as when using the median of one array to pivot, the results can be uncertain. Suppose we have p thread, and each thread assigned with p numbers, then the median of the sampled p^2 numbers should be used. the numbers should be sampled at uniform intervals, to avoid bias. \n",
    "#### <this modification git commit: 7b249b5991b70c898114a56f552a33d2bb901300 >"
   ]
  },
  {
   "cell_type": "code",
   "execution_count": 3,
   "metadata": {},
   "outputs": [
    {
     "name": "stdout",
     "output_type": "stream",
     "text": [
      "rm -f libproj2.so  proj2.o proj2sorter.o local.o bitonic.o quicksort.o test_proj2.o test_proj2\n",
      "mpicc -I../../utils/Random123/include -g -Wall -std=c99 -fopenmp -fpic -O3 -c -o test_proj2.o test_proj2.c\n",
      "mpicc -I../../utils/Random123/include -g -Wall -std=c99 -fopenmp -fpic -O3 -c -o proj2.o proj2.c\n",
      "mpicc -I../../utils/Random123/include -g -Wall -std=c99 -fopenmp -fpic -O3 -c -o proj2sorter.o proj2sorter.c\n",
      "mpicc -I../../utils/Random123/include -g -Wall -std=c99 -fopenmp -fpic -O3 -c -o local.o local.c\n",
      "swensonsort/sort.h:1432: warning: ‘proj2_swenson_sqrt_sort’ defined but not used\n",
      "swensonsort/sort.h:2166: warning: ‘proj2_swenson_grail_sort’ defined but not used\n",
      "swensonsort/sort.h:2175: warning: ‘proj2_swenson_grail_sort_dyn_buffer’ defined but not used\n",
      "swensonsort/sort.h:2236: warning: ‘proj2_swenson_rec_stable_sort’ defined but not used\n",
      "mpicc -I../../utils/Random123/include -g -Wall -std=c99 -fopenmp -fpic -O3 -c -o bitonic.o bitonic.c\n",
      "mpicc -I../../utils/Random123/include -g -Wall -std=c99 -fopenmp -fpic -O3 -c -o quicksort.o quicksort.c\n",
      "quicksort.c: In function ‘Proj2SorterSort_quicksort_recursive’:\n",
      "quicksort.c:156: warning: implicit declaration of function ‘Proj2SorterSortLocal_merge’\n",
      "mpicc -fopenmp -shared -o libproj2.so proj2.o proj2sorter.o local.o bitonic.o quicksort.o -lm\n",
      "mpicc -fopenmp -L./ -Wl,-rpath,./ -o test_proj2 test_proj2.o -lproj2\n"
     ]
    }
   ],
   "source": [
    "make clean\n",
    "make test_proj2"
   ]
  },
  {
   "cell_type": "code",
   "execution_count": 4,
   "metadata": {},
   "outputs": [
    {
     "name": "stdout",
     "output_type": "stream",
     "text": [
      "[0] ./test_proj2 minKeys 400000 maxKeys 400000 mult 32 seed 0 uniform size 0 uniform distribution 0 partially sorted 0\n",
      "[0] Testing numKeysLocal 620439, numKeysGlobal 16310081, total bytes 130480648\n",
      "[0] Tested numKeysLocal 620439, numKeysGlobal 16310081, total bytes 130480648: average bandwidth 9.111009e+08\n",
      "[0] Harmonic average bandwidth: 9.111009e+08\n"
     ]
    }
   ],
   "source": [
    "hpcstruct ./test_proj2\n",
    "mpirun  -f ${PBS_NODEFILE} -n ${PBS_NP} hpcrun -o hpctoolkit-test_proj2-measurements-fourth -t ./test_proj2 400000 400000 32 0 1 0 0 0"
   ]
  },
  {
   "cell_type": "code",
   "execution_count": 5,
   "metadata": {},
   "outputs": [
    {
     "name": "stdout",
     "output_type": "stream",
     "text": [
      "msg: STRUCTURE: /nv/coc-ice/mguo34/cse6230/projects/2-sorting/test_proj2\n",
      "msg: Line map : /nv/coc-ice/tisaac3/opt/pace-ice/hpctoolkit/lib/hpctoolkit/ext-libs/libmonitor.so.0.0.0\n",
      "msg: Line map : /nv/coc-ice/mguo34/cse6230/projects/2-sorting/libproj2.so\n",
      "msg: Line map : /nv/usr-local-rhel6.7/pacerepov1/intel/compiler/16.0/compilers_and_libraries_2016.0.109/linux/mpi/intel64/lib/libmpifort.so.12.0\n",
      "msg: Line map : /nv/usr-local-rhel6.7/pacerepov1/intel/compiler/16.0/compilers_and_libraries_2016.0.109/linux/mpi/intel64/lib/release_mt/libmpi.so.12.0\n",
      "msg: Line map : /lib64/libc-2.12.so\n",
      "msg: Populating Experiment database: /nv/coc-ice/mguo34/cse6230/projects/2-sorting/hpctoolkit-test_proj2-database-fourth\n"
     ]
    }
   ],
   "source": [
    "hpcprof -S test_proj2.hpcstruct hpctoolkit-test_proj2-measurements-fourth"
   ]
  },
  {
   "cell_type": "markdown",
   "metadata": {},
   "source": [
    "![fourth_test](traceviewer/fourth_test.png)\n",
    "\n",
    "Compared to the last modification, with a better selection of pivot, the load distribution for quicksort improves. \n",
    "Now the bandwidth has gone to 9.111009e+08;"
   ]
  },
  {
   "cell_type": "markdown",
   "metadata": {},
   "source": [
    "**4.Better redistribution to avoid unnessary ones**  \n",
    "We also wanted to improve the distribution, so we chose to distribute only at the end of the recursive call.\n",
    "#### <this modification git commit: 2094bb40ff0948031f9bd2ba8dc0af12f2b78d7d >"
   ]
  },
  {
   "cell_type": "code",
   "execution_count": 8,
   "metadata": {},
   "outputs": [
    {
     "name": "stdout",
     "output_type": "stream",
     "text": [
      "rm -f libproj2.so  proj2.o proj2sorter.o local.o bitonic.o quicksort.o test_proj2.o test_proj2\n",
      "mpicc -I../../utils/Random123/include -g -Wall -std=c99 -fopenmp -fpic -O3 -c -o test_proj2.o test_proj2.c\n",
      "mpicc -I../../utils/Random123/include -g -Wall -std=c99 -fopenmp -fpic -O3 -c -o proj2.o proj2.c\n",
      "mpicc -I../../utils/Random123/include -g -Wall -std=c99 -fopenmp -fpic -O3 -c -o proj2sorter.o proj2sorter.c\n",
      "mpicc -I../../utils/Random123/include -g -Wall -std=c99 -fopenmp -fpic -O3 -c -o local.o local.c\n",
      "swensonsort/sort.h:1432: warning: ‘proj2_swenson_sqrt_sort’ defined but not used\n",
      "swensonsort/sort.h:2166: warning: ‘proj2_swenson_grail_sort’ defined but not used\n",
      "swensonsort/sort.h:2175: warning: ‘proj2_swenson_grail_sort_dyn_buffer’ defined but not used\n",
      "swensonsort/sort.h:2236: warning: ‘proj2_swenson_rec_stable_sort’ defined but not used\n",
      "mpicc -I../../utils/Random123/include -g -Wall -std=c99 -fopenmp -fpic -O3 -c -o bitonic.o bitonic.c\n",
      "mpicc -I../../utils/Random123/include -g -Wall -std=c99 -fopenmp -fpic -O3 -c -o quicksort.o quicksort.c\n",
      "quicksort.c: In function ‘Proj2SorterSort_quicksort_recursive’:\n",
      "quicksort.c:273: warning: implicit declaration of function ‘Proj2SorterSortLocal_merge’\n",
      "mpicc -fopenmp -shared -o libproj2.so proj2.o proj2sorter.o local.o bitonic.o quicksort.o -lm\n",
      "mpicc -fopenmp -L./ -Wl,-rpath,./ -o test_proj2 test_proj2.o -lproj2\n"
     ]
    }
   ],
   "source": [
    "make clean\n",
    "make test_proj2"
   ]
  },
  {
   "cell_type": "code",
   "execution_count": 9,
   "metadata": {},
   "outputs": [
    {
     "name": "stdout",
     "output_type": "stream",
     "text": [
      "[0] ./test_proj2 minKeys 400000 maxKeys 400000 mult 32 seed 0 uniform size 0 uniform distribution 0 partially sorted 0\n",
      "[0] Testing numKeysLocal 620439, numKeysGlobal 16310081, total bytes 130480648\n",
      "[0] Tested numKeysLocal 620439, numKeysGlobal 16310081, total bytes 130480648: average bandwidth 9.763014e+08\n",
      "[0] Harmonic average bandwidth: 9.763014e+08\n"
     ]
    }
   ],
   "source": [
    "hpcstruct ./test_proj2\n",
    "mpirun  -f ${PBS_NODEFILE} -n ${PBS_NP} hpcrun -o hpctoolkit-test_proj2-measurements-fifth -t ./test_proj2 400000 400000 32 0 1 0 0 0"
   ]
  },
  {
   "cell_type": "code",
   "execution_count": 10,
   "metadata": {},
   "outputs": [
    {
     "name": "stdout",
     "output_type": "stream",
     "text": [
      "msg: STRUCTURE: /nv/coc-ice/mguo34/cse6230/projects/2-sorting/test_proj2\n",
      "msg: Line map : /nv/coc-ice/tisaac3/opt/pace-ice/hpctoolkit/lib/hpctoolkit/ext-libs/libmonitor.so.0.0.0\n",
      "msg: Line map : /nv/coc-ice/mguo34/cse6230/projects/2-sorting/libproj2.so\n",
      "msg: Line map : /nv/usr-local-rhel6.7/pacerepov1/intel/compiler/16.0/compilers_and_libraries_2016.0.109/linux/mpi/intel64/lib/libmpifort.so.12.0\n",
      "msg: Line map : /nv/usr-local-rhel6.7/pacerepov1/intel/compiler/16.0/compilers_and_libraries_2016.0.109/linux/mpi/intel64/lib/release_mt/libmpi.so.12.0\n",
      "msg: Line map : /lib64/libc-2.12.so\n",
      "msg: Populating Experiment database: /nv/coc-ice/mguo34/cse6230/projects/2-sorting/hpctoolkit-test_proj2-database-fifth\n"
     ]
    }
   ],
   "source": [
    "hpcprof -S test_proj2.hpcstruct hpctoolkit-test_proj2-measurements-fifth"
   ]
  },
  {
   "cell_type": "markdown",
   "metadata": {},
   "source": [
    "As can be seen for the following, after we made the change, the performance improved. Now the bandwidth is 9.763014e+08.\n",
    "![fifth_test](traceviewer/fifth_test.png)"
   ]
  },
  {
   "cell_type": "markdown",
   "metadata": {},
   "source": [
    "### Multi-core test:  "
   ]
  },
  {
   "cell_type": "markdown",
   "metadata": {},
   "source": [
    "Now we swith to 4 nodes with 28 cpu each. To test the performance. And as can be seen below, the bandwidth has been improved to  2.385530e+09. And the original test sequence are showing on the top of the notebook. "
   ]
  },
  {
   "cell_type": "code",
   "execution_count": 5,
   "metadata": {},
   "outputs": [
    {
     "name": "stdout",
     "output_type": "stream",
     "text": [
      "rm -f libproj2.so  proj2.o proj2sorter.o local.o bitonic.o quicksort.o test_proj2.o test_proj2\n",
      "mpicc -I../../utils/Random123/include -g -Wall -std=c99 -fopenmp -fpic -O3 -c -o test_proj2.o test_proj2.c\n",
      "mpicc -I../../utils/Random123/include -g -Wall -std=c99 -fopenmp -fpic -O3 -c -o proj2.o proj2.c\n",
      "mpicc -I../../utils/Random123/include -g -Wall -std=c99 -fopenmp -fpic -O3 -c -o proj2sorter.o proj2sorter.c\n",
      "mpicc -I../../utils/Random123/include -g -Wall -std=c99 -fopenmp -fpic -O3 -c -o local.o local.c\n",
      "swensonsort/sort.h:1432: warning: ‘proj2_swenson_sqrt_sort’ defined but not used\n",
      "swensonsort/sort.h:2166: warning: ‘proj2_swenson_grail_sort’ defined but not used\n",
      "swensonsort/sort.h:2175: warning: ‘proj2_swenson_grail_sort_dyn_buffer’ defined but not used\n",
      "swensonsort/sort.h:2236: warning: ‘proj2_swenson_rec_stable_sort’ defined but not used\n",
      "mpicc -I../../utils/Random123/include -g -Wall -std=c99 -fopenmp -fpic -O3 -c -o bitonic.o bitonic.c\n",
      "mpicc -I../../utils/Random123/include -g -Wall -std=c99 -fopenmp -fpic -O3 -c -o quicksort.o quicksort.c\n",
      "quicksort.c: In function ‘Proj2SorterSort_quicksort_recursive’:\n",
      "quicksort.c:273: warning: implicit declaration of function ‘Proj2SorterSortLocal_merge’\n",
      "mpicc -fopenmp -shared -o libproj2.so proj2.o proj2sorter.o local.o bitonic.o quicksort.o -lm\n",
      "mpicc -fopenmp -L./ -Wl,-rpath,./ -o test_proj2 test_proj2.o -lproj2\n",
      " =========================================================================\n",
      "|                                                                         |\n",
      "|       A note about python/3.6:                                          |\n",
      "|       PACE is lacking the staff to install all of the python 3          |\n",
      "|       modules, but we do maintain an anaconda distribution for          |\n",
      "|       both python 2 and python 3. As conda significantly reduces        |\n",
      "|       the overhead with package management, we would much prefer        |\n",
      "|       to maintain python 3 through anaconda.                            |\n",
      "|                                                                         |\n",
      "|       All pace installed modules are visible via the module avail       |\n",
      "|       command.                                                          |\n",
      "|                                                                         |\n",
      " =========================================================================\n",
      " =========================================================================\n",
      "|                                                                         |\n",
      "|       A note about python/3.6:                                          |\n",
      "|       PACE is lacking the staff to install all of the python 3          |\n",
      "|       modules, but we do maintain an anaconda distribution for          |\n",
      "|       both python 2 and python 3. As conda significantly reduces        |\n",
      "|       the overhead with package management, we would much prefer        |\n",
      "|       to maintain python 3 through anaconda.                            |\n",
      "|                                                                         |\n",
      "|       All pace installed modules are visible via the module avail       |\n",
      "|       command.                                                          |\n",
      "|                                                                         |\n",
      " =========================================================================\n",
      " =========================================================================\n",
      "|                                                                         |\n",
      "|       A note about python/3.6:                                          |\n",
      "|       PACE is lacking the staff to install all of the python 3          |\n",
      "|       modules, but we do maintain an anaconda distribution for          |\n",
      "|       both python 2 and python 3. As conda significantly reduces        |\n",
      "|       the overhead with package management, we would much prefer        |\n",
      "|       to maintain python 3 through anaconda.                            |\n",
      "|                                                                         |\n",
      "|       All pace installed modules are visible via the module avail       |\n",
      "|       command.                                                          |\n",
      "|                                                                         |\n",
      " =========================================================================\n",
      "[0] ./test_proj2 minKeys 400000 maxKeys 400000 mult 32 seed 0 uniform size 0 uniform distribution 0 partially sorted 0\n",
      "[0] Testing numKeysLocal 620439, numKeysGlobal 68490372, total bytes 547922976\n",
      "[0] Tested numKeysLocal 620439, numKeysGlobal 68490372, total bytes 547922976: average bandwidth 2.407595e+09\n",
      "[0] Harmonic average bandwidth: 2.407595e+09\n"
     ]
    }
   ],
   "source": [
    "make clean\n",
    "make test_proj2\n",
    "# for uniform_size in 0 1; do\n",
    "# for uniform_keys in 0 1; do\n",
    "# for partially_sorted in 0 1 -1; do\n",
    " mpirun  -f ${PBS_NODEFILE} -n ${PBS_NP} ./test_proj2 400000 400000 32 0 1 0 0 0 \n",
    "# done\n",
    "# done\n",
    "# done\n",
    "  "
   ]
  },
  {
   "cell_type": "markdown",
   "metadata": {},
   "source": [
    "### The completed tests results are at the top page, I ran a test showing here based on my config to see a difference. "
   ]
  },
  {
   "cell_type": "markdown",
   "metadata": {},
   "source": [
    "## Prediction\n",
    "\n",
    "We need to analyze the time spent, \n",
    "if 112 threads are used, aka 4 nodes, each with 28 CPU cores. \n",
    "The piece of the array for each thread is N/112, \n",
    "We have two main parts for the time spent, one is from the mergesort, one is from the communication. \n",
    "Since we supposed to have 112 threads, the iterations will be log2(112) $\\approx$ 6 iterations. \n",
    "\n",
    "For sorting, $t = 6 \\times (\\frac{\\frac{N}{112}}{2}+\\frac{\\frac{N}{112}}{2}+\\frac{\\frac{N}{112}}{2}) = 6 \\times \\frac{3N}{224}\\ \\frac{1}{Flops}$ \n",
    "\n",
    "About communications:\n",
    "For each iteration, there is $\\lambda + \\mu g$ , $g = N/P$ here, we have send and receive, \n",
    "the nthe time of communication is  $\\lambda + \\mu \\frac{N}{112}$\n",
    "\n",
    "For Six iterations:\n",
    "$t = 6 \\times (\\lambda + \\mu \\frac{N}{112}) = 6(\\lambda + \\mu \\frac{N}{112})$\n",
    "\n",
    "\n",
    "Thus, the prediction of bandwith $\\frac{N}{T}= \\frac{N}{6(\\lambda + \\mu \\frac{N}{112})+6 \\times \\frac{3N}{224}\\ \\frac{1}{Flops}} \\approx 5.9 e10$ we can get the $\\mu$ and $\\lambda$ from assginment 5"
   ]
  },
  {
   "cell_type": "markdown",
   "metadata": {},
   "source": [
    "## Grading\n",
    "\n",
    "- 0-4 points for hassle-free usage: maximized if the python script made from the notebook runs the first time.\n",
    "    * Points lost if we have to figure out how to reproduce your reported results.\n",
    "- 0-6 points for correctness:\n",
    "    * Whether the notebook runs to\n",
    "      completion (it will abort if a list of keys is not properly sorted).\n",
    "    * You lose half the points if your code is not correct; subsequent points\n",
    "      can be lost for poor code organization.\n",
    "- 0-2 Points for your prediction and the reasoning that goes into it\n",
    "- 0-8 Points for the notebook:\n",
    "    * 0-2 points for how well the notebook tracks your `git` history: did we find the commits\n",
    "      used to generate the entries?  Is there an entry for all the major\n",
    "      aspects of your development?\n",
    "    * 0-3 points for your profiling evidence: is it present?  Does it seem to\n",
    "      indicate what you say it indicates?\n",
    "    * 0-3 points for your planning: do your proposed code changes follow\n",
    "      logically from the evidence?\n",
    "- **1 Bonus point** for the closest prediction to the actual highest bandwidth achieved\n",
    "- **1 Bonus point** for having versatile performance: if your code achieves bandwidths within 50% of the highest bandwidth achieved on that test for at least 50% of tests.\n",
    "      \n",
    "## Prediction\n",
    "\n",
    "Predict, without going under, the highest bandwidth on any individual test that any student will achieve on this assignment.  Assume only the CPUs are used.  Justify your prediction."
   ]
  },
  {
   "cell_type": "markdown",
   "metadata": {},
   "source": [
    "### Please kindly see the part above."
   ]
  },
  {
   "cell_type": "markdown",
   "metadata": {},
   "source": [
    "  \n",
    "## Notebook\n",
    "\n",
    "Please put your notebook documenting your measurements, thought processes, models, etc. from your work on this project"
   ]
  },
  {
   "cell_type": "markdown",
   "metadata": {},
   "source": [
    "### Please kindly see the report process above."
   ]
  },
  {
   "cell_type": "code",
   "execution_count": null,
   "metadata": {},
   "outputs": [],
   "source": []
  }
 ],
 "metadata": {
  "kernelspec": {
   "display_name": "Bash",
   "language": "bash",
   "name": "bash"
  },
  "language_info": {
   "codemirror_mode": "shell",
   "file_extension": ".sh",
   "mimetype": "text/x-sh",
   "name": "bash"
  }
 },
 "nbformat": 4,
 "nbformat_minor": 2
}
