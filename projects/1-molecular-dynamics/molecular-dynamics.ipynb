{
 "cells": [
  {
   "cell_type": "markdown",
   "metadata": {},
   "source": [
    "# Project 1: Molecular Dynamics with OpenMP\n",
    "\n",
    "This assignment is due in two weeks time, by **9:30 am on Thursday October 3rd**.\n",
    "\n",
    "**You may work in pairs on this assignment:** When you officially submit this project on Canvas, you should indicate in the text submission field on Canvas:\n",
    "\n",
    "- Who, if anyone you are working with\n",
    "- If you are working in pairs, indicater whether the repository to be graded is yours or your partner's.\n",
    "- Which commit of your repository you would like to be graded (we will grade the `master` branch by default if no choice is made)"
   ]
  },
  {
   "cell_type": "markdown",
   "metadata": {},
   "source": [
    "**Which type of node are you using?** Because OpenMP can be used to program the GPUs, you may choose to optimize the application for any of the three types of nodes used in this class.  Declare the type of node you would like to use here:\n",
    "\n",
    "**This notebook should be run on a node with #\\_\\_ CPU cores and #\\_ Tesla \\_\\_\\_\\_ GPUs**"
   ]
  },
  {
   "cell_type": "markdown",
   "metadata": {
    "slideshow": {
     "slide_type": "slide"
    }
   },
   "source": [
    "If you will not use the GPUs, you should use the following modules:"
   ]
  },
  {
   "cell_type": "code",
   "execution_count": 1,
   "metadata": {},
   "outputs": [
    {
     "name": "stdout",
     "output_type": "stream",
     "text": [
      " =========================================================================\n",
      "|                                                                         |\n",
      "|       A note about python/3.6:                                          |\n",
      "|       PACE is lacking the staff to install all of the python 3          |\n",
      "|       modules, but we do maintain an anaconda distribution for          |\n",
      "|       both python 2 and python 3. As conda significantly reduces        |\n",
      "|       the overhead with package management, we would much prefer        |\n",
      "|       to maintain python 3 through anaconda.                            |\n",
      "|                                                                         |\n",
      "|       All pace installed modules are visible via the module avail       |\n",
      "|       command.                                                          |\n",
      "|                                                                         |\n",
      " =========================================================================\n"
     ]
    }
   ],
   "source": [
    "module use $CSE6230_DIR/modulefiles\n",
    "module load cse6230/core"
   ]
  },
  {
   "cell_type": "markdown",
   "metadata": {},
   "source": [
    "If you will use the GPUs, you should use the following modules:"
   ]
  },
  {
   "cell_type": "code",
   "execution_count": null,
   "metadata": {},
   "outputs": [],
   "source": [
    "# module use $CSE6230_DIR/modulefiles\n",
    "# module load cse6230/gcc-omp-gpu"
   ]
  },
  {
   "cell_type": "markdown",
   "metadata": {},
   "source": [
    "(I've included a set of makefile rules for GNU-based builds: you can use `make MAKERULES=gcc` wherever you would use make and it should work.  You should do this if you are using the `gcc-omp-gpu` module or if you are developing on your laptop and don't have the intel compilers)\n",
    "\n",
    "## About this program\n",
    "\n",
    "The code for this assignment started out almost exactly the same as your third assignment with interacting particles.  We saw in that assignment the way that $O(n^2)$ interactions in an $n$-body simulation dominate the rest of the operations.  This project shows an attempt to return that work complexity from $O(n^2)$ back down to $O(n)$ or thereabouts.\n",
    "  \n",
    "Some of the potentials that define interactions in molecular dynamics decay *quite* rapidly.  So rapidly, that it is not a terrible approximation to assign to each particle an effective **radius $r$**.  If two particles are not touching (that is if their centers are more than $2r$ apart), then the interactions can safely be ignored (particularly if it will be drowned out relative to the background *Brownian* noise that we saw last week).  In side of $2r$, then the overlapping particles start pushing each other apart.\n",
    "\n",
    "If you'd like to see the particulars of this assignments force due to interactions, you can look at `steric.h`, so called because the force approximate [steric effects](https://en.wikipedia.org/wiki/Steric_effects)."
   ]
  },
  {
   "cell_type": "code",
   "execution_count": 2,
   "metadata": {},
   "outputs": [
    {
     "name": "stdout",
     "output_type": "stream",
     "text": [
      "\u001b[36m#\u001b[39;49;00m\u001b[36mif !defined(STERIC_H)\u001b[39;49;00m\u001b[36m\u001b[39;49;00m\n",
      "\u001b[36m#\u001b[39;49;00m\u001b[36mdefine      STERIC_H\u001b[39;49;00m\u001b[36m\u001b[39;49;00m\n",
      "\n",
      "\u001b[36m#\u001b[39;49;00m\u001b[36minclude\u001b[39;49;00m \u001b[37m<math.h>\u001b[39;49;00m\u001b[36m\u001b[39;49;00m\n",
      "\n",
      "\n",
      "\u001b[37m/* This kernel should be called if the distance between two particles is less\u001b[39;49;00m\n",
      "\u001b[37m * than twice the particle radius */\u001b[39;49;00m\n",
      "\u001b[34mstatic\u001b[39;49;00m \u001b[34minline\u001b[39;49;00m \u001b[36mvoid\u001b[39;49;00m\n",
      "\u001b[32mforce_in_range\u001b[39;49;00m (\u001b[36mdouble\u001b[39;49;00m k, \u001b[37m/* The interaction strength (may be scaled by the time step already)\u001b[39;49;00m \u001b[04m\u001b[31;01m*/\u001b[39;49;00m\n",
      "                \u001b[36mdouble\u001b[39;49;00m r, \u001b[37m/* The radius of a particle.  Two particles interact if they intersect */\u001b[39;49;00m\n",
      "                \u001b[36mdouble\u001b[39;49;00m R, \u001b[37m/* The distance between these two particles */\u001b[39;49;00m\n",
      "                \u001b[36mdouble\u001b[39;49;00m dx, \u001b[36mdouble\u001b[39;49;00m dy, \u001b[36mdouble\u001b[39;49;00m dz, \u001b[37m/* The displacement from particle 2 to particle 1 */\u001b[39;49;00m\n",
      "                \u001b[36mdouble\u001b[39;49;00m f[\u001b[34m3\u001b[39;49;00m]) \u001b[37m/* The output force exerted on particle 1 by particle 2 */\u001b[39;49;00m\n",
      "{\n",
      "  \u001b[37m/* The interaction strength starts at 0 when they are just touching,\u001b[39;49;00m\n",
      "\u001b[37m   * becoming infinite as the distance becomes zero */\u001b[39;49;00m\n",
      "  \u001b[36mdouble\u001b[39;49;00m strength = (\u001b[34m2.\u001b[39;49;00m * r - R) / R;\n",
      "\n",
      "  f[\u001b[34m0\u001b[39;49;00m] = k * strength * dx;\n",
      "  f[\u001b[34m1\u001b[39;49;00m] = k * strength * dy;\n",
      "  f[\u001b[34m2\u001b[39;49;00m] = k * strength * dz;\n",
      "}\n",
      "\n",
      "\u001b[37m/* get the square distance and displacement between two particles under periodic\u001b[39;49;00m\n",
      "\u001b[37m * conditions */\u001b[39;49;00m\n",
      "\u001b[34mstatic\u001b[39;49;00m \u001b[34minline\u001b[39;49;00m \u001b[36mdouble\u001b[39;49;00m\n",
      "\u001b[32mdist_and_disp\u001b[39;49;00m (\u001b[36mdouble\u001b[39;49;00m x1, \u001b[36mdouble\u001b[39;49;00m y1, \u001b[36mdouble\u001b[39;49;00m z1, \u001b[37m/* The center of the first particle */\u001b[39;49;00m\n",
      "               \u001b[36mdouble\u001b[39;49;00m x2, \u001b[36mdouble\u001b[39;49;00m y2, \u001b[36mdouble\u001b[39;49;00m z2, \u001b[37m/* The center of the second particle */\u001b[39;49;00m\n",
      "               \u001b[36mdouble\u001b[39;49;00m L, \u001b[37m/* The width of the periodic domain */\u001b[39;49;00m\n",
      "               \u001b[36mdouble\u001b[39;49;00m *Dx, \u001b[36mdouble\u001b[39;49;00m *Dy, \u001b[36mdouble\u001b[39;49;00m *Dz)\n",
      "{\n",
      "  \u001b[36mdouble\u001b[39;49;00m dx, dy, dz;\n",
      "  *Dx = dx = remainder(x1 - x2, L);\n",
      "  *Dy = dy = remainder(y1 - y2, L);\n",
      "  *Dz = dz = remainder(z1 - z2, L);\n",
      "\n",
      "  \u001b[34mreturn\u001b[39;49;00m dx*dx + dy*dy + dz*dz;\n",
      "}\n",
      "\n",
      "\u001b[34mstatic\u001b[39;49;00m \u001b[34minline\u001b[39;49;00m \u001b[36mvoid\u001b[39;49;00m\n",
      "\u001b[32mforce\u001b[39;49;00m (\u001b[36mdouble\u001b[39;49;00m k, \u001b[37m/* The interaction strength (may be scaled by the time step already)\u001b[39;49;00m \u001b[04m\u001b[31;01m*/\u001b[39;49;00m\n",
      "       \u001b[36mdouble\u001b[39;49;00m r, \u001b[37m/* The radius of a particle.  Two particles interact if they intersect */\u001b[39;49;00m\n",
      "       \u001b[36mdouble\u001b[39;49;00m L, \u001b[37m/* The width of the periodic domain */\u001b[39;49;00m\n",
      "       \u001b[36mdouble\u001b[39;49;00m x1, \u001b[36mdouble\u001b[39;49;00m y1, \u001b[36mdouble\u001b[39;49;00m z1, \u001b[37m/* The center of the first particle */\u001b[39;49;00m\n",
      "       \u001b[36mdouble\u001b[39;49;00m x2, \u001b[36mdouble\u001b[39;49;00m y2, \u001b[36mdouble\u001b[39;49;00m z2, \u001b[37m/* The center of the second particle */\u001b[39;49;00m\n",
      "       \u001b[36mdouble\u001b[39;49;00m f[\u001b[34m3\u001b[39;49;00m]) \u001b[37m/* The output force exterted on particle 1 by particle 2 */\u001b[39;49;00m\n",
      "{\n",
      "  \u001b[36mdouble\u001b[39;49;00m dx, dy, dz;\n",
      "  \u001b[36mdouble\u001b[39;49;00m R2;\n",
      "  \u001b[36mdouble\u001b[39;49;00m r2 = \u001b[34m4.\u001b[39;49;00m * r * r;\n",
      "\n",
      "  R2 = dist_and_disp (x1, y1, z1, x2, y2, z2, L, &dx, &dy, &dz);\n",
      "\n",
      "  \u001b[37m/* If the distance between the centers is less than twice the radius, they\u001b[39;49;00m\n",
      "\u001b[37m   * interact */\u001b[39;49;00m\n",
      "  \u001b[34mif\u001b[39;49;00m (R2 < r2) {\n",
      "    \u001b[36mdouble\u001b[39;49;00m R = sqrt(R2);\n",
      "\n",
      "    \u001b[37m//printf(\"(%g,%g,%g)(%g,%g,%g)\\n\",x1, y1, z1, x2, y2, z2);\u001b[39;49;00m\n",
      "\n",
      "    force_in_range (k, r, R, dx, dy, dz, f);\n",
      "  }\n",
      "  \u001b[34melse\u001b[39;49;00m {\n",
      "    f[\u001b[34m0\u001b[39;49;00m] = f[\u001b[34m1\u001b[39;49;00m] = f[\u001b[34m2\u001b[39;49;00m] = \u001b[34m0.\u001b[39;49;00m;\n",
      "  }\n",
      "}\n",
      "\n",
      "\n",
      "\u001b[36m#\u001b[39;49;00m\u001b[36mendif\u001b[39;49;00m\u001b[36m\u001b[39;49;00m\n"
     ]
    }
   ],
   "source": [
    "pygmentize steric.h"
   ]
  },
  {
   "cell_type": "markdown",
   "metadata": {},
   "source": [
    "(If you find part of your program is compute bound, you are welcome to change the implementations in `steric.h`, as long as your still calculate the same function)"
   ]
  },
  {
   "cell_type": "markdown",
   "metadata": {},
   "source": [
    "Now, suppose that our particles bounce around and repel each other until they are roughly in equilibrium.  We would expect that they would be well spread out, and that the chance of any two particles interacting would be no more likely than two particles placed at random.\n",
    "\n",
    "A particle interacts with any particle within a range of $2*r$, which means that around each particle there is a sphere with volume $V_p = \\frac{4}{3}\\pi (2r)^3\\approx 33 r^3$: any particle whose center is outside of that cell does not interact.  Suppose the volume of the periodic domain is $V_D$, and there are $N_p$ particles.  Then if the other $N_p - 1$ particles are distributed at random, then we expect $V_p (N_p - 1)/ V_D$ of those particles to interact with the particle in question.  Therefore we might expect $N_p V_p (N_p - 1) / 2 V_D$ interactions in total.\n",
    "\n",
    "What's the point of this calculation?  Well, when run a periodic simulation, we are trying to approximate a larger domain with a fixed *density* of particles per volume.  Thus, if we consider $\\phi = N_p/ V_D$ to be a fixed density of the problem we are trying to simulate, then the number of interactions is $\\approx (N_p - 1) \\phi / 2$.\n",
    "*We should expect the number of interactions to scale linearly with the number of particles if we keep $\\phi$ fixed.*"
   ]
  },
  {
   "cell_type": "markdown",
   "metadata": {},
   "source": [
    "So how can we exploit the fact that only $O(N_p)$ interactions are expected instead of $O(N_p^2)$?  In our acceleration routine, we should try to rule out particles from interacting with each other.\n",
    "\n",
    "One way to do this is *binning*: we divide up our periodic domain $[-L/2,L/2)^3$ into a grid of $b$ boxes per dimension, $b^3$ boxes total.  An algorithm would look like the following:\n",
    "\n",
    "1. Given each particles coordinates, assign it to the appropriate box.\n",
    "2. If the length of a box $(L / b)$ is longer than $2r$, then every particle can only interact with particles\n",
    "  - In its own box,\n",
    "  - In neighboring boxes\n",
    "3. So loop over neighboring boxes and create a list of *pairs of particles* that are close enough to interact."
   ]
  },
  {
   "cell_type": "markdown",
   "metadata": {},
   "source": [
    "This is what is done now in `accelerate.c`: there is an interaction \"object\" that handles the internals of binning particles into boxes: it returns a list of pairs on request.\n",
    "\n",
    "The previous $O(N_p^2)$ calculation is available for comparison and debugging purposes."
   ]
  },
  {
   "cell_type": "code",
   "execution_count": 3,
   "metadata": {},
   "outputs": [
    {
     "name": "stdout",
     "output_type": "stream",
     "text": [
      "\u001b[34mstatic\u001b[39;49;00m \u001b[36mvoid\u001b[39;49;00m\n",
      "\u001b[32maccelerate_ix\u001b[39;49;00m (Accel accel, Vector X, Vector U)\n",
      "{\n",
      "  IX ix = accel->ix;\n",
      "  \u001b[36mint\u001b[39;49;00m Np = X->Np;\n",
      "  \u001b[36mint\u001b[39;49;00m Npairs;\n",
      "  ix_pair *pairs;\n",
      "  \u001b[36mdouble\u001b[39;49;00m L = accel->L;\n",
      "  \u001b[36mdouble\u001b[39;49;00m k = accel->k;\n",
      "  \u001b[36mdouble\u001b[39;49;00m r = accel->r;\n",
      "\n",
      "  \u001b[34mfor\u001b[39;49;00m (\u001b[36mint\u001b[39;49;00m i = \u001b[34m0\u001b[39;49;00m; i < Np; i++) {\n",
      "    \u001b[34mfor\u001b[39;49;00m (\u001b[36mint\u001b[39;49;00m j = \u001b[34m0\u001b[39;49;00m; j < \u001b[34m3\u001b[39;49;00m; j++) {\n",
      "      IDX(U,j,i) = \u001b[34m0.\u001b[39;49;00m;\n",
      "    }\n",
      "  }\n",
      "\n",
      "  IXGetPairs (ix, X, \u001b[34m2.\u001b[39;49;00m*r, &Npairs, &pairs);\n",
      "  \u001b[34mfor\u001b[39;49;00m (\u001b[36mint\u001b[39;49;00m p = \u001b[34m0\u001b[39;49;00m; p < Npairs; p++) {\n",
      "    \u001b[36mint\u001b[39;49;00m i = pairs[p].p[\u001b[34m0\u001b[39;49;00m];\n",
      "    \u001b[36mint\u001b[39;49;00m j = pairs[p].p[\u001b[34m1\u001b[39;49;00m];\n",
      "    \u001b[36mdouble\u001b[39;49;00m du[\u001b[34m3\u001b[39;49;00m];\n",
      "\n",
      "    force (k, r, L, IDX(X,\u001b[34m0\u001b[39;49;00m,i), IDX(X,\u001b[34m1\u001b[39;49;00m,i), IDX(X,\u001b[34m2\u001b[39;49;00m,i), IDX(X,\u001b[34m0\u001b[39;49;00m,j), IDX(X,\u001b[34m1\u001b[39;49;00m,j), IDX(X,\u001b[34m2\u001b[39;49;00m,j), du);\n",
      "\n",
      "    \u001b[34mfor\u001b[39;49;00m (\u001b[36mint\u001b[39;49;00m d = \u001b[34m0\u001b[39;49;00m; d < \u001b[34m3\u001b[39;49;00m; d++) {\n",
      "      IDX(U,d,i) += du[d];\n",
      "      IDX(U,d,j) -= du[d];\n",
      "    }\n",
      "  }\n",
      "  IXRestorePairs (ix, X, \u001b[34m2.\u001b[39;49;00m*r, &Npairs, &pairs);\n",
      "}\n"
     ]
    }
   ],
   "source": [
    "sed -n '54,85 p' accelerate.c | pygmentize -l c"
   ]
  },
  {
   "cell_type": "markdown",
   "metadata": {},
   "source": [
    "## Your task\n",
    "\n",
    "You're free to make just about any changes you'd like to the code.  The `cloud` program is currently a functioning serial program with a small amount of OpenMP already mixed in.  Below is a sequence of problems of increasing size $N_p$ but fixed density.\n",
    "\n",
    "You should specify OpenMP environment variables before this loop that will be used by the programs."
   ]
  },
  {
   "cell_type": "code",
   "execution_count": null,
   "metadata": {},
   "outputs": [],
   "source": [
    "# export OMP_NUM_THREADS=...\n",
    "# export OMP_PROC_BIND=...\n",
    "# export OMP_SCHEDULE=...\n",
    "# etc."
   ]
  },
  {
   "cell_type": "code",
   "execution_count": 5,
   "metadata": {},
   "outputs": [
    {
     "name": "stdout",
     "output_type": "stream",
     "text": [
      "make --silent clean\n",
      "make --silent cloud\n",
      "icc: remark #10397: optimization reports are generated in *.optrpt files in the output location\n",
      "icc: remark #10397: optimization reports are generated in *.optrpt files in the output location\n",
      "icc: remark #10397: optimization reports are generated in *.optrpt files in the output location\n",
      "icc: remark #10397: optimization reports are generated in *.optrpt files in the output location\n",
      "icc: remark #10397: optimization reports are generated in *.optrpt files in the output location\n",
      "icc: remark #10397: optimization reports are generated in *.optrpt files in the output location\n",
      "icc: remark #10397: optimization reports are generated in *.optrpt files in the output location\n",
      "perf stat ./cloud 256 25600 1.e-4 100. 1. 20 1.\n",
      "[./cloud] NUM_POINTS=256, NUM_STEPS=25600, CHUNK_SIZE=25600, DT=0.0001, K=100, D=1, L=20, R=1\n",
      "With 256 particles of radius 1 and a box width of 20.000000, the volume fraction is 0.134041.\n",
      "The interaction volume is 33.5103, so we expect 1.07233 interactions per particle, 137.258 overall.\n",
      "\n",
      " Performance counter stats for './cloud 256 25600 1.e-4 100. 1. 20 1.':\n",
      "\n",
      "      14033.139682      task-clock (msec)         #    1.001 CPUs utilized          \n",
      "                46      context-switches          #    0.003 K/sec                  \n",
      "                 0      cpu-migrations            #    0.000 K/sec                  \n",
      "               584      page-faults               #    0.042 K/sec                  \n",
      "    46,229,603,407      cycles                    #    3.294 GHz                    \n",
      "   <not supported>      stalled-cycles-frontend  \n",
      "   <not supported>      stalled-cycles-backend   \n",
      "    75,044,615,473      instructions              #    1.62  insns per cycle        \n",
      "    11,007,339,609      branches                  #  784.382 M/sec                  \n",
      "       157,650,330      branch-misses             #    1.43% of all branches        \n",
      "\n",
      "      14.024503229 seconds time elapsed\n",
      "\n",
      "make --silent clean\n",
      "make --silent cloud\n",
      "icc: remark #10397: optimization reports are generated in *.optrpt files in the output location\n",
      "icc: remark #10397: optimization reports are generated in *.optrpt files in the output location\n",
      "icc: remark #10397: optimization reports are generated in *.optrpt files in the output location\n",
      "icc: remark #10397: optimization reports are generated in *.optrpt files in the output location\n",
      "icc: remark #10397: optimization reports are generated in *.optrpt files in the output location\n",
      "icc: remark #10397: optimization reports are generated in *.optrpt files in the output location\n",
      "icc: remark #10397: optimization reports are generated in *.optrpt files in the output location\n",
      "perf stat ./cloud 512 6400 1.e-4 100. 1. 25.1926 1.\n",
      "[./cloud] NUM_POINTS=512, NUM_STEPS=6400, CHUNK_SIZE=6400, DT=0.0001, K=100, D=1, L=25.1926, R=1\n",
      "With 512 particles of radius 1 and a box width of 25.192600, the volume fraction is 0.134134.\n",
      "The interaction volume is 33.5103, so we expect 1.07307 interactions per particle, 274.707 overall.\n",
      "\n",
      " Performance counter stats for './cloud 512 6400 1.e-4 100. 1. 25.1926 1.':\n",
      "\n",
      "      12527.597975      task-clock (msec)         #    1.000 CPUs utilized          \n",
      "                45      context-switches          #    0.004 K/sec                  \n",
      "                 0      cpu-migrations            #    0.000 K/sec                  \n",
      "               590      page-faults               #    0.047 K/sec                  \n",
      "    41,277,734,659      cycles                    #    3.295 GHz                    \n",
      "   <not supported>      stalled-cycles-frontend  \n",
      "   <not supported>      stalled-cycles-backend   \n",
      "    72,071,693,973      instructions              #    1.75  insns per cycle        \n",
      "    10,776,279,176      branches                  #  860.203 M/sec                  \n",
      "        69,080,128      branch-misses             #    0.64% of all branches        \n",
      "\n",
      "      12.524094910 seconds time elapsed\n",
      "\n",
      "make --silent clean\n",
      "make --silent cloud\n",
      "icc: remark #10397: optimization reports are generated in *.optrpt files in the output location\n",
      "icc: remark #10397: optimization reports are generated in *.optrpt files in the output location\n",
      "icc: remark #10397: optimization reports are generated in *.optrpt files in the output location\n",
      "icc: remark #10397: optimization reports are generated in *.optrpt files in the output location\n",
      "icc: remark #10397: optimization reports are generated in *.optrpt files in the output location\n",
      "icc: remark #10397: optimization reports are generated in *.optrpt files in the output location\n",
      "icc: remark #10397: optimization reports are generated in *.optrpt files in the output location\n",
      "perf stat ./cloud 1024 1600 1.e-4 100. 1. 31.7334 1.\n",
      "[./cloud] NUM_POINTS=1024, NUM_STEPS=1600, CHUNK_SIZE=1600, DT=0.0001, K=100, D=1, L=31.7334, R=1\n",
      "With 1024 particles of radius 1 and a box width of 31.733400, the volume fraction is 0.134227.\n",
      "The interaction volume is 33.5103, so we expect 1.07381 interactions per particle, 549.792 overall.\n",
      "\n",
      " Performance counter stats for './cloud 1024 1600 1.e-4 100. 1. 31.7334 1.':\n",
      "\n",
      "      11870.610461      task-clock (msec)         #    1.000 CPUs utilized          \n",
      "                44      context-switches          #    0.004 K/sec                  \n",
      "                 0      cpu-migrations            #    0.000 K/sec                  \n",
      "               600      page-faults               #    0.051 K/sec                  \n",
      "    39,094,559,769      cycles                    #    3.293 GHz                    \n",
      "   <not supported>      stalled-cycles-frontend  \n",
      "   <not supported>      stalled-cycles-backend   \n",
      "    70,487,474,610      instructions              #    1.80  insns per cycle        \n",
      "    10,634,329,558      branches                  #  895.854 M/sec                  \n",
      "        35,599,301      branch-misses             #    0.33% of all branches        \n",
      "\n",
      "      11.867447082 seconds time elapsed\n",
      "\n",
      "make --silent clean\n",
      "make --silent cloud\n",
      "icc: remark #10397: optimization reports are generated in *.optrpt files in the output location\n",
      "icc: remark #10397: optimization reports are generated in *.optrpt files in the output location\n",
      "icc: remark #10397: optimization reports are generated in *.optrpt files in the output location\n",
      "icc: remark #10397: optimization reports are generated in *.optrpt files in the output location\n",
      "icc: remark #10397: optimization reports are generated in *.optrpt files in the output location\n",
      "icc: remark #10397: optimization reports are generated in *.optrpt files in the output location\n",
      "icc: remark #10397: optimization reports are generated in *.optrpt files in the output location\n",
      "perf stat ./cloud 2048 400 1.e-4 100. 1. 39.9723 1.\n",
      "[./cloud] NUM_POINTS=2048, NUM_STEPS=400, CHUNK_SIZE=400, DT=0.0001, K=100, D=1, L=39.9723, R=1\n",
      "With 2048 particles of radius 1 and a box width of 39.972300, the volume fraction is 0.13432.\n",
      "The interaction volume is 33.5103, so we expect 1.07456 interactions per particle, 1100.35 overall.\n",
      "\n",
      " Performance counter stats for './cloud 2048 400 1.e-4 100. 1. 39.9723 1.':\n",
      "\n",
      "      11536.999394      task-clock (msec)         #    1.001 CPUs utilized          \n",
      "                42      context-switches          #    0.004 K/sec                  \n",
      "                 0      cpu-migrations            #    0.000 K/sec                  \n",
      "               620      page-faults               #    0.054 K/sec                  \n",
      "    38,015,400,842      cycles                    #    3.295 GHz                    \n",
      "   <not supported>      stalled-cycles-frontend  \n",
      "   <not supported>      stalled-cycles-backend   \n",
      "    69,629,918,286      instructions              #    1.83  insns per cycle        \n",
      "    10,546,673,223      branches                  #  914.161 M/sec                  \n",
      "        17,820,102      branch-misses             #    0.17% of all branches        \n",
      "\n",
      "      11.531132050 seconds time elapsed\n",
      "\n",
      "make --silent clean\n",
      "make --silent cloud\n",
      "icc: remark #10397: optimization reports are generated in *.optrpt files in the output location\n",
      "icc: remark #10397: optimization reports are generated in *.optrpt files in the output location\n",
      "icc: remark #10397: optimization reports are generated in *.optrpt files in the output location\n",
      "icc: remark #10397: optimization reports are generated in *.optrpt files in the output location\n"
     ]
    },
    {
     "name": "stdout",
     "output_type": "stream",
     "text": [
      "icc: remark #10397: optimization reports are generated in *.optrpt files in the output location\n",
      "icc: remark #10397: optimization reports are generated in *.optrpt files in the output location\n",
      "icc: remark #10397: optimization reports are generated in *.optrpt files in the output location\n",
      "perf stat ./cloud 4096 100 1.e-4 100. 1. 50.3503 1.\n",
      "[./cloud] NUM_POINTS=4096, NUM_STEPS=100, CHUNK_SIZE=100, DT=0.0001, K=100, D=1, L=50.3503, R=1\n",
      "With 4096 particles of radius 1 and a box width of 50.350300, the volume fraction is 0.134413.\n",
      "The interaction volume is 33.5103, so we expect 1.07531 interactions per particle, 2202.23 overall.\n",
      "\n",
      " Performance counter stats for './cloud 4096 100 1.e-4 100. 1. 50.3503 1.':\n",
      "\n",
      "      11378.946088      task-clock (msec)         #    1.000 CPUs utilized          \n",
      "                42      context-switches          #    0.004 K/sec                  \n",
      "                 1      cpu-migrations            #    0.000 K/sec                  \n",
      "               660      page-faults               #    0.058 K/sec                  \n",
      "    37,480,302,368      cycles                    #    3.294 GHz                    \n",
      "   <not supported>      stalled-cycles-frontend  \n",
      "   <not supported>      stalled-cycles-backend   \n",
      "    69,195,354,797      instructions              #    1.85  insns per cycle        \n",
      "    10,503,186,584      branches                  #  923.037 M/sec                  \n",
      "         8,877,825      branch-misses             #    0.08% of all branches        \n",
      "\n",
      "      11.374951562 seconds time elapsed\n",
      "\n",
      "make --silent clean\n",
      "make --silent cloud\n",
      "icc: remark #10397: optimization reports are generated in *.optrpt files in the output location\n",
      "icc: remark #10397: optimization reports are generated in *.optrpt files in the output location\n",
      "icc: remark #10397: optimization reports are generated in *.optrpt files in the output location\n",
      "icc: remark #10397: optimization reports are generated in *.optrpt files in the output location\n",
      "icc: remark #10397: optimization reports are generated in *.optrpt files in the output location\n",
      "icc: remark #10397: optimization reports are generated in *.optrpt files in the output location\n",
      "icc: remark #10397: optimization reports are generated in *.optrpt files in the output location\n",
      "perf stat ./cloud 8192 25 1.e-4 100. 1. 63.4227 1.\n",
      "[./cloud] NUM_POINTS=8192, NUM_STEPS=25, CHUNK_SIZE=25, DT=0.0001, K=100, D=1, L=63.4227, R=1\n",
      "With 8192 particles of radius 1 and a box width of 63.422700, the volume fraction is 0.134507.\n",
      "The interaction volume is 33.5103, so we expect 1.07605 interactions per particle, 4407.52 overall.\n",
      "\n",
      " Performance counter stats for './cloud 8192 25 1.e-4 100. 1. 63.4227 1.':\n",
      "\n",
      "      11812.290255      task-clock (msec)         #    1.000 CPUs utilized          \n",
      "                65      context-switches          #    0.006 K/sec                  \n",
      "                11      cpu-migrations            #    0.001 K/sec                  \n",
      "               741      page-faults               #    0.063 K/sec                  \n",
      "    37,368,880,889      cycles                    #    3.164 GHz                    \n",
      "   <not supported>      stalled-cycles-frontend  \n",
      "   <not supported>      stalled-cycles-backend   \n",
      "    68,978,118,423      instructions              #    1.85  insns per cycle        \n",
      "    10,481,876,455      branches                  #  887.370 M/sec                  \n",
      "         4,038,593      branch-misses             #    0.04% of all branches        \n",
      "\n",
      "      11.809938282 seconds time elapsed\n",
      "\n"
     ]
    }
   ],
   "source": [
    "for N_p in 1 2 4 8 16 32; do\n",
    "  this_L=`echo \"$N_p 0.333 20.\" | awk '{ print ($3 * $1^$2); }'`\n",
    "  this_T=`echo \"$N_p 25600\" | awk '{ print ($2 / ($1 * $1)); }'`\n",
    "  make runcloud NP=$(( 256*$N_p )) L=$this_L NT=$this_T PERF=\"perf stat\"\n",
    "done"
   ]
  },
  {
   "cell_type": "markdown",
   "metadata": {},
   "source": [
    "However, you code must still be correct:  an effective diffusion coefficient can be computed for the type of particles you are simulating.  The following diffusion coefficient calculation should stay in the range of 0.77-0.92:"
   ]
  },
  {
   "cell_type": "code",
   "execution_count": 2,
   "metadata": {},
   "outputs": [
    {
     "name": "stdout",
     "output_type": "stream",
     "text": [
      "make --silent clean\n",
      "make --silent cloud\n",
      "icc: remark #10397: optimization reports are generated in *.optrpt files in the output location\n",
      "icc: remark #10397: optimization reports are generated in *.optrpt files in the output location\n",
      "icc: remark #10397: optimization reports are generated in *.optrpt files in the output location\n",
      "icc: remark #10397: optimization reports are generated in *.optrpt files in the output location\n",
      "icc: remark #10397: optimization reports are generated in *.optrpt files in the output location\n",
      "icc: remark #10397: optimization reports are generated in *.optrpt files in the output location\n",
      "icc: remark #10397: optimization reports are generated in *.optrpt files in the output location\n",
      "./cloud 512 51000 1.e-4 100. 1. 25.198421 1. 1000 check | python3 check.py\n",
      "Diffusion constant: [ 0.87511503]\n"
     ]
    }
   ],
   "source": [
    "make checkcloud NP=512 L=25.198421 NT=51000 CHUNK=1000"
   ]
  },
  {
   "cell_type": "markdown",
   "metadata": {},
   "source": [
    "## Grading\n",
    "\n",
    "### 4 pts: Hassle-free usage: if the bash script that is generated by `jupyter convert` from this notebook runs without issue\n",
    "\n",
    "### 6 pts: For code that correctly parallelizes all critical kernels (including the binning calculations in `interactions.c`)\n",
    " \n",
    "- A correct diffusion coefficient is required for correctness\n",
    "- If your code is not correct, points can be salvaged with *legible code* that describes what changes you are making\n",
    "\n",
    "### 6 pts: Speed.  Any (correct) code that is the fastest on one of the benchmark problem sizes (for the node type you have selected) automatically gets 6 pts.  Code that does not outperform the initial version on any benchmark gets no points.  1 point will be available for each benchmark problem that shows non-trivial improvements in performance.\n",
    "\n",
    "**Significant improvement is defined by the following speedups for the benchmark problems:**\n",
    "\n",
    "- `N_p = 1`: 2x\n",
    "- `N_p = 2`: 5x\n",
    "- `N_p = 4, 8, 16, 32`: 9x\n",
    "\n",
    "### 4 pts: Report.  In a cell below this one, describe the optimizations that you made and why you made them.\n",
    "\n",
    "- Full points will require evidence (such as a screenshot) from `hpctoolkit` or some other profiling utility that motivates or justifies your changes.\n",
    "- Points will be awarded for optimizations that you tried that did not work as long as you have a good explanation for why you tried them and why they didn't work."
   ]
  },
  {
   "cell_type": "markdown",
   "metadata": {},
   "source": [
    "## Advice\n",
    "\n",
    "- **My experience in the past:** Detailed git histories are correlated with better performance!\n",
    "- **Understand your code before you try to change it:**\n",
    "    - In addition to profiling utilities, it might be useful to add timers to\n",
    "      individual routines.  The division of the program into objects that control\n",
    "      different aspects of the code should make easy to, say, add a timer\n",
    "      in one place without changing the whole program.\n",
    "- **Simple problem parameters that can be changed:**\n",
    "    - The number of boxes per dimension\n",
    "    - The layout of vectors (array-of-structures or structure of arrays? see `vector.h`)\n",
    "    - The data structures used to assign particles to boxes (is a linked-list really best)?\n",
    "- **Avoid memory and other resource contention:**\n",
    "    - Anytime multiple threads are trying to write to locations close to each\n",
    "      other, it makes it difficult and expensive to make sure each thread has\n",
    "      an up-to-date copy of the memory that is changing.  This would happen,\n",
    "      for example, if many threads are writing to the `pairs` list in\n",
    "      the interactions routine.  Consider allocating a separate workspace for\n",
    "      each thread by, for example, giving each thread its own `pairs` array.\n",
    "      Then, once all threads are done computing their pairs, you can combine\n",
    "      the separate arrays into one array, or even change the interface of the\n",
    "      `interactions()` function so that it is multiple lists are returned.\n",
    "- **Find ways to avoid recomputing from scratch:**\n",
    "    - Can you use the layout of the particles from the last time step to help you\n",
    "      bin or find pairs in the next time step?\n",
    "- **You get to choose how many threads we use to evaluate your code:**\n",
    "    - There's nothing inherently wrong with achieving your best performance\n",
    "      using fewer than the maximum number of threads available on a node.  The\n",
    "      problem may simply not have enough concurrency to support every thread.\n",
    "- **Read through these performance slides for ideas:** [From Archer](https://www.archer.ac.uk/training/course-material/2015/12/ShMem_OpenMP_York/Slides/L09-performance.pdf)\n",
    "- **Reread the molecular dynamic notes from Prof. Chow to make sure you understand what we're trying to accomplish:** [Molecular dynamics and cell lists](https://www.cc.gatech.edu/%7Eechow/ipcc/hpc-course/05_celllist.pdf)"
   ]
  }
 ],
 "metadata": {
  "kernelspec": {
   "display_name": "Bash",
   "language": "bash",
   "name": "bash"
  },
  "language_info": {
   "codemirror_mode": "shell",
   "file_extension": ".sh",
   "mimetype": "text/x-sh",
   "name": "bash"
  }
 },
 "nbformat": 4,
 "nbformat_minor": 2
}
